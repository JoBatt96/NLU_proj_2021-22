{
  "cells": [
    {
      "cell_type": "markdown",
      "metadata": {
        "id": "N0OKJnGl6OL8"
      },
      "source": [
        "# Joy Battocchio 229367 NLU project 2021/2022\n",
        "This project consists in the implementation of three models, two of which that aim to surpass the baseline (*lab 10*) performances in slot filling and intent classification.\n",
        "\n",
        "In the second model I decided to solve this multi-task learning problem implementing an upgrade version of the baseline, with some smart changes but the same joint-model structure.\n",
        "The third model instead consists of a bi-model structure, in which the model for slot filling and the one for intent classification share their hidden state to carry a joint training.\n",
        "\n",
        "\n",
        "---\n",
        "**Training:** The baseline model and the second model have been trained from scratch 5 times and mean and standard deviation of their scores are calculated.\n",
        "After every run the weights of the model are initialized, while the optimizer parameters are not, so it avoids to re-compute the momentum every time, and the performances do not vary consistently, rather thanks to early stopping it boost the procedure and take less time to train.\n",
        "The third model (bi-model) has been trained only once because it took too long to get 5 complete trainings, but I tried it enough times to see that the performance did not changed considerably.\n",
        "\n",
        "**Evaluation:**  For Intent classification the accuracy is used, for slot filling instead f1-score. The evaluation procedure provides mean and standard deviation for both these indicators.\n",
        "All the other metrics are retrieved from the last run, since the standard deviation has shown to be small enough to do this approximation.\n",
        "With these informations the confusion matrices, and the scores table are provided for both dataset, and also the chart that shows the trend of the losses in training and validation sets.\n",
        "In the last model the loss is splitted for the two different tasks.\n"
      ]
    },
    {
      "cell_type": "markdown",
      "metadata": {
        "id": "1gHDeXggx5CB"
      },
      "source": [
        "## Data preparation"
      ]
    },
    {
      "cell_type": "markdown",
      "metadata": {
        "id": "AQ8470SFBc5W"
      },
      "source": [
        "This part in taken from lab 10"
      ]
    },
    {
      "cell_type": "code",
      "execution_count": 6,
      "metadata": {
        "colab": {
          "base_uri": "https://localhost:8080/"
        },
        "id": "Z-TD5-3RZNJF",
        "outputId": "aedc64b3-0d4e-467c-f917-e458f99fc127"
      },
      "outputs": [
        {
          "name": "stdout",
          "output_type": "stream",
          "text": [
            "Archive:  data.zip\n",
            "   creating: data/SNIPS/\n",
            "   creating: data/SNIPS/original/\n",
            "  inflating: data/SNIPS/test.json    \n",
            "  inflating: data/SNIPS/valid.json   \n",
            "  inflating: data/SNIPS/train.json   \n",
            "   creating: data/SNIPS/original/valid/\n",
            "   creating: data/SNIPS/original/test/\n",
            "   creating: data/SNIPS/original/train/\n",
            "  inflating: data/SNIPS/original/valid/label  \n",
            "  inflating: data/SNIPS/original/valid/seq.in  \n",
            "  inflating: data/SNIPS/original/valid/seq.out  \n",
            "  inflating: data/SNIPS/original/test/label  \n",
            "  inflating: data/SNIPS/original/test/seq.in  \n",
            "  inflating: data/SNIPS/original/test/seq.out  \n",
            "  inflating: data/SNIPS/original/train/label  \n",
            "  inflating: data/SNIPS/original/train/seq.in  \n",
            "  inflating: data/SNIPS/original/train/seq.out  \n",
            "   creating: data/ATIS/\n",
            "   creating: data/ATIS/original/\n",
            "  inflating: data/ATIS/test.json     \n",
            "  inflating: data/ATIS/train.json    \n",
            "  inflating: data/ATIS/original/atis.test.ctf  \n",
            "  inflating: data/ATIS/original/atis.train.ctf  \n",
            "  inflating: data/README.md          \n"
          ]
        }
      ],
      "source": [
        "#!unzip data.zip -d data"
      ]
    },
    {
      "cell_type": "code",
      "execution_count": 7,
      "metadata": {
        "id": "tHrFEIPUYv6y"
      },
      "outputs": [],
      "source": [
        "import random\n",
        "import numpy as np\n",
        "from sklearn.model_selection import train_test_split\n",
        "from collections import Counter\n",
        "import torch\n",
        "import os\n",
        "import json\n",
        "from pprint import pprint\n",
        "import torch.optim as optim\n",
        "import sklearn\n",
        "import matplotlib as mp\n",
        "import matplotlib.pyplot as plt\n",
        "import pandas as pd"
      ]
    },
    {
      "cell_type": "markdown",
      "metadata": {},
      "source": [
        "Spacy is used to retrieve sentence level features to add as input to the slot classifier, they are used only in the last model"
      ]
    },
    {
      "cell_type": "code",
      "execution_count": 8,
      "metadata": {
        "id": "BUsGkMLPNEGL"
      },
      "outputs": [],
      "source": [
        "import spacy\n",
        "import en_core_web_sm\n",
        "#spacy_nlp = spacy.load(\"en-core-web-sm\")\n",
        "\n",
        "nlp = en_core_web_sm.load()"
      ]
    },
    {
      "cell_type": "code",
      "execution_count": 9,
      "metadata": {
        "id": "GGThNo9OYv64"
      },
      "outputs": [],
      "source": [
        "# Global variables\n",
        "device = 'cuda:0' if torch.cuda.is_available() else 'cpu' # cuda:0 means we are using the GPU with id 0, if you have multiple GPU\n",
        "os.environ['CUDA_LAUNCH_BLOCKING'] = \"1\" # Used to report errors on CUDA side\n",
        "PAD_TOKEN = 0"
      ]
    },
    {
      "cell_type": "code",
      "execution_count": 10,
      "metadata": {
        "colab": {
          "base_uri": "https://localhost:8080/"
        },
        "id": "-IuSF6E5Yv66",
        "outputId": "4caf8ba1-2c16-46a5-d807-4fceea6e29cf"
      },
      "outputs": [
        {
          "name": "stdout",
          "output_type": "stream",
          "text": [
            "Train samples: 4978\n",
            "Test samples: 893\n",
            "{'intent': 'flight',\n",
            " 'slots': 'O O O O O B-fromloc.city_name O B-depart_time.time '\n",
            "          'I-depart_time.time O O O B-toloc.city_name O B-arrive_time.time O O '\n",
            "          'B-arrive_time.period_of_day',\n",
            " 'utterance': 'i want to fly from boston at 838 am and arrive in denver at '\n",
            "              '1110 in the morning'}\n"
          ]
        }
      ],
      "source": [
        "def load_data(path):\n",
        "    '''\n",
        "        input: path/to/data\n",
        "        output: json \n",
        "    '''\n",
        "    dataset = []\n",
        "    with open(path) as f:\n",
        "        dataset = json.loads(f.read())\n",
        "    return dataset\n",
        "\n",
        "tmp_train_raw_ATIS   = load_data(os.path.join('data','ATIS','train.json'))\n",
        "test_raw_ATIS = load_data(os.path.join('data','ATIS','test.json'))\n",
        "print('Train samples:', len(tmp_train_raw_ATIS))\n",
        "print('Test samples:', len(test_raw_ATIS))\n",
        "\n",
        "pprint(tmp_train_raw_ATIS[0])"
      ]
    },
    {
      "cell_type": "code",
      "execution_count": 11,
      "metadata": {
        "colab": {
          "base_uri": "https://localhost:8080/"
        },
        "id": "T63zrdK7Yv69",
        "outputId": "346976ff-ac6b-4fc6-f65d-18f6413a10a6"
      },
      "outputs": [
        {
          "name": "stdout",
          "output_type": "stream",
          "text": [
            "Train samples: 13084\n",
            "Test samples: 700\n",
            "valid samples: 700\n",
            "{'intent': 'PlayMusic',\n",
            " 'slots': 'O O B-artist O B-album O B-service I-service',\n",
            " 'utterance': 'listen to westbam alumb allergic on google music'}\n"
          ]
        }
      ],
      "source": [
        "train_raw_SNIPS   = load_data(os.path.join('data','SNIPS','train.json'))\n",
        "test_raw_SNIPS = load_data(os.path.join('data','SNIPS','test.json'))\n",
        "dev_raw_SNIPS = load_data(os.path.join('data','SNIPS','valid.json'))\n",
        "print('Train samples:', len(train_raw_SNIPS))\n",
        "print('Test samples:', len(test_raw_SNIPS))\n",
        "print('valid samples:', len(dev_raw_SNIPS))\n",
        "\n",
        "pprint(train_raw_SNIPS[0])"
      ]
    },
    {
      "cell_type": "code",
      "execution_count": 12,
      "metadata": {
        "colab": {
          "base_uri": "https://localhost:8080/"
        },
        "id": "OKYR8uA8Yv7B",
        "outputId": "5f4bbd78-1b68-4771-9169-b7854024ccfa"
      },
      "outputs": [
        {
          "name": "stdout",
          "output_type": "stream",
          "text": [
            "Train:\n",
            "{'abbreviation': 2.9000000000000004,\n",
            " 'aircraft': 1.6,\n",
            " 'airfare': 8.5,\n",
            " 'airline': 3.2,\n",
            " 'airline+flight_no': 0.0,\n",
            " 'airport': 0.4,\n",
            " 'capacity': 0.3,\n",
            " 'city': 0.4,\n",
            " 'distance': 0.4,\n",
            " 'flight': 73.7,\n",
            " 'flight+airfare': 0.4,\n",
            " 'flight_no': 0.3,\n",
            " 'flight_time': 1.0999999999999999,\n",
            " 'ground_fare': 0.4,\n",
            " 'ground_service': 5.1,\n",
            " 'meal': 0.1,\n",
            " 'quantity': 1.0,\n",
            " 'restriction': 0.1}\n",
            "Dev:\n",
            "{'abbreviation': 3.0,\n",
            " 'aircraft': 1.7000000000000002,\n",
            " 'airfare': 8.5,\n",
            " 'airline': 3.2,\n",
            " 'airport': 0.3,\n",
            " 'capacity': 0.3,\n",
            " 'city': 0.3,\n",
            " 'distance': 0.3,\n",
            " 'flight': 73.7,\n",
            " 'flight+airfare': 0.5,\n",
            " 'flight_no': 0.2,\n",
            " 'flight_time': 1.0,\n",
            " 'ground_fare': 0.3,\n",
            " 'ground_service': 5.2,\n",
            " 'meal': 0.2,\n",
            " 'quantity': 1.0,\n",
            " 'restriction': 0.2}\n",
            "Test:\n",
            "{'abbreviation': 3.6999999999999997,\n",
            " 'aircraft': 1.0,\n",
            " 'airfare': 5.4,\n",
            " 'airfare+flight': 0.1,\n",
            " 'airline': 4.3,\n",
            " 'airport': 2.0,\n",
            " 'capacity': 2.4,\n",
            " 'city': 0.7000000000000001,\n",
            " 'day_name': 0.2,\n",
            " 'distance': 1.0999999999999999,\n",
            " 'flight': 70.8,\n",
            " 'flight+airfare': 1.3,\n",
            " 'flight+airline': 0.1,\n",
            " 'flight_no': 0.8999999999999999,\n",
            " 'flight_no+airline': 0.1,\n",
            " 'flight_time': 0.1,\n",
            " 'ground_fare': 0.8,\n",
            " 'ground_service': 4.0,\n",
            " 'meal': 0.7000000000000001,\n",
            " 'quantity': 0.3}\n",
            "=========================================================================================\n",
            "TRAIN size: 4381\n",
            "DEV size: 597\n",
            "TEST size: 893\n"
          ]
        }
      ],
      "source": [
        "# Firt we get the 10% of dataset, then we compute the percentage of these examples \n",
        "# on the training set which is around 11% \n",
        "portion = round(((len(tmp_train_raw_ATIS) + len(test_raw_ATIS)) * 0.10)/(len(tmp_train_raw_ATIS)),2)\n",
        "\n",
        "\n",
        "intents_ATIS = [x['intent'] for x in tmp_train_raw_ATIS] # We stratify on intents\n",
        "count_y_ATIS = Counter(intents_ATIS)\n",
        "\n",
        "Y_ATIS = []\n",
        "X_ATIS = []\n",
        "mini_Train_ATIS = []\n",
        "\n",
        "for id_y, y in enumerate(intents_ATIS):\n",
        "    # IT MAKES NO SENSE TO PUT IN DEV SET INTENTS THAT ONLY APPEAR ONCE\n",
        "    if count_y_ATIS[y] > 1: # Some intents have only one instance, we put them in training\n",
        "        X_ATIS.append(tmp_train_raw_ATIS[id_y])\n",
        "        Y_ATIS.append(y)\n",
        "    else:\n",
        "        mini_Train_ATIS.append(tmp_train_raw_ATIS[id_y])\n",
        "# Random Stratify\n",
        "X_train_ATIS, X_dev_ATIS, y_train_ATIS, y_dev_ATIS = train_test_split(X_ATIS, Y_ATIS, test_size=portion, \n",
        "                                                    random_state=42, \n",
        "                                                    shuffle=True,\n",
        "                                                    stratify=Y_ATIS)\n",
        "X_train_ATIS.extend(mini_Train_ATIS)\n",
        "train_raw_ATIS = X_train_ATIS\n",
        "dev_raw_ATIS = X_dev_ATIS\n",
        "\n",
        "y_test_ATIS = [x['intent'] for x in test_raw_ATIS]\n",
        "\n",
        "# Intent distribution\n",
        "print('Train:')\n",
        "pprint({k:round(v/len(y_train_ATIS),3)*100 for k, v in sorted(Counter(y_train_ATIS).items())})\n",
        "print('Dev:'), \n",
        "pprint({k:round(v/len(y_dev_ATIS),3)*100 for k, v in sorted(Counter(y_dev_ATIS).items())})\n",
        "print('Test:') \n",
        "pprint({k:round(v/len(y_test_ATIS),3)*100 for k, v in sorted(Counter(y_test_ATIS).items())})\n",
        "print('='*89)\n",
        "# Dataset size\n",
        "print('TRAIN size:', len(train_raw_ATIS))\n",
        "print('DEV size:', len(dev_raw_ATIS))\n",
        "print('TEST size:', len(test_raw_ATIS))"
      ]
    },
    {
      "cell_type": "code",
      "execution_count": 13,
      "metadata": {
        "colab": {
          "base_uri": "https://localhost:8080/"
        },
        "id": "KBzeYfxFYv7E",
        "outputId": "f55dce7c-ed5c-4d05-9873-c85afd81d565"
      },
      "outputs": [
        {
          "name": "stdout",
          "output_type": "stream",
          "text": [
            "{'utterance': 'listen to westbam alumb allergic on google music', 'slots': 'O O B-artist O B-album O B-service I-service', 'intent': 'PlayMusic'}\n",
            "{'utterance': 'what type of aircraft does eastern fly from atlanta to denver before 6 pm', 'slots': 'O O O O O B-airline_name O O B-fromloc.city_name O B-toloc.city_name B-depart_time.time_relative B-depart_time.time I-depart_time.time', 'intent': 'aircraft'}\n"
          ]
        }
      ],
      "source": [
        "print(train_raw_SNIPS[0])\n",
        "print(train_raw_ATIS[0])"
      ]
    },
    {
      "cell_type": "code",
      "execution_count": 14,
      "metadata": {
        "id": "yPBPj2fcYv7F"
      },
      "outputs": [],
      "source": [
        "from collections import Counter\n",
        "class Lang():\n",
        "    def __init__(self, words, intents, slots, deps, cutoff=0):\n",
        "        self.word2id = self.w2id(words, cutoff=cutoff, unk=True)\n",
        "        self.slot2id = self.lab2id(slots)\n",
        "        self.dep2id = self.lab2id(deps)\n",
        "        self.intent2id = self.lab2id(intents, pad=False)\n",
        "        self.id2word = {v:k for k, v in self.word2id.items()}\n",
        "        self.id2slot = {v:k for k, v in self.slot2id.items()}\n",
        "        self.id2intent = {v:k for k, v in self.intent2id.items()}\n",
        "        self.id2dep = {v:k for k,v in self.dep2id.items()}\n",
        "        \n",
        "    def w2id(self, elements, cutoff=None, unk=True):\n",
        "        vocab = {'pad': PAD_TOKEN}\n",
        "        if unk:\n",
        "            vocab['unk'] = len(vocab)\n",
        "        count = Counter(elements)\n",
        "        for k, v in count.items():\n",
        "            if v > cutoff:\n",
        "                vocab[k] = len(vocab)\n",
        "        return vocab\n",
        "    \n",
        "    def lab2id(self, elements, pad=True):\n",
        "        vocab = {}\n",
        "        if pad:\n",
        "            vocab['pad'] = PAD_TOKEN\n",
        "        for elem in elements:\n",
        "                vocab[elem] = len(vocab)\n",
        "        return vocab"
      ]
    },
    {
      "cell_type": "markdown",
      "metadata": {},
      "source": [
        "The following function adds the spacy features 'head' and 'dep_' of each token to the ATIS dataset "
      ]
    },
    {
      "cell_type": "code",
      "execution_count": 15,
      "metadata": {
        "id": "4DwhY2_wNEGT"
      },
      "outputs": [],
      "source": [
        "def add_feat_ATIS(dataset):\n",
        "    for sample in dataset:\n",
        "        heads = ''\n",
        "        deps = ''\n",
        "        spacy_doc = nlp(sample['utterance'])\n",
        "        for sent in spacy_doc.sents:\n",
        "            for token in sent:\n",
        "                if(len(str(token.text)) == 1 and not(str(token.text).isalpha() or str(token.text).isdigit())):\n",
        "                    continue\n",
        "                heads += (str(token.head) + \" \")\n",
        "                deps += (str(token.dep_) + \" \")\n",
        "        sample['heads'] = heads[0:-1]\n",
        "        sample['deps'] = deps[0:-1]\n",
        "    return dataset        "
      ]
    },
    {
      "cell_type": "markdown",
      "metadata": {},
      "source": [
        "For SNIPS dataset it is more difficult because the sentences are formatted differently, e.g. \"whats\", \"what's\", \"what s\", \"what 's\" can all be found and are parsed differently, in this function I solve some of these issues, but some remains, leading to different lenghts between words and spacy features.\n",
        "I deal with these few in the forward pass of the model simply by correcting the length of the tensor."
      ]
    },
    {
      "cell_type": "code",
      "execution_count": 16,
      "metadata": {
        "id": "n5mPQFcESj1X"
      },
      "outputs": [],
      "source": [
        "import re\n",
        "def add_feat_SNIPS(dataset):\n",
        "    for sample in dataset:\n",
        "        heads = ''\n",
        "        deps = ''\n",
        "        skip = 1\n",
        "        sample['utterance'] = re.sub(' +', ' ', sample['utterance'])\n",
        "        spacy_doc = nlp(sample['utterance'])\n",
        "        for sent in spacy_doc.sents:\n",
        "            for token in sent:\n",
        "                if('\\'' in str(token.text)):\n",
        "                  continue\n",
        "                if('-' == str(token.text) or skip%2 == 0):\n",
        "                  skip += 1\n",
        "                  continue\n",
        "                if(str(token.text)[0] == '-'):\n",
        "                  continue\n",
        "                if(len(str(token.text)) == 1 and not(str(token.text).isalpha() or str(token.text).isdigit() or str(token.text) == '&')):\n",
        "                    continue\n",
        "                heads += (str(token.head) + \" \")\n",
        "                deps += (str(token.dep_) + \" \")\n",
        "        sample['heads'] = heads[0:-1]\n",
        "        sample['deps'] = deps[0:-1]\n",
        "    return dataset  "
      ]
    },
    {
      "cell_type": "code",
      "execution_count": 17,
      "metadata": {
        "id": "QmbWEqVXNEGV"
      },
      "outputs": [],
      "source": [
        "train_raw_ATIS = add_feat_ATIS(train_raw_ATIS)\n",
        "dev_raw_ATIS = add_feat_ATIS(dev_raw_ATIS)\n",
        "test_raw_ATIS = add_feat_ATIS(test_raw_ATIS)"
      ]
    },
    {
      "cell_type": "code",
      "execution_count": 18,
      "metadata": {
        "id": "BYOGxPWHUIBo"
      },
      "outputs": [],
      "source": [
        "train_raw_SNIPS = add_feat_SNIPS(train_raw_SNIPS)\n",
        "dev_raw_SNIPS = add_feat_SNIPS(dev_raw_SNIPS)\n",
        "test_raw_SNIPS = add_feat_SNIPS(test_raw_SNIPS)"
      ]
    },
    {
      "cell_type": "code",
      "execution_count": 19,
      "metadata": {
        "colab": {
          "base_uri": "https://localhost:8080/"
        },
        "id": "8-FgmmRINEGW",
        "outputId": "556b21ca-9147-420a-cd9d-af94c3a2f43c"
      },
      "outputs": [
        {
          "name": "stdout",
          "output_type": "stream",
          "text": [
            "{'utterance': 'what flights are there from newark to seattle on saturday', 'slots': 'O O O O O B-fromloc.city_name O B-toloc.city_name O B-depart_date.day_name', 'intent': 'flight', 'heads': 'flights are are are are from seattle are seattle on', 'deps': 'det attr ROOT expl prep pobj aux advcl prep pobj'}\n"
          ]
        }
      ],
      "source": [
        "print(train_raw_ATIS[10])"
      ]
    },
    {
      "cell_type": "code",
      "execution_count": 20,
      "metadata": {
        "id": "LuTWUcpTYv7H"
      },
      "outputs": [],
      "source": [
        "words_ATIS = sum([x['utterance'].split() for x in train_raw_ATIS], []) # No set() since we want to compute \n",
        "                                                            # the cutoff\n",
        "corpus_ATIS = train_raw_ATIS + dev_raw_ATIS + test_raw_ATIS # We do not wat unk labels, \n",
        "                                        # however this depends on the research purpose\n",
        "slots_ATIS = set(sum([line['slots'].split() for line in corpus_ATIS],[]))\n",
        "intents_ATIS = set([line['intent'] for line in corpus_ATIS])\n",
        "deps_ATIS = set(sum([line['deps'].split() for line in corpus_ATIS], []))\n",
        "\n",
        "lang_ATIS = Lang(words_ATIS, intents_ATIS, slots_ATIS, deps_ATIS, cutoff=0)"
      ]
    },
    {
      "cell_type": "code",
      "execution_count": 21,
      "metadata": {
        "id": "zOLweY-OYv7I"
      },
      "outputs": [],
      "source": [
        "words_SNIPS = sum([x['utterance'].split() for x in train_raw_SNIPS], []) # No set() since we want to compute \n",
        "                                                            # the cutoff\n",
        "corpus_SNIPS = train_raw_SNIPS + dev_raw_SNIPS + test_raw_SNIPS # We do not wat unk labels, \n",
        "                                        # however this depends on the research purpose\n",
        "slots_SNIPS = set(sum([line['slots'].split() for line in corpus_SNIPS],[]))\n",
        "intents_SNIPS = set([line['intent'] for line in corpus_SNIPS])\n",
        "deps_SNIPS = set(sum([line['deps'].split() for line in corpus_SNIPS],[]))\n",
        "\n",
        "lang_SNIPS = Lang(words_SNIPS, intents_SNIPS, slots_SNIPS, deps_SNIPS, cutoff=0)"
      ]
    },
    {
      "cell_type": "code",
      "execution_count": 23,
      "metadata": {
        "id": "UepjPki0Yv7J"
      },
      "outputs": [],
      "source": [
        "import torch\n",
        "import torch.utils.data as data\n",
        "\n",
        "class IntentsAndSlots (data.Dataset):\n",
        "    # Mandatory methods are __init__, __len__ and __getitem__\n",
        "    def __init__(self, dataset, lang, unk='unk'):\n",
        "        self.utterances = []\n",
        "        self.intents = []\n",
        "        self.slots = []\n",
        "        self.heads = []\n",
        "        self.deps = []\n",
        "        self.unk = unk\n",
        "        count = 0\n",
        "        \n",
        "        for x in dataset:\n",
        "            if(len(x['utterance'].split()) != len(x['heads'].split())):\n",
        "                count += 1\n",
        "            self.utterances.append(x['utterance'])\n",
        "            self.slots.append(x['slots'])\n",
        "            self.intents.append(x['intent'])\n",
        "            self.heads.append(x['heads'])\n",
        "            self.deps.append(x['deps'])\n",
        "\n",
        "        print(count)\n",
        "        self.utt_ids = self.mapping_seq(self.utterances, lang.word2id)\n",
        "        self.slot_ids = self.mapping_seq(self.slots, lang.slot2id)\n",
        "        self.intent_ids = self.mapping_lab(self.intents, lang.intent2id)\n",
        "        self.heads_ids = self.mapping_seq(self.heads, lang.word2id)\n",
        "        self.deps_ids = self.mapping_seq(self.deps, lang.dep2id)\n",
        "\n",
        "    def __len__(self):\n",
        "        return len(self.utterances)\n",
        "\n",
        "    def __getitem__(self, idx):\n",
        "        utt = torch.Tensor(self.utt_ids[idx])\n",
        "        slots = torch.Tensor(self.slot_ids[idx])\n",
        "        heads = torch.Tensor(self.heads_ids[idx])\n",
        "        deps = torch.Tensor(self.deps_ids[idx])\n",
        "        intent = self.intent_ids[idx]\n",
        "        sample = {'utterance': utt, 'slots': slots, 'intent': intent, 'heads': heads,'deps': deps}\n",
        "        return sample\n",
        "    \n",
        "    # Auxiliary methods\n",
        "    \n",
        "    def mapping_lab(self, data, mapper):\n",
        "        return [mapper[x] if x in mapper else mapper[self.unk] for x in data]\n",
        "    \n",
        "    def mapping_seq(self, data, mapper): # Map sequences to number\n",
        "        res = []\n",
        "        for seq in data:\n",
        "            tmp_seq = []\n",
        "            for x in seq.split():\n",
        "                if x in mapper:\n",
        "                    tmp_seq.append(mapper[x])\n",
        "                else:\n",
        "                    tmp_seq.append(mapper[self.unk])\n",
        "            res.append(tmp_seq)\n",
        "        return res"
      ]
    },
    {
      "cell_type": "markdown",
      "metadata": {},
      "source": [
        "0 - 0 - 0 are the numbers of sentence with a length mismatch between words and spacy feats in ATIS"
      ]
    },
    {
      "cell_type": "code",
      "execution_count": 24,
      "metadata": {
        "colab": {
          "base_uri": "https://localhost:8080/"
        },
        "id": "SOe_Gyi1Yv7L",
        "outputId": "3f8c01e4-7317-4652-8c8e-5b9a9234dd31"
      },
      "outputs": [
        {
          "name": "stdout",
          "output_type": "stream",
          "text": [
            "0\n",
            "0\n",
            "0\n"
          ]
        }
      ],
      "source": [
        "# Create our datasets\n",
        "train_dataset_ATIS = IntentsAndSlots(train_raw_ATIS, lang_ATIS)\n",
        "dev_dataset_ATIS = IntentsAndSlots(dev_raw_ATIS, lang_ATIS)\n",
        "test_dataset_ATIS = IntentsAndSlots(test_raw_ATIS, lang_ATIS)"
      ]
    },
    {
      "cell_type": "markdown",
      "metadata": {},
      "source": [
        "147 - 5 - 3 are the numbers of sentence with a length mismatch between words and spacy feats in SNIPS"
      ]
    },
    {
      "cell_type": "code",
      "execution_count": 25,
      "metadata": {
        "colab": {
          "base_uri": "https://localhost:8080/"
        },
        "id": "G3M-JECdYv7M",
        "outputId": "672190dd-89eb-49a6-e54f-8dd5c5c8ccd0"
      },
      "outputs": [
        {
          "name": "stdout",
          "output_type": "stream",
          "text": [
            "147\n",
            "5\n",
            "3\n"
          ]
        }
      ],
      "source": [
        "# Create our datasets\n",
        "train_dataset_SNIPS = IntentsAndSlots(train_raw_SNIPS, lang_SNIPS)\n",
        "dev_dataset_SNIPS = IntentsAndSlots(dev_raw_SNIPS, lang_SNIPS)\n",
        "test_dataset_SNIPS = IntentsAndSlots(test_raw_SNIPS, lang_SNIPS)"
      ]
    },
    {
      "cell_type": "code",
      "execution_count": 26,
      "metadata": {
        "id": "jaU8JpMXYv7N"
      },
      "outputs": [],
      "source": [
        "from torch.utils.data import DataLoader\n",
        "\n",
        "def collate_fn(data):\n",
        "    def merge(sequences):\n",
        "        '''\n",
        "        merge from batch * sent_len to batch * max_len \n",
        "        '''\n",
        "        lengths = [len(seq) for seq in sequences]\n",
        "        max_len = 1 if max(lengths)==0 else max(lengths)\n",
        "        # Pad token is zero in our case\n",
        "        # So we create a matrix full of PAD_TOKEN (i.e. 0) with the shape \n",
        "        # batch_size X maximum length of a sequence\n",
        "        padded_seqs = torch.LongTensor(len(sequences),max_len).fill_(PAD_TOKEN)\n",
        "        for i, seq in enumerate(sequences):\n",
        "            end = lengths[i]\n",
        "            padded_seqs[i, :end] = seq # We copy each sequence into the matrix\n",
        "        # print(padded_seqs)\n",
        "        padded_seqs = padded_seqs.detach()  # We remove these tensors from the computational graph\n",
        "        return padded_seqs, lengths\n",
        "    # Sort data by seq lengths\n",
        "    data.sort(key=lambda x: len(x['utterance']), reverse=True) \n",
        "    new_item = {}\n",
        "    for key in data[0].keys():\n",
        "        new_item[key] = [d[key] for d in data]\n",
        "    # We just need one length for packed pad seq, since len(utt) == len(slots)\n",
        "    src_utt, _ = merge(new_item['utterance'])\n",
        "    y_slots, y_lengths = merge(new_item[\"slots\"])\n",
        "    src_heads, _ = merge(new_item['heads'])\n",
        "    src_deps, _ = merge(new_item['deps'])\n",
        "    intent = torch.LongTensor(new_item[\"intent\"])\n",
        "    \n",
        "    src_utt = src_utt.to(device) # We load the Tensor on our seleceted device\n",
        "    y_slots = y_slots.to(device)\n",
        "    intent = intent.to(device)\n",
        "    src_heads = src_heads.to(device)\n",
        "    src_deps = src_deps.to(device)\n",
        "    y_lengths = torch.LongTensor(y_lengths).to(device)\n",
        "    \n",
        "    new_item[\"utterances\"] = src_utt\n",
        "    new_item[\"intents\"] = intent\n",
        "    new_item[\"y_slots\"] = y_slots\n",
        "    new_item[\"deps\"] = src_deps\n",
        "    new_item[\"heads\"] = src_heads\n",
        "    new_item[\"slots_len\"] = y_lengths\n",
        "    return new_item"
      ]
    },
    {
      "cell_type": "code",
      "execution_count": 27,
      "metadata": {
        "id": "ZhXKjksXYv7R"
      },
      "outputs": [],
      "source": [
        "# Dataloader instantiation\n",
        "train_loader_ATIS = DataLoader(train_dataset_ATIS, batch_size=128, collate_fn=collate_fn,  shuffle=True)\n",
        "dev_loader_ATIS = DataLoader(dev_dataset_ATIS, batch_size=64, collate_fn=collate_fn)\n",
        "test_loader_ATIS = DataLoader(test_dataset_ATIS, batch_size=64, collate_fn=collate_fn)"
      ]
    },
    {
      "cell_type": "code",
      "execution_count": 28,
      "metadata": {
        "id": "WcdrPOIdYv7S"
      },
      "outputs": [],
      "source": [
        "# Dataloader instantiation\n",
        "train_loader_SNIPS = DataLoader(train_dataset_SNIPS, batch_size=128, collate_fn=collate_fn,  shuffle=True)\n",
        "dev_loader_SNIPS = DataLoader(dev_dataset_SNIPS, batch_size=64, collate_fn=collate_fn)\n",
        "test_loader_SNIPS = DataLoader(test_dataset_SNIPS, batch_size=64, collate_fn=collate_fn)"
      ]
    },
    {
      "cell_type": "code",
      "execution_count": 29,
      "metadata": {
        "id": "omKo0brXGr2w"
      },
      "outputs": [],
      "source": [
        "def initialize_confusion_matrices(lang):\n",
        "  cm_slot = np.zeros((len(lang.id2slot), len(lang.id2slot)))\n",
        "  cm_intent = np.zeros((len(lang.id2intent), len(lang.id2intent)))\n",
        "  return cm_slot, cm_intent"
      ]
    },
    {
      "cell_type": "markdown",
      "metadata": {
        "id": "DsdttCqf1vK3"
      },
      "source": [
        "## Preliminary common steps"
      ]
    },
    {
      "cell_type": "code",
      "execution_count": 30,
      "metadata": {
        "id": "C3YBVpwnYv7Y"
      },
      "outputs": [],
      "source": [
        "def init_weights(mat):\n",
        "    for m in mat.modules():\n",
        "        if type(m) in [nn.GRU, nn.LSTM, nn.RNN]:\n",
        "            for name, param in m.named_parameters():\n",
        "                if 'weight_ih' in name:\n",
        "                    for idx in range(4):\n",
        "                        mul = param.shape[0]//4\n",
        "                        torch.nn.init.xavier_uniform_(param[idx*mul:(idx+1)*mul])\n",
        "                elif 'weight_hh' in name:\n",
        "                    for idx in range(4):\n",
        "                        mul = param.shape[0]//4\n",
        "                        torch.nn.init.orthogonal_(param[idx*mul:(idx+1)*mul])\n",
        "                elif 'bias' in name:\n",
        "                    param.data.fill_(0)\n",
        "        else:\n",
        "            if type(m) in [nn.Linear]:\n",
        "                torch.nn.init.uniform_(m.weight, -0.01, 0.01)\n",
        "                if m.bias != None:\n",
        "                    m.bias.data.fill_(0.01)"
      ]
    },
    {
      "cell_type": "code",
      "execution_count": 31,
      "metadata": {
        "id": "nV9XS6NnYv7b"
      },
      "outputs": [],
      "source": [
        "out_slot_ATIS = len(lang_ATIS.slot2id)\n",
        "out_int_ATIS = len(lang_ATIS.intent2id)\n",
        "vocab_len_ATIS = len(lang_ATIS.word2id)"
      ]
    },
    {
      "cell_type": "code",
      "execution_count": 32,
      "metadata": {
        "id": "ItEEAvetYv7c"
      },
      "outputs": [],
      "source": [
        "out_slot_SNIPS = len(lang_SNIPS.slot2id)\n",
        "out_int_SNIPS = len(lang_SNIPS.intent2id)\n",
        "vocab_len_SNIPS = len(lang_SNIPS.word2id)"
      ]
    },
    {
      "cell_type": "markdown",
      "metadata": {
        "id": "f7Y0Ot5BYv7T"
      },
      "source": [
        "## First model (baseline)"
      ]
    },
    {
      "cell_type": "markdown",
      "metadata": {
        "id": "G-g5WmfmagN2"
      },
      "source": [
        "#### Model and training loop"
      ]
    },
    {
      "cell_type": "code",
      "execution_count": 33,
      "metadata": {
        "id": "sBUvogBFYv7W"
      },
      "outputs": [],
      "source": [
        "import torch.nn as nn\n",
        "from torch.nn.utils.rnn import pack_padded_sequence, pad_packed_sequence\n",
        "\n",
        "class ModelIAS(nn.Module):\n",
        "\n",
        "    def __init__(self, hid_size, out_slot, out_int, emb_size, vocab_len,bidirectional = True, n_layer=1, pad_index=0):\n",
        "        super(ModelIAS, self).__init__()\n",
        "\n",
        "        \n",
        "        self.embedding = nn.Embedding(vocab_len, emb_size, padding_idx=pad_index)\n",
        "        \n",
        "        self.utt_encoder = nn.LSTM(emb_size, hid_size, n_layer, bidirectional = bidirectional)\n",
        "        self.slot_out = nn.Linear(hid_size*2 if bidirectional else hid_size, out_slot)\n",
        "        self.intent_out = nn.Linear(hid_size, out_int)\n",
        "        self.dropout = nn.Dropout(0.1)\n",
        "        \n",
        "    def forward(self, utterance, seq_lengths):\n",
        "        # utterance.size() = batch_size X seq_len\n",
        "        utt_emb = self.embedding(utterance) # utt_emb.size() = batch_size X seq_len X emb_size\n",
        "        utt_emb = utt_emb.permute(1,0,2) # we need seq len first -> seq_len X batch_size X emb_size\n",
        "        \n",
        "        # pack_padded_sequence avoid computation over pad tokens reducing the computational cost\n",
        "        packed_input = pack_padded_sequence(utt_emb, seq_lengths.cpu().numpy())\n",
        "        # Process the batch\n",
        "        packed_output, (last_hidden, cell) = self.utt_encoder(packed_input)\n",
        "        # Unpack the sequence\n",
        "        utt_encoded, input_sizes = pad_packed_sequence(packed_output)\n",
        "        # Get the last hidden state\n",
        "        last_hidden = last_hidden[-1,:,:]\n",
        "        # Compute slot logits\n",
        "        slots = self.slot_out(utt_encoded)\n",
        "        # Compute intent logits\n",
        "        intent = self.intent_out(last_hidden)\n",
        "        \n",
        "        # Slot size: seq_len, batch size, calsses \n",
        "        slots = slots.permute(1,2,0) # We need this for computing the loss\n",
        "        # Slot size: batch_size, classes, seq_len\n",
        "        return slots, intent"
      ]
    },
    {
      "cell_type": "code",
      "execution_count": 34,
      "metadata": {
        "id": "9XH_h2hpYv7d"
      },
      "outputs": [],
      "source": [
        "from conll import evaluate\n",
        "from sklearn.metrics import classification_report\n",
        "from sklearn.metrics import confusion_matrix\n",
        "from sklearn.metrics import ConfusionMatrixDisplay\n",
        "\n",
        "def train_loop(data, optimizer, criterion_slots, criterion_intents, model):\n",
        "    model.train()\n",
        "    loss_array = []\n",
        "    for i,sample in enumerate(data):\n",
        "        optimizer.zero_grad() # Zeroing the gradient\n",
        "        slots, intent = model(sample['utterances'], sample['slots_len'])\n",
        "        loss_intent = criterion_intents(intent, sample['intents'])\n",
        "        loss_slot = criterion_slots(slots, sample['y_slots'])\n",
        "        loss = loss_intent+loss_slot \n",
        "        loss_array.append(loss.item())\n",
        "        loss.backward() # Compute the gradient, deleting the computational graph\n",
        " \n",
        "        optimizer.step() # Update the weights\n",
        "    return loss_array\n",
        "\n",
        "def eval_loop(data, criterion_slots, criterion_intents, model, lang):\n",
        "    model.eval()\n",
        "    loss_array = []\n",
        "    \n",
        "    ref_intents = []\n",
        "    hyp_intents = []\n",
        "    \n",
        "    ref_slots = []\n",
        "    hyp_slots = []\n",
        "\n",
        "    with torch.no_grad(): # It used to avoid the creation of computational graph\n",
        "        total_slot_labels = [x for x in range (len(lang.id2slot))]\n",
        "        total_intent_labels = [v for k, v in lang.id2intent.items()]\n",
        "        cm_slot = np.zeros((len(total_slot_labels), len(total_slot_labels)))\n",
        "        cm_intent = np.zeros((len(total_intent_labels), len(total_intent_labels)))\n",
        "        \n",
        "        for sample in data:\n",
        "            slots, intents = model(sample['utterances'], sample['slots_len'])\n",
        "            loss_intent = criterion_intents(intents, sample['intents'])\n",
        "            loss_slot = criterion_slots(slots, sample['y_slots'])\n",
        "            loss = loss_intent + loss_slot \n",
        "            loss_array.append(loss.item())\n",
        "            # Intent inference\n",
        "            # Get the highest probable class\n",
        "            out_intents = [lang.id2intent[x] \n",
        "                           for x in torch.argmax(intents, dim=1).tolist()] \n",
        "            gt_intents = [lang.id2intent[x] for x in sample['intents'].tolist()]\n",
        "            ref_intents.extend(gt_intents)\n",
        "            hyp_intents.extend(out_intents)\n",
        "            # Slot inference \n",
        "            output_slots = torch.argmax(slots, dim=1)\n",
        "\n",
        "            ref_int_labels = []\n",
        "            hyp_int_labels = []\n",
        "\n",
        "            for id_seq, seq in enumerate(output_slots):\n",
        "                length = sample['slots_len'].tolist()[id_seq]\n",
        "                utt_ids = sample['utterance'][id_seq][:length].tolist()\n",
        "                gt_ids = sample['y_slots'][id_seq].tolist()\n",
        "                gt_slots = [lang.id2slot[elem] for elem in gt_ids[:length]]\n",
        "                utterance = [lang.id2word[elem] for elem in utt_ids]\n",
        "                to_decode = seq[:length].tolist()\n",
        "                ref_slots.append([(utterance[id_el], elem) for id_el, elem in enumerate(gt_slots)])\n",
        "                tmp_seq = []\n",
        "                for id_el, elem in enumerate(to_decode):\n",
        "                  tmp_seq.append((utterance[id_el], lang.id2slot[elem]))\n",
        "                  ref_int_labels.extend(gt_ids[:length])\n",
        "                  hyp_int_labels.extend(to_decode)\n",
        "                    \n",
        "                hyp_slots.append(tmp_seq)\n",
        "\n",
        "        X = [lang.id2slot[x] for x in ref_int_labels]\n",
        "        Y = [lang.id2slot[x] for x in hyp_int_labels]\n",
        "        labels = [lang.id2slot[x] for x in total_slot_labels]\n",
        "\n",
        "        cm_slot += sklearn.metrics.confusion_matrix(X, Y,labels = labels)\n",
        "        cm_intent += sklearn.metrics.confusion_matrix(ref_intents, hyp_intents,labels = total_intent_labels)\n",
        "    \n",
        "    try:            \n",
        "        results = evaluate(ref_slots, hyp_slots)\n",
        "    except Exception as ex:\n",
        "        # Sometimes the model predics a class that is not in REF\n",
        "        results = None\n",
        "    \n",
        "    #results = sklearn.metrics.f1_score([lang.id2slot[x] for x in ref_int_labels], [lang.id2slot[x] for x in hyp_int_labels], average = 'weighted')\n",
        "    \n",
        "    report_intent = classification_report(ref_intents, hyp_intents, \n",
        "                                          zero_division=False, output_dict=True)\n",
        "    return results, report_intent, loss_array, cm_slot, cm_intent\n"
      ]
    },
    {
      "cell_type": "code",
      "execution_count": 35,
      "metadata": {
        "id": "K5KNq2RiYv7f"
      },
      "outputs": [],
      "source": [
        "def train_model(dev_loader, train_loader, test_loader, model, lang, criterion_intents, criterion_slots, optimizer):\n",
        "    from tqdm import tqdm\n",
        "    n_epochs = 200\n",
        "    patience = 3\n",
        "    losses_train = []\n",
        "    losses_dev = []\n",
        "    sampled_epochs = []\n",
        "    best_f1 = 0\n",
        "    for x in tqdm(range(1,n_epochs)):\n",
        "        loss = train_loop(train_loader, optimizer, criterion_slots, \n",
        "                        criterion_intents, model)\n",
        "        if x % 5 == 0:\n",
        "          sampled_epochs.append(x)\n",
        "          losses_train.append(np.asarray(loss).mean())\n",
        "          results_dev, intent_res, loss_dev, trypl, _ = eval_loop(dev_loader, criterion_slots, \n",
        "                                                      criterion_intents, model, lang)\n",
        "          losses_dev.append(np.asarray(loss_dev).mean())\n",
        "          if results_dev != None:\n",
        "            f1 = results_dev['total']['f-measure']\n",
        "            acc = intent_res['accuracy']\n",
        "            if f1 > best_f1:\n",
        "                best_f1 = f1\n",
        "            else:\n",
        "                patience -= 1\n",
        "            if patience <= 0: # Early stopping with patience\n",
        "                break # Not nice but it keeps the code clean\n",
        "\n",
        "    results_test, intent_test, _, cm_slot, cm_intent = eval_loop(test_loader, criterion_slots, \n",
        "                                            criterion_intents, model, lang)\n",
        "    \n",
        "    return results_test, intent_test, sampled_epochs, losses_train, losses_dev, cm_slot, cm_intent    \n",
        "    \n"
      ]
    },
    {
      "cell_type": "code",
      "execution_count": 36,
      "metadata": {
        "id": "Yb-F1eAul34q"
      },
      "outputs": [],
      "source": [
        "cm_slot_ATIS, cm_intent_ATIS = initialize_confusion_matrices(lang_ATIS)\n",
        "cm_slot_SNIPS, cm_intent_SNIPS = initialize_confusion_matrices(lang_SNIPS)"
      ]
    },
    {
      "cell_type": "code",
      "execution_count": 37,
      "metadata": {
        "id": "g6WXrkcAYv7Z"
      },
      "outputs": [],
      "source": [
        "import torch.optim as optim\n",
        "\n",
        "hid_size = 200\n",
        "emb_size = 300\n",
        "\n",
        "lr = 0.0001 # learning rate\n",
        "clip = 5 # Clip the gradient\n",
        "\n",
        "criterion_slots = nn.CrossEntropyLoss(ignore_index=PAD_TOKEN)\n",
        "criterion_intents = nn.CrossEntropyLoss() # Because we do not have the pad token"
      ]
    },
    {
      "cell_type": "markdown",
      "metadata": {
        "id": "nT_c3NniV0Ib"
      },
      "source": [
        "#### Atis training"
      ]
    },
    {
      "cell_type": "code",
      "execution_count": 101,
      "metadata": {
        "id": "jSVds_yv2x1Y"
      },
      "outputs": [],
      "source": [
        "model_baseline_ATIS = ModelIAS(hid_size, out_slot_ATIS, out_int_ATIS, emb_size, vocab_len_ATIS, bidirectional = False, pad_index=PAD_TOKEN).to(device)\n",
        "model_baseline_ATIS.apply(init_weights)\n",
        "\n",
        "optimizer_ATIS = optim.Adam(model_baseline_ATIS.parameters(), lr=lr)"
      ]
    },
    {
      "cell_type": "code",
      "execution_count": null,
      "metadata": {
        "colab": {
          "base_uri": "https://localhost:8080/"
        },
        "id": "8xG6m8EvYv7g",
        "outputId": "431acafc-8607-4518-db94-b9e240bd8b99"
      },
      "outputs": [
        {
          "name": "stderr",
          "output_type": "stream",
          "text": [
            " 92%|█████████▏| 184/199 [02:08<00:10,  1.43it/s]\n"
          ]
        },
        {
          "name": "stdout",
          "output_type": "stream",
          "text": [
            "\n",
            "Slot F1:  0.92\n",
            "Intent Accuracy: 0.943\n"
          ]
        },
        {
          "name": "stderr",
          "output_type": "stream",
          "text": [
            " 82%|████████▏ | 164/199 [01:51<00:23,  1.47it/s]\n"
          ]
        },
        {
          "name": "stdout",
          "output_type": "stream",
          "text": [
            "\n",
            "Slot F1:  0.925\n",
            "Intent Accuracy: 0.933\n"
          ]
        },
        {
          "name": "stderr",
          "output_type": "stream",
          "text": [
            " 77%|███████▋  | 154/199 [01:45<00:30,  1.47it/s]\n"
          ]
        },
        {
          "name": "stdout",
          "output_type": "stream",
          "text": [
            "\n",
            "Slot F1:  0.929\n",
            "Intent Accuracy: 0.925\n"
          ]
        },
        {
          "name": "stderr",
          "output_type": "stream",
          "text": [
            " 75%|███████▍  | 149/199 [01:41<00:34,  1.47it/s]\n"
          ]
        },
        {
          "name": "stdout",
          "output_type": "stream",
          "text": [
            "\n",
            "Slot F1:  0.928\n",
            "Intent Accuracy: 0.938\n"
          ]
        },
        {
          "name": "stderr",
          "output_type": "stream",
          "text": [
            " 70%|██████▉   | 139/199 [01:34<00:40,  1.47it/s]\n"
          ]
        },
        {
          "name": "stdout",
          "output_type": "stream",
          "text": [
            "\n",
            "Slot F1:  0.928\n",
            "Intent Accuracy: 0.941\n",
            "\n",
            "Slot F1 mean:  0.926\n",
            "Slot F1 standard deviation:  0.003\n",
            "Intent Accuracy mean: 0.936\n",
            "Intent Accuracy standard deviation: 0.006\n"
          ]
        }
      ],
      "source": [
        "slots_baseline_ATIS = []\n",
        "intents_baseline_ATIS = []\n",
        "for i in range(5):\n",
        "  model_baseline_ATIS.apply(init_weights)\n",
        "  results_test_ATIS, intents_test_ATIS, sampled_epochs_ATIS, losses_train_ATIS, losses_dev_ATIS, cm_slot, cm_intent = train_model(dev_loader_ATIS,\n",
        "                                                                                                                                        train_loader_ATIS, \n",
        "                                                                                                                                        test_loader_ATIS, \n",
        "                                                                                                                                        model_baseline_ATIS,\n",
        "                                                                                                                                        lang_ATIS, \n",
        "                                                                                                                                        criterion_intents, \n",
        "                                                                                                                                        criterion_slots, \n",
        "                                                                                                                                        optimizer_ATIS)\n",
        "  print('\\nSlot F1: ', round(results_test_ATIS['total']['f-measure'],3))\n",
        "  print('Intent Accuracy:', round(intents_test_ATIS['accuracy'],3))\n",
        "  cm_slot_ATIS += cm_slot\n",
        "  cm_intent_ATIS += cm_intent\n",
        "  slots_baseline_ATIS.append(results_test_ATIS['total']['f-measure'])\n",
        "  intents_baseline_ATIS.append(intents_test_ATIS['accuracy'])\n",
        "slots_mean_ATIS = np.mean(slots_baseline_ATIS)\n",
        "slots_std_ATIS = np.std(slots_baseline_ATIS)\n",
        "intents_mean_ATIS = np.mean(intents_baseline_ATIS)\n",
        "intents_std_ATIS = np.std(intents_baseline_ATIS)\n",
        "print('\\nSlot F1 mean: ', round(slots_mean_ATIS,3))\n",
        "print('Slot F1 standard deviation: ', round(slots_std_ATIS,3))\n",
        "print('Intent Accuracy mean:', round(intents_mean_ATIS,3))\n",
        "print('Intent Accuracy standard deviation:', round(intents_std_ATIS,3))"
      ]
    },
    {
      "cell_type": "code",
      "execution_count": null,
      "metadata": {
        "colab": {
          "base_uri": "https://localhost:8080/",
          "height": 424
        },
        "id": "QtczHTxRb578",
        "outputId": "cd6351e5-9186-4d46-8296-fc08c2786be9"
      },
      "outputs": [
        {
          "data": {
            "text/html": [
              "\n",
              "  <div id=\"df-89f7bfaf-20ba-46a1-ad6a-e35b227f4e1b\">\n",
              "    <div class=\"colab-df-container\">\n",
              "      <div>\n",
              "<style scoped>\n",
              "    .dataframe tbody tr th:only-of-type {\n",
              "        vertical-align: middle;\n",
              "    }\n",
              "\n",
              "    .dataframe tbody tr th {\n",
              "        vertical-align: top;\n",
              "    }\n",
              "\n",
              "    .dataframe thead th {\n",
              "        text-align: right;\n",
              "    }\n",
              "</style>\n",
              "<table border=\"1\" class=\"dataframe\">\n",
              "  <thead>\n",
              "    <tr style=\"text-align: right;\">\n",
              "      <th></th>\n",
              "      <th>precision</th>\n",
              "      <th>recall</th>\n",
              "      <th>f-measure</th>\n",
              "      <th>support</th>\n",
              "    </tr>\n",
              "  </thead>\n",
              "  <tbody>\n",
              "    <tr>\n",
              "      <th>fromloc.state_code</th>\n",
              "      <td>1.0</td>\n",
              "      <td>1.0</td>\n",
              "      <td>1.0</td>\n",
              "      <td>23</td>\n",
              "    </tr>\n",
              "    <tr>\n",
              "      <th>arrive_date.date_relative</th>\n",
              "      <td>1.0</td>\n",
              "      <td>1.0</td>\n",
              "      <td>1.0</td>\n",
              "      <td>2</td>\n",
              "    </tr>\n",
              "    <tr>\n",
              "      <th>toloc.state_code</th>\n",
              "      <td>1.0</td>\n",
              "      <td>1.0</td>\n",
              "      <td>1.0</td>\n",
              "      <td>18</td>\n",
              "    </tr>\n",
              "    <tr>\n",
              "      <th>flight_days</th>\n",
              "      <td>1.0</td>\n",
              "      <td>1.0</td>\n",
              "      <td>1.0</td>\n",
              "      <td>10</td>\n",
              "    </tr>\n",
              "    <tr>\n",
              "      <th>toloc.country_name</th>\n",
              "      <td>1.0</td>\n",
              "      <td>1.0</td>\n",
              "      <td>1.0</td>\n",
              "      <td>1</td>\n",
              "    </tr>\n",
              "    <tr>\n",
              "      <th>...</th>\n",
              "      <td>...</td>\n",
              "      <td>...</td>\n",
              "      <td>...</td>\n",
              "      <td>...</td>\n",
              "    </tr>\n",
              "    <tr>\n",
              "      <th>return_date.day_name</th>\n",
              "      <td>1.0</td>\n",
              "      <td>0.0</td>\n",
              "      <td>0.0</td>\n",
              "      <td>2</td>\n",
              "    </tr>\n",
              "    <tr>\n",
              "      <th>days_code</th>\n",
              "      <td>1.0</td>\n",
              "      <td>0.0</td>\n",
              "      <td>0.0</td>\n",
              "      <td>1</td>\n",
              "    </tr>\n",
              "    <tr>\n",
              "      <th>depart_date.year</th>\n",
              "      <td>1.0</td>\n",
              "      <td>0.0</td>\n",
              "      <td>0.0</td>\n",
              "      <td>3</td>\n",
              "    </tr>\n",
              "    <tr>\n",
              "      <th>state_name</th>\n",
              "      <td>1.0</td>\n",
              "      <td>0.0</td>\n",
              "      <td>0.0</td>\n",
              "      <td>9</td>\n",
              "    </tr>\n",
              "    <tr>\n",
              "      <th>stoploc.airport_code</th>\n",
              "      <td>1.0</td>\n",
              "      <td>0.0</td>\n",
              "      <td>0.0</td>\n",
              "      <td>1</td>\n",
              "    </tr>\n",
              "  </tbody>\n",
              "</table>\n",
              "<p>70 rows × 4 columns</p>\n",
              "</div>\n",
              "      <button class=\"colab-df-convert\" onclick=\"convertToInteractive('df-89f7bfaf-20ba-46a1-ad6a-e35b227f4e1b')\"\n",
              "              title=\"Convert this dataframe to an interactive table.\"\n",
              "              style=\"display:none;\">\n",
              "        \n",
              "  <svg xmlns=\"http://www.w3.org/2000/svg\" height=\"24px\"viewBox=\"0 0 24 24\"\n",
              "       width=\"24px\">\n",
              "    <path d=\"M0 0h24v24H0V0z\" fill=\"none\"/>\n",
              "    <path d=\"M18.56 5.44l.94 2.06.94-2.06 2.06-.94-2.06-.94-.94-2.06-.94 2.06-2.06.94zm-11 1L8.5 8.5l.94-2.06 2.06-.94-2.06-.94L8.5 2.5l-.94 2.06-2.06.94zm10 10l.94 2.06.94-2.06 2.06-.94-2.06-.94-.94-2.06-.94 2.06-2.06.94z\"/><path d=\"M17.41 7.96l-1.37-1.37c-.4-.4-.92-.59-1.43-.59-.52 0-1.04.2-1.43.59L10.3 9.45l-7.72 7.72c-.78.78-.78 2.05 0 2.83L4 21.41c.39.39.9.59 1.41.59.51 0 1.02-.2 1.41-.59l7.78-7.78 2.81-2.81c.8-.78.8-2.07 0-2.86zM5.41 20L4 18.59l7.72-7.72 1.47 1.35L5.41 20z\"/>\n",
              "  </svg>\n",
              "      </button>\n",
              "      \n",
              "  <style>\n",
              "    .colab-df-container {\n",
              "      display:flex;\n",
              "      flex-wrap:wrap;\n",
              "      gap: 12px;\n",
              "    }\n",
              "\n",
              "    .colab-df-convert {\n",
              "      background-color: #E8F0FE;\n",
              "      border: none;\n",
              "      border-radius: 50%;\n",
              "      cursor: pointer;\n",
              "      display: none;\n",
              "      fill: #1967D2;\n",
              "      height: 32px;\n",
              "      padding: 0 0 0 0;\n",
              "      width: 32px;\n",
              "    }\n",
              "\n",
              "    .colab-df-convert:hover {\n",
              "      background-color: #E2EBFA;\n",
              "      box-shadow: 0px 1px 2px rgba(60, 64, 67, 0.3), 0px 1px 3px 1px rgba(60, 64, 67, 0.15);\n",
              "      fill: #174EA6;\n",
              "    }\n",
              "\n",
              "    [theme=dark] .colab-df-convert {\n",
              "      background-color: #3B4455;\n",
              "      fill: #D2E3FC;\n",
              "    }\n",
              "\n",
              "    [theme=dark] .colab-df-convert:hover {\n",
              "      background-color: #434B5C;\n",
              "      box-shadow: 0px 1px 3px 1px rgba(0, 0, 0, 0.15);\n",
              "      filter: drop-shadow(0px 1px 2px rgba(0, 0, 0, 0.3));\n",
              "      fill: #FFFFFF;\n",
              "    }\n",
              "  </style>\n",
              "\n",
              "      <script>\n",
              "        const buttonEl =\n",
              "          document.querySelector('#df-89f7bfaf-20ba-46a1-ad6a-e35b227f4e1b button.colab-df-convert');\n",
              "        buttonEl.style.display =\n",
              "          google.colab.kernel.accessAllowed ? 'block' : 'none';\n",
              "\n",
              "        async function convertToInteractive(key) {\n",
              "          const element = document.querySelector('#df-89f7bfaf-20ba-46a1-ad6a-e35b227f4e1b');\n",
              "          const dataTable =\n",
              "            await google.colab.kernel.invokeFunction('convertToInteractive',\n",
              "                                                     [key], {});\n",
              "          if (!dataTable) return;\n",
              "\n",
              "          const docLinkHtml = 'Like what you see? Visit the ' +\n",
              "            '<a target=\"_blank\" href=https://colab.research.google.com/notebooks/data_table.ipynb>data table notebook</a>'\n",
              "            + ' to learn more about interactive tables.';\n",
              "          element.innerHTML = '';\n",
              "          dataTable['output_type'] = 'display_data';\n",
              "          await google.colab.output.renderOutput(dataTable, element);\n",
              "          const docLink = document.createElement('div');\n",
              "          docLink.innerHTML = docLinkHtml;\n",
              "          element.appendChild(docLink);\n",
              "        }\n",
              "      </script>\n",
              "    </div>\n",
              "  </div>\n",
              "  "
            ],
            "text/plain": [
              "                           precision  recall  f-measure  support\n",
              "fromloc.state_code               1.0     1.0        1.0       23\n",
              "arrive_date.date_relative        1.0     1.0        1.0        2\n",
              "toloc.state_code                 1.0     1.0        1.0       18\n",
              "flight_days                      1.0     1.0        1.0       10\n",
              "toloc.country_name               1.0     1.0        1.0        1\n",
              "...                              ...     ...        ...      ...\n",
              "return_date.day_name             1.0     0.0        0.0        2\n",
              "days_code                        1.0     0.0        0.0        1\n",
              "depart_date.year                 1.0     0.0        0.0        3\n",
              "state_name                       1.0     0.0        0.0        9\n",
              "stoploc.airport_code             1.0     0.0        0.0        1\n",
              "\n",
              "[70 rows x 4 columns]"
            ]
          },
          "execution_count": 60,
          "metadata": {},
          "output_type": "execute_result"
        }
      ],
      "source": [
        "pd_tbl = pd.DataFrame().from_dict({k: v for k, v in sorted(results_test_ATIS.items(), key=lambda x: x[1]['f-measure'], reverse = True)}, orient='index')\n",
        "pd_tbl.round(decimals=3)"
      ]
    },
    {
      "cell_type": "code",
      "execution_count": null,
      "metadata": {
        "colab": {
          "base_uri": "https://localhost:8080/",
          "height": 739
        },
        "id": "5u8Q5ajClu8u",
        "outputId": "6944b03c-baf6-4219-87f6-15c60aa9a825"
      },
      "outputs": [
        {
          "data": {
            "text/html": [
              "\n",
              "  <div id=\"df-ec41caba-e738-4ec4-98c8-fd9f48709a11\">\n",
              "    <div class=\"colab-df-container\">\n",
              "      <div>\n",
              "<style scoped>\n",
              "    .dataframe tbody tr th:only-of-type {\n",
              "        vertical-align: middle;\n",
              "    }\n",
              "\n",
              "    .dataframe tbody tr th {\n",
              "        vertical-align: top;\n",
              "    }\n",
              "\n",
              "    .dataframe thead th {\n",
              "        text-align: right;\n",
              "    }\n",
              "</style>\n",
              "<table border=\"1\" class=\"dataframe\">\n",
              "  <thead>\n",
              "    <tr style=\"text-align: right;\">\n",
              "      <th></th>\n",
              "      <th>precision</th>\n",
              "      <th>recall</th>\n",
              "      <th>f1-score</th>\n",
              "      <th>support</th>\n",
              "    </tr>\n",
              "  </thead>\n",
              "  <tbody>\n",
              "    <tr>\n",
              "      <th>abbreviation</th>\n",
              "      <td>1.000</td>\n",
              "      <td>1.000</td>\n",
              "      <td>1.000</td>\n",
              "      <td>33</td>\n",
              "    </tr>\n",
              "    <tr>\n",
              "      <th>capacity</th>\n",
              "      <td>1.000</td>\n",
              "      <td>0.952</td>\n",
              "      <td>0.976</td>\n",
              "      <td>21</td>\n",
              "    </tr>\n",
              "    <tr>\n",
              "      <th>ground_service</th>\n",
              "      <td>0.947</td>\n",
              "      <td>1.000</td>\n",
              "      <td>0.973</td>\n",
              "      <td>36</td>\n",
              "    </tr>\n",
              "    <tr>\n",
              "      <th>flight</th>\n",
              "      <td>0.953</td>\n",
              "      <td>0.991</td>\n",
              "      <td>0.971</td>\n",
              "      <td>632</td>\n",
              "    </tr>\n",
              "    <tr>\n",
              "      <th>airline</th>\n",
              "      <td>0.949</td>\n",
              "      <td>0.974</td>\n",
              "      <td>0.961</td>\n",
              "      <td>38</td>\n",
              "    </tr>\n",
              "    <tr>\n",
              "      <th>distance</th>\n",
              "      <td>1.000</td>\n",
              "      <td>0.900</td>\n",
              "      <td>0.947</td>\n",
              "      <td>10</td>\n",
              "    </tr>\n",
              "    <tr>\n",
              "      <th>airfare</th>\n",
              "      <td>0.887</td>\n",
              "      <td>0.979</td>\n",
              "      <td>0.931</td>\n",
              "      <td>48</td>\n",
              "    </tr>\n",
              "    <tr>\n",
              "      <th>weighted avg</th>\n",
              "      <td>0.925</td>\n",
              "      <td>0.941</td>\n",
              "      <td>0.926</td>\n",
              "      <td>893</td>\n",
              "    </tr>\n",
              "    <tr>\n",
              "      <th>airport</th>\n",
              "      <td>1.000</td>\n",
              "      <td>0.833</td>\n",
              "      <td>0.909</td>\n",
              "      <td>18</td>\n",
              "    </tr>\n",
              "    <tr>\n",
              "      <th>ground_fare</th>\n",
              "      <td>1.000</td>\n",
              "      <td>0.714</td>\n",
              "      <td>0.833</td>\n",
              "      <td>7</td>\n",
              "    </tr>\n",
              "    <tr>\n",
              "      <th>flight_time</th>\n",
              "      <td>0.500</td>\n",
              "      <td>1.000</td>\n",
              "      <td>0.667</td>\n",
              "      <td>1</td>\n",
              "    </tr>\n",
              "    <tr>\n",
              "      <th>aircraft</th>\n",
              "      <td>0.600</td>\n",
              "      <td>0.667</td>\n",
              "      <td>0.632</td>\n",
              "      <td>9</td>\n",
              "    </tr>\n",
              "    <tr>\n",
              "      <th>quantity</th>\n",
              "      <td>0.375</td>\n",
              "      <td>1.000</td>\n",
              "      <td>0.545</td>\n",
              "      <td>3</td>\n",
              "    </tr>\n",
              "    <tr>\n",
              "      <th>macro avg</th>\n",
              "      <td>0.586</td>\n",
              "      <td>0.563</td>\n",
              "      <td>0.537</td>\n",
              "      <td>893</td>\n",
              "    </tr>\n",
              "    <tr>\n",
              "      <th>city</th>\n",
              "      <td>0.500</td>\n",
              "      <td>0.167</td>\n",
              "      <td>0.250</td>\n",
              "      <td>6</td>\n",
              "    </tr>\n",
              "    <tr>\n",
              "      <th>flight+airfare</th>\n",
              "      <td>1.000</td>\n",
              "      <td>0.083</td>\n",
              "      <td>0.154</td>\n",
              "      <td>12</td>\n",
              "    </tr>\n",
              "    <tr>\n",
              "      <th>airfare+flight</th>\n",
              "      <td>0.000</td>\n",
              "      <td>0.000</td>\n",
              "      <td>0.000</td>\n",
              "      <td>1</td>\n",
              "    </tr>\n",
              "    <tr>\n",
              "      <th>day_name</th>\n",
              "      <td>0.000</td>\n",
              "      <td>0.000</td>\n",
              "      <td>0.000</td>\n",
              "      <td>2</td>\n",
              "    </tr>\n",
              "    <tr>\n",
              "      <th>flight+airline</th>\n",
              "      <td>0.000</td>\n",
              "      <td>0.000</td>\n",
              "      <td>0.000</td>\n",
              "      <td>1</td>\n",
              "    </tr>\n",
              "    <tr>\n",
              "      <th>flight_no</th>\n",
              "      <td>0.000</td>\n",
              "      <td>0.000</td>\n",
              "      <td>0.000</td>\n",
              "      <td>8</td>\n",
              "    </tr>\n",
              "    <tr>\n",
              "      <th>flight_no+airline</th>\n",
              "      <td>0.000</td>\n",
              "      <td>0.000</td>\n",
              "      <td>0.000</td>\n",
              "      <td>1</td>\n",
              "    </tr>\n",
              "    <tr>\n",
              "      <th>meal</th>\n",
              "      <td>0.000</td>\n",
              "      <td>0.000</td>\n",
              "      <td>0.000</td>\n",
              "      <td>6</td>\n",
              "    </tr>\n",
              "  </tbody>\n",
              "</table>\n",
              "</div>\n",
              "      <button class=\"colab-df-convert\" onclick=\"convertToInteractive('df-ec41caba-e738-4ec4-98c8-fd9f48709a11')\"\n",
              "              title=\"Convert this dataframe to an interactive table.\"\n",
              "              style=\"display:none;\">\n",
              "        \n",
              "  <svg xmlns=\"http://www.w3.org/2000/svg\" height=\"24px\"viewBox=\"0 0 24 24\"\n",
              "       width=\"24px\">\n",
              "    <path d=\"M0 0h24v24H0V0z\" fill=\"none\"/>\n",
              "    <path d=\"M18.56 5.44l.94 2.06.94-2.06 2.06-.94-2.06-.94-.94-2.06-.94 2.06-2.06.94zm-11 1L8.5 8.5l.94-2.06 2.06-.94-2.06-.94L8.5 2.5l-.94 2.06-2.06.94zm10 10l.94 2.06.94-2.06 2.06-.94-2.06-.94-.94-2.06-.94 2.06-2.06.94z\"/><path d=\"M17.41 7.96l-1.37-1.37c-.4-.4-.92-.59-1.43-.59-.52 0-1.04.2-1.43.59L10.3 9.45l-7.72 7.72c-.78.78-.78 2.05 0 2.83L4 21.41c.39.39.9.59 1.41.59.51 0 1.02-.2 1.41-.59l7.78-7.78 2.81-2.81c.8-.78.8-2.07 0-2.86zM5.41 20L4 18.59l7.72-7.72 1.47 1.35L5.41 20z\"/>\n",
              "  </svg>\n",
              "      </button>\n",
              "      \n",
              "  <style>\n",
              "    .colab-df-container {\n",
              "      display:flex;\n",
              "      flex-wrap:wrap;\n",
              "      gap: 12px;\n",
              "    }\n",
              "\n",
              "    .colab-df-convert {\n",
              "      background-color: #E8F0FE;\n",
              "      border: none;\n",
              "      border-radius: 50%;\n",
              "      cursor: pointer;\n",
              "      display: none;\n",
              "      fill: #1967D2;\n",
              "      height: 32px;\n",
              "      padding: 0 0 0 0;\n",
              "      width: 32px;\n",
              "    }\n",
              "\n",
              "    .colab-df-convert:hover {\n",
              "      background-color: #E2EBFA;\n",
              "      box-shadow: 0px 1px 2px rgba(60, 64, 67, 0.3), 0px 1px 3px 1px rgba(60, 64, 67, 0.15);\n",
              "      fill: #174EA6;\n",
              "    }\n",
              "\n",
              "    [theme=dark] .colab-df-convert {\n",
              "      background-color: #3B4455;\n",
              "      fill: #D2E3FC;\n",
              "    }\n",
              "\n",
              "    [theme=dark] .colab-df-convert:hover {\n",
              "      background-color: #434B5C;\n",
              "      box-shadow: 0px 1px 3px 1px rgba(0, 0, 0, 0.15);\n",
              "      filter: drop-shadow(0px 1px 2px rgba(0, 0, 0, 0.3));\n",
              "      fill: #FFFFFF;\n",
              "    }\n",
              "  </style>\n",
              "\n",
              "      <script>\n",
              "        const buttonEl =\n",
              "          document.querySelector('#df-ec41caba-e738-4ec4-98c8-fd9f48709a11 button.colab-df-convert');\n",
              "        buttonEl.style.display =\n",
              "          google.colab.kernel.accessAllowed ? 'block' : 'none';\n",
              "\n",
              "        async function convertToInteractive(key) {\n",
              "          const element = document.querySelector('#df-ec41caba-e738-4ec4-98c8-fd9f48709a11');\n",
              "          const dataTable =\n",
              "            await google.colab.kernel.invokeFunction('convertToInteractive',\n",
              "                                                     [key], {});\n",
              "          if (!dataTable) return;\n",
              "\n",
              "          const docLinkHtml = 'Like what you see? Visit the ' +\n",
              "            '<a target=\"_blank\" href=https://colab.research.google.com/notebooks/data_table.ipynb>data table notebook</a>'\n",
              "            + ' to learn more about interactive tables.';\n",
              "          element.innerHTML = '';\n",
              "          dataTable['output_type'] = 'display_data';\n",
              "          await google.colab.output.renderOutput(dataTable, element);\n",
              "          const docLink = document.createElement('div');\n",
              "          docLink.innerHTML = docLinkHtml;\n",
              "          element.appendChild(docLink);\n",
              "        }\n",
              "      </script>\n",
              "    </div>\n",
              "  </div>\n",
              "  "
            ],
            "text/plain": [
              "                   precision  recall  f1-score  support\n",
              "abbreviation           1.000   1.000     1.000       33\n",
              "capacity               1.000   0.952     0.976       21\n",
              "ground_service         0.947   1.000     0.973       36\n",
              "flight                 0.953   0.991     0.971      632\n",
              "airline                0.949   0.974     0.961       38\n",
              "distance               1.000   0.900     0.947       10\n",
              "airfare                0.887   0.979     0.931       48\n",
              "weighted avg           0.925   0.941     0.926      893\n",
              "airport                1.000   0.833     0.909       18\n",
              "ground_fare            1.000   0.714     0.833        7\n",
              "flight_time            0.500   1.000     0.667        1\n",
              "aircraft               0.600   0.667     0.632        9\n",
              "quantity               0.375   1.000     0.545        3\n",
              "macro avg              0.586   0.563     0.537      893\n",
              "city                   0.500   0.167     0.250        6\n",
              "flight+airfare         1.000   0.083     0.154       12\n",
              "airfare+flight         0.000   0.000     0.000        1\n",
              "day_name               0.000   0.000     0.000        2\n",
              "flight+airline         0.000   0.000     0.000        1\n",
              "flight_no              0.000   0.000     0.000        8\n",
              "flight_no+airline      0.000   0.000     0.000        1\n",
              "meal                   0.000   0.000     0.000        6"
            ]
          },
          "execution_count": 61,
          "metadata": {},
          "output_type": "execute_result"
        }
      ],
      "source": [
        "intents_test_ATIS.pop('accuracy')\n",
        "pd_tbl = pd.DataFrame().from_dict({k: v for k, v in sorted(intents_test_ATIS.items(), key=lambda x: x[1]['f1-score'], reverse = True)}, orient='index')\n",
        "pd_tbl.round(decimals=3)"
      ]
    },
    {
      "cell_type": "code",
      "execution_count": null,
      "metadata": {
        "colab": {
          "base_uri": "https://localhost:8080/",
          "height": 350
        },
        "id": "5zmqE5_4Bc5v",
        "outputId": "4c5ec295-3a8f-49ab-bebf-dca70d0fc0bb"
      },
      "outputs": [
        {
          "data": {
            "image/png": "[encoded data removed]",
            "text/plain": [
              "<Figure size 576x360 with 1 Axes>"
            ]
          },
          "metadata": {},
          "output_type": "display_data"
        }
      ],
      "source": [
        "plt.figure(num = 3, figsize=(8, 5)).patch.set_facecolor('white')\n",
        "plt.title('Train and Dev Losses ATIS dataset')\n",
        "plt.ylabel('Loss')\n",
        "plt.xlabel('Epochs')\n",
        "plt.plot(sampled_epochs_ATIS, losses_train_ATIS, label='Train loss')\n",
        "plt.plot(sampled_epochs_ATIS, losses_dev_ATIS, label='Dev loss')\n",
        "plt.legend()\n",
        "plt.show()"
      ]
    },
    {
      "cell_type": "code",
      "execution_count": null,
      "metadata": {
        "colab": {
          "base_uri": "https://localhost:8080/",
          "height": 609
        },
        "id": "mezyN6TsYxmX",
        "outputId": "348c0c45-f7e1-45d7-ef7a-368cb11563ab"
      },
      "outputs": [
        {
          "data": {
            "text/plain": [
              "<matplotlib.image.AxesImage at 0x7f1d81ece410>"
            ]
          },
          "execution_count": 63,
          "metadata": {},
          "output_type": "execute_result"
        },
        {
          "data": {
            "image/png": "[encoded data removed]",
            "text/plain": [
              "<Figure size 720x720 with 1 Axes>"
            ]
          },
          "metadata": {
            "needs_background": "light"
          },
          "output_type": "display_data"
        }
      ],
      "source": [
        "mp.pyplot.figure(figsize = (10,10))\n",
        "mp.pyplot.imshow(cm_intent_ATIS, norm = mp.colors.Normalize(vmin = 0, vmax = 255))"
      ]
    },
    {
      "cell_type": "code",
      "execution_count": null,
      "metadata": {
        "colab": {
          "base_uri": "https://localhost:8080/",
          "height": 610
        },
        "id": "u9zCzDQZbA-U",
        "outputId": "5e960625-f987-486f-a182-3e14ff0664bd"
      },
      "outputs": [
        {
          "data": {
            "text/plain": [
              "<matplotlib.image.AxesImage at 0x7f1d81e57910>"
            ]
          },
          "execution_count": 64,
          "metadata": {},
          "output_type": "execute_result"
        },
        {
          "data": {
            "image/png": "[encoded data removed]",
            "text/plain": [
              "<Figure size 720x720 with 1 Axes>"
            ]
          },
          "metadata": {
            "needs_background": "light"
          },
          "output_type": "display_data"
        }
      ],
      "source": [
        "mp.pyplot.figure(figsize = (10,10))\n",
        "mp.pyplot.imshow(cm_slot_ATIS, norm = mp.colors.Normalize(vmin = 0, vmax = 255))"
      ]
    },
    {
      "cell_type": "markdown",
      "metadata": {
        "id": "OYnJAorRVobm"
      },
      "source": [
        "#### Snips training"
      ]
    },
    {
      "cell_type": "code",
      "execution_count": 38,
      "metadata": {
        "id": "7D7gjnr32sp7"
      },
      "outputs": [],
      "source": [
        "model_baseline_SNIPS = ModelIAS(hid_size, out_slot_SNIPS, out_int_SNIPS, emb_size, vocab_len_SNIPS, bidirectional = False, pad_index=PAD_TOKEN).to(device)\n",
        "model_baseline_SNIPS.apply(init_weights)\n",
        "\n",
        "optimizer_SNIPS = optim.Adam(model_baseline_SNIPS.parameters(), lr=lr)"
      ]
    },
    {
      "cell_type": "code",
      "execution_count": null,
      "metadata": {
        "colab": {
          "base_uri": "https://localhost:8080/"
        },
        "id": "Q5EV_F03Yv7i",
        "outputId": "07014496-24d9-426d-8f91-355bf973cbb8"
      },
      "outputs": [
        {
          "name": "stderr",
          "output_type": "stream",
          "text": [
            " 50%|████▉     | 99/199 [02:57<02:59,  1.79s/it]\n"
          ]
        },
        {
          "name": "stdout",
          "output_type": "stream",
          "text": [
            "\n",
            "Slot F1:  0.811\n",
            "Intent Accuracy: 0.96\n"
          ]
        },
        {
          "name": "stderr",
          "output_type": "stream",
          "text": [
            " 37%|███▋      | 74/199 [02:20<03:57,  1.90s/it]\n"
          ]
        },
        {
          "name": "stdout",
          "output_type": "stream",
          "text": [
            "\n",
            "Slot F1:  0.816\n",
            "Intent Accuracy: 0.957\n"
          ]
        },
        {
          "name": "stderr",
          "output_type": "stream",
          "text": [
            " 37%|███▋      | 74/199 [02:07<03:36,  1.73s/it]\n"
          ]
        },
        {
          "name": "stdout",
          "output_type": "stream",
          "text": [
            "\n",
            "Slot F1:  0.812\n",
            "Intent Accuracy: 0.96\n"
          ]
        },
        {
          "name": "stderr",
          "output_type": "stream",
          "text": [
            " 42%|████▏     | 84/199 [02:23<03:17,  1.71s/it]\n"
          ]
        },
        {
          "name": "stdout",
          "output_type": "stream",
          "text": [
            "\n",
            "Slot F1:  0.828\n",
            "Intent Accuracy: 0.967\n"
          ]
        },
        {
          "name": "stderr",
          "output_type": "stream",
          "text": [
            " 35%|███▍      | 69/199 [01:58<03:43,  1.72s/it]"
          ]
        },
        {
          "name": "stdout",
          "output_type": "stream",
          "text": [
            "\n",
            "Slot F1:  0.827\n",
            "Intent Accuracy: 0.961\n",
            "\n",
            "Slot F1 mean:  0.819\n",
            "Slot F1 standard deviation:  0.007\n",
            "Intent Accuracy mean: 0.961\n",
            "Intent Accuracy standard deviation: 0.003\n"
          ]
        },
        {
          "name": "stderr",
          "output_type": "stream",
          "text": [
            "\n"
          ]
        }
      ],
      "source": [
        "slots_baseline_SNIPS = []\n",
        "intents_baseline_SNIPS = []\n",
        "for i in range(5):\n",
        "  model_baseline_SNIPS.apply(init_weights)\n",
        "  results_test_SNIPS, intents_test_SNIPS, sampled_epochs_SNIPS, losses_train_SNIPS, losses_dev_SNIPS, cm_slot, cm_intent = train_model(dev_loader_SNIPS,\n",
        "                                                                                                                                        train_loader_SNIPS, \n",
        "                                                                                                                                        test_loader_SNIPS, \n",
        "                                                                                                                                        model_baseline_SNIPS,\n",
        "                                                                                                                                        lang_SNIPS, \n",
        "                                                                                                                                        criterion_intents, \n",
        "                                                                                                                                        criterion_slots, \n",
        "                                                                                                                                        optimizer_SNIPS)\n",
        "  print('\\nSlot F1: ', round(results_test_SNIPS['total']['f-measure'],3))\n",
        "  print('Intent Accuracy:', round(intents_test_SNIPS['accuracy'],3))\n",
        "  cm_slot_SNIPS += cm_slot\n",
        "  cm_intent_SNIPS += cm_intent\n",
        "  slots_baseline_SNIPS.append(results_test_SNIPS['total']['f-measure'])\n",
        "  intents_baseline_SNIPS.append(intents_test_SNIPS['accuracy'])\n",
        "slots_mean_SNIPS = np.mean(slots_baseline_SNIPS)\n",
        "slots_std_SNIPS = np.std(slots_baseline_SNIPS)\n",
        "intents_mean_SNIPS = np.mean(intents_baseline_SNIPS)\n",
        "intents_std_SNIPS = np.std(intents_baseline_SNIPS)\n",
        "print('\\nSlot F1 mean: ', round(slots_mean_SNIPS,3))\n",
        "print('Slot F1 standard deviation: ', round(slots_std_SNIPS,3))\n",
        "print('Intent Accuracy mean:', round(intents_mean_SNIPS,3))\n",
        "print('Intent Accuracy standard deviation:', round(intents_std_SNIPS,3))"
      ]
    },
    {
      "cell_type": "code",
      "execution_count": 43,
      "metadata": {
        "colab": {
          "base_uri": "https://localhost:8080/",
          "height": 1000
        },
        "id": "BPI0lVL-n4gq",
        "outputId": "e85b0b83-aeda-4ea5-d9c4-a19d865671d5"
      },
      "outputs": [
        {
          "data": {
            "text/html": [
              "\n",
              "  <div id=\"df-63907da1-c740-4e0b-b672-f7ec3ee79b1c\">\n",
              "    <div class=\"colab-df-container\">\n",
              "      <div>\n",
              "<style scoped>\n",
              "    .dataframe tbody tr th:only-of-type {\n",
              "        vertical-align: middle;\n",
              "    }\n",
              "\n",
              "    .dataframe tbody tr th {\n",
              "        vertical-align: top;\n",
              "    }\n",
              "\n",
              "    .dataframe thead th {\n",
              "        text-align: right;\n",
              "    }\n",
              "</style>\n",
              "<table border=\"1\" class=\"dataframe\">\n",
              "  <thead>\n",
              "    <tr style=\"text-align: right;\">\n",
              "      <th></th>\n",
              "      <th>precision</th>\n",
              "      <th>recall</th>\n",
              "      <th>f-measure</th>\n",
              "      <th>support</th>\n",
              "    </tr>\n",
              "  </thead>\n",
              "  <tbody>\n",
              "    <tr>\n",
              "      <th>movie_type</th>\n",
              "      <td>1.000</td>\n",
              "      <td>1.000</td>\n",
              "      <td>1.000</td>\n",
              "      <td>33</td>\n",
              "    </tr>\n",
              "    <tr>\n",
              "      <th>condition_temperature</th>\n",
              "      <td>1.000</td>\n",
              "      <td>1.000</td>\n",
              "      <td>1.000</td>\n",
              "      <td>23</td>\n",
              "    </tr>\n",
              "    <tr>\n",
              "      <th>best_rating</th>\n",
              "      <td>1.000</td>\n",
              "      <td>1.000</td>\n",
              "      <td>1.000</td>\n",
              "      <td>43</td>\n",
              "    </tr>\n",
              "    <tr>\n",
              "      <th>facility</th>\n",
              "      <td>1.000</td>\n",
              "      <td>1.000</td>\n",
              "      <td>1.000</td>\n",
              "      <td>3</td>\n",
              "    </tr>\n",
              "    <tr>\n",
              "      <th>rating_unit</th>\n",
              "      <td>1.000</td>\n",
              "      <td>1.000</td>\n",
              "      <td>1.000</td>\n",
              "      <td>40</td>\n",
              "    </tr>\n",
              "    <tr>\n",
              "      <th>rating_value</th>\n",
              "      <td>0.988</td>\n",
              "      <td>0.988</td>\n",
              "      <td>0.988</td>\n",
              "      <td>80</td>\n",
              "    </tr>\n",
              "    <tr>\n",
              "      <th>music_item</th>\n",
              "      <td>0.963</td>\n",
              "      <td>0.990</td>\n",
              "      <td>0.976</td>\n",
              "      <td>104</td>\n",
              "    </tr>\n",
              "    <tr>\n",
              "      <th>sort</th>\n",
              "      <td>0.941</td>\n",
              "      <td>1.000</td>\n",
              "      <td>0.970</td>\n",
              "      <td>32</td>\n",
              "    </tr>\n",
              "    <tr>\n",
              "      <th>current_location</th>\n",
              "      <td>1.000</td>\n",
              "      <td>0.929</td>\n",
              "      <td>0.963</td>\n",
              "      <td>14</td>\n",
              "    </tr>\n",
              "    <tr>\n",
              "      <th>condition_description</th>\n",
              "      <td>1.000</td>\n",
              "      <td>0.929</td>\n",
              "      <td>0.963</td>\n",
              "      <td>28</td>\n",
              "    </tr>\n",
              "    <tr>\n",
              "      <th>restaurant_type</th>\n",
              "      <td>0.984</td>\n",
              "      <td>0.938</td>\n",
              "      <td>0.961</td>\n",
              "      <td>65</td>\n",
              "    </tr>\n",
              "    <tr>\n",
              "      <th>year</th>\n",
              "      <td>1.000</td>\n",
              "      <td>0.917</td>\n",
              "      <td>0.957</td>\n",
              "      <td>24</td>\n",
              "    </tr>\n",
              "    <tr>\n",
              "      <th>object_type</th>\n",
              "      <td>0.945</td>\n",
              "      <td>0.963</td>\n",
              "      <td>0.954</td>\n",
              "      <td>162</td>\n",
              "    </tr>\n",
              "    <tr>\n",
              "      <th>party_size_number</th>\n",
              "      <td>0.893</td>\n",
              "      <td>1.000</td>\n",
              "      <td>0.943</td>\n",
              "      <td>50</td>\n",
              "    </tr>\n",
              "    <tr>\n",
              "      <th>object_select</th>\n",
              "      <td>0.889</td>\n",
              "      <td>1.000</td>\n",
              "      <td>0.941</td>\n",
              "      <td>40</td>\n",
              "    </tr>\n",
              "    <tr>\n",
              "      <th>service</th>\n",
              "      <td>0.920</td>\n",
              "      <td>0.958</td>\n",
              "      <td>0.939</td>\n",
              "      <td>24</td>\n",
              "    </tr>\n",
              "    <tr>\n",
              "      <th>location_name</th>\n",
              "      <td>0.917</td>\n",
              "      <td>0.917</td>\n",
              "      <td>0.917</td>\n",
              "      <td>24</td>\n",
              "    </tr>\n",
              "    <tr>\n",
              "      <th>playlist_owner</th>\n",
              "      <td>0.914</td>\n",
              "      <td>0.914</td>\n",
              "      <td>0.914</td>\n",
              "      <td>70</td>\n",
              "    </tr>\n",
              "    <tr>\n",
              "      <th>object_location_type</th>\n",
              "      <td>0.909</td>\n",
              "      <td>0.909</td>\n",
              "      <td>0.909</td>\n",
              "      <td>22</td>\n",
              "    </tr>\n",
              "    <tr>\n",
              "      <th>object_part_of_series_type</th>\n",
              "      <td>0.833</td>\n",
              "      <td>0.909</td>\n",
              "      <td>0.870</td>\n",
              "      <td>11</td>\n",
              "    </tr>\n",
              "    <tr>\n",
              "      <th>spatial_relation</th>\n",
              "      <td>0.849</td>\n",
              "      <td>0.873</td>\n",
              "      <td>0.861</td>\n",
              "      <td>71</td>\n",
              "    </tr>\n",
              "    <tr>\n",
              "      <th>state</th>\n",
              "      <td>0.842</td>\n",
              "      <td>0.814</td>\n",
              "      <td>0.828</td>\n",
              "      <td>59</td>\n",
              "    </tr>\n",
              "    <tr>\n",
              "      <th>total</th>\n",
              "      <td>0.769</td>\n",
              "      <td>0.833</td>\n",
              "      <td>0.799</td>\n",
              "      <td>1790</td>\n",
              "    </tr>\n",
              "    <tr>\n",
              "      <th>playlist</th>\n",
              "      <td>0.724</td>\n",
              "      <td>0.853</td>\n",
              "      <td>0.783</td>\n",
              "      <td>129</td>\n",
              "    </tr>\n",
              "    <tr>\n",
              "      <th>cuisine</th>\n",
              "      <td>0.900</td>\n",
              "      <td>0.643</td>\n",
              "      <td>0.750</td>\n",
              "      <td>14</td>\n",
              "    </tr>\n",
              "    <tr>\n",
              "      <th>country</th>\n",
              "      <td>0.667</td>\n",
              "      <td>0.818</td>\n",
              "      <td>0.735</td>\n",
              "      <td>44</td>\n",
              "    </tr>\n",
              "    <tr>\n",
              "      <th>timeRange</th>\n",
              "      <td>0.678</td>\n",
              "      <td>0.766</td>\n",
              "      <td>0.719</td>\n",
              "      <td>107</td>\n",
              "    </tr>\n",
              "    <tr>\n",
              "      <th>genre</th>\n",
              "      <td>0.571</td>\n",
              "      <td>0.800</td>\n",
              "      <td>0.667</td>\n",
              "      <td>5</td>\n",
              "    </tr>\n",
              "    <tr>\n",
              "      <th>served_dish</th>\n",
              "      <td>0.600</td>\n",
              "      <td>0.750</td>\n",
              "      <td>0.667</td>\n",
              "      <td>12</td>\n",
              "    </tr>\n",
              "    <tr>\n",
              "      <th>artist</th>\n",
              "      <td>0.663</td>\n",
              "      <td>0.607</td>\n",
              "      <td>0.634</td>\n",
              "      <td>107</td>\n",
              "    </tr>\n",
              "    <tr>\n",
              "      <th>poi</th>\n",
              "      <td>0.545</td>\n",
              "      <td>0.750</td>\n",
              "      <td>0.632</td>\n",
              "      <td>8</td>\n",
              "    </tr>\n",
              "    <tr>\n",
              "      <th>city</th>\n",
              "      <td>0.630</td>\n",
              "      <td>0.567</td>\n",
              "      <td>0.596</td>\n",
              "      <td>60</td>\n",
              "    </tr>\n",
              "    <tr>\n",
              "      <th>object_name</th>\n",
              "      <td>0.560</td>\n",
              "      <td>0.633</td>\n",
              "      <td>0.594</td>\n",
              "      <td>147</td>\n",
              "    </tr>\n",
              "    <tr>\n",
              "      <th>movie_name</th>\n",
              "      <td>0.475</td>\n",
              "      <td>0.596</td>\n",
              "      <td>0.528</td>\n",
              "      <td>47</td>\n",
              "    </tr>\n",
              "    <tr>\n",
              "      <th>restaurant_name</th>\n",
              "      <td>0.444</td>\n",
              "      <td>0.533</td>\n",
              "      <td>0.485</td>\n",
              "      <td>15</td>\n",
              "    </tr>\n",
              "    <tr>\n",
              "      <th>party_size_description</th>\n",
              "      <td>0.400</td>\n",
              "      <td>0.600</td>\n",
              "      <td>0.480</td>\n",
              "      <td>10</td>\n",
              "    </tr>\n",
              "    <tr>\n",
              "      <th>entity_name</th>\n",
              "      <td>0.352</td>\n",
              "      <td>0.576</td>\n",
              "      <td>0.437</td>\n",
              "      <td>33</td>\n",
              "    </tr>\n",
              "    <tr>\n",
              "      <th>album</th>\n",
              "      <td>0.364</td>\n",
              "      <td>0.400</td>\n",
              "      <td>0.381</td>\n",
              "      <td>10</td>\n",
              "    </tr>\n",
              "    <tr>\n",
              "      <th>geographic_poi</th>\n",
              "      <td>0.103</td>\n",
              "      <td>0.273</td>\n",
              "      <td>0.150</td>\n",
              "      <td>11</td>\n",
              "    </tr>\n",
              "    <tr>\n",
              "      <th>track</th>\n",
              "      <td>0.065</td>\n",
              "      <td>0.222</td>\n",
              "      <td>0.100</td>\n",
              "      <td>9</td>\n",
              "    </tr>\n",
              "  </tbody>\n",
              "</table>\n",
              "</div>\n",
              "      <button class=\"colab-df-convert\" onclick=\"convertToInteractive('df-63907da1-c740-4e0b-b672-f7ec3ee79b1c')\"\n",
              "              title=\"Convert this dataframe to an interactive table.\"\n",
              "              style=\"display:none;\">\n",
              "        \n",
              "  <svg xmlns=\"http://www.w3.org/2000/svg\" height=\"24px\"viewBox=\"0 0 24 24\"\n",
              "       width=\"24px\">\n",
              "    <path d=\"M0 0h24v24H0V0z\" fill=\"none\"/>\n",
              "    <path d=\"M18.56 5.44l.94 2.06.94-2.06 2.06-.94-2.06-.94-.94-2.06-.94 2.06-2.06.94zm-11 1L8.5 8.5l.94-2.06 2.06-.94-2.06-.94L8.5 2.5l-.94 2.06-2.06.94zm10 10l.94 2.06.94-2.06 2.06-.94-2.06-.94-.94-2.06-.94 2.06-2.06.94z\"/><path d=\"M17.41 7.96l-1.37-1.37c-.4-.4-.92-.59-1.43-.59-.52 0-1.04.2-1.43.59L10.3 9.45l-7.72 7.72c-.78.78-.78 2.05 0 2.83L4 21.41c.39.39.9.59 1.41.59.51 0 1.02-.2 1.41-.59l7.78-7.78 2.81-2.81c.8-.78.8-2.07 0-2.86zM5.41 20L4 18.59l7.72-7.72 1.47 1.35L5.41 20z\"/>\n",
              "  </svg>\n",
              "      </button>\n",
              "      \n",
              "  <style>\n",
              "    .colab-df-container {\n",
              "      display:flex;\n",
              "      flex-wrap:wrap;\n",
              "      gap: 12px;\n",
              "    }\n",
              "\n",
              "    .colab-df-convert {\n",
              "      background-color: #E8F0FE;\n",
              "      border: none;\n",
              "      border-radius: 50%;\n",
              "      cursor: pointer;\n",
              "      display: none;\n",
              "      fill: #1967D2;\n",
              "      height: 32px;\n",
              "      padding: 0 0 0 0;\n",
              "      width: 32px;\n",
              "    }\n",
              "\n",
              "    .colab-df-convert:hover {\n",
              "      background-color: #E2EBFA;\n",
              "      box-shadow: 0px 1px 2px rgba(60, 64, 67, 0.3), 0px 1px 3px 1px rgba(60, 64, 67, 0.15);\n",
              "      fill: #174EA6;\n",
              "    }\n",
              "\n",
              "    [theme=dark] .colab-df-convert {\n",
              "      background-color: #3B4455;\n",
              "      fill: #D2E3FC;\n",
              "    }\n",
              "\n",
              "    [theme=dark] .colab-df-convert:hover {\n",
              "      background-color: #434B5C;\n",
              "      box-shadow: 0px 1px 3px 1px rgba(0, 0, 0, 0.15);\n",
              "      filter: drop-shadow(0px 1px 2px rgba(0, 0, 0, 0.3));\n",
              "      fill: #FFFFFF;\n",
              "    }\n",
              "  </style>\n",
              "\n",
              "      <script>\n",
              "        const buttonEl =\n",
              "          document.querySelector('#df-63907da1-c740-4e0b-b672-f7ec3ee79b1c button.colab-df-convert');\n",
              "        buttonEl.style.display =\n",
              "          google.colab.kernel.accessAllowed ? 'block' : 'none';\n",
              "\n",
              "        async function convertToInteractive(key) {\n",
              "          const element = document.querySelector('#df-63907da1-c740-4e0b-b672-f7ec3ee79b1c');\n",
              "          const dataTable =\n",
              "            await google.colab.kernel.invokeFunction('convertToInteractive',\n",
              "                                                     [key], {});\n",
              "          if (!dataTable) return;\n",
              "\n",
              "          const docLinkHtml = 'Like what you see? Visit the ' +\n",
              "            '<a target=\"_blank\" href=https://colab.research.google.com/notebooks/data_table.ipynb>data table notebook</a>'\n",
              "            + ' to learn more about interactive tables.';\n",
              "          element.innerHTML = '';\n",
              "          dataTable['output_type'] = 'display_data';\n",
              "          await google.colab.output.renderOutput(dataTable, element);\n",
              "          const docLink = document.createElement('div');\n",
              "          docLink.innerHTML = docLinkHtml;\n",
              "          element.appendChild(docLink);\n",
              "        }\n",
              "      </script>\n",
              "    </div>\n",
              "  </div>\n",
              "  "
            ],
            "text/plain": [
              "                            precision  recall  f-measure  support\n",
              "movie_type                      1.000   1.000      1.000       33\n",
              "condition_temperature           1.000   1.000      1.000       23\n",
              "best_rating                     1.000   1.000      1.000       43\n",
              "facility                        1.000   1.000      1.000        3\n",
              "rating_unit                     1.000   1.000      1.000       40\n",
              "rating_value                    0.988   0.988      0.988       80\n",
              "music_item                      0.963   0.990      0.976      104\n",
              "sort                            0.941   1.000      0.970       32\n",
              "current_location                1.000   0.929      0.963       14\n",
              "condition_description           1.000   0.929      0.963       28\n",
              "restaurant_type                 0.984   0.938      0.961       65\n",
              "year                            1.000   0.917      0.957       24\n",
              "object_type                     0.945   0.963      0.954      162\n",
              "party_size_number               0.893   1.000      0.943       50\n",
              "object_select                   0.889   1.000      0.941       40\n",
              "service                         0.920   0.958      0.939       24\n",
              "location_name                   0.917   0.917      0.917       24\n",
              "playlist_owner                  0.914   0.914      0.914       70\n",
              "object_location_type            0.909   0.909      0.909       22\n",
              "object_part_of_series_type      0.833   0.909      0.870       11\n",
              "spatial_relation                0.849   0.873      0.861       71\n",
              "state                           0.842   0.814      0.828       59\n",
              "total                           0.769   0.833      0.799     1790\n",
              "playlist                        0.724   0.853      0.783      129\n",
              "cuisine                         0.900   0.643      0.750       14\n",
              "country                         0.667   0.818      0.735       44\n",
              "timeRange                       0.678   0.766      0.719      107\n",
              "genre                           0.571   0.800      0.667        5\n",
              "served_dish                     0.600   0.750      0.667       12\n",
              "artist                          0.663   0.607      0.634      107\n",
              "poi                             0.545   0.750      0.632        8\n",
              "city                            0.630   0.567      0.596       60\n",
              "object_name                     0.560   0.633      0.594      147\n",
              "movie_name                      0.475   0.596      0.528       47\n",
              "restaurant_name                 0.444   0.533      0.485       15\n",
              "party_size_description          0.400   0.600      0.480       10\n",
              "entity_name                     0.352   0.576      0.437       33\n",
              "album                           0.364   0.400      0.381       10\n",
              "geographic_poi                  0.103   0.273      0.150       11\n",
              "track                           0.065   0.222      0.100        9"
            ]
          },
          "execution_count": 43,
          "metadata": {},
          "output_type": "execute_result"
        }
      ],
      "source": [
        "pd_tbl = pd.DataFrame().from_dict({k: v for k, v in sorted(results_test_SNIPS.items(), key=lambda x: x[1]['f-measure'], reverse = True)}, orient='index')\n",
        "pd_tbl.round(decimals=3)"
      ]
    },
    {
      "cell_type": "code",
      "execution_count": null,
      "metadata": {
        "colab": {
          "base_uri": "https://localhost:8080/",
          "height": 332
        },
        "id": "DDRzL-mfn-Ad",
        "outputId": "232c78bf-1994-497a-a645-fa3643ff5638"
      },
      "outputs": [
        {
          "data": {
            "text/html": [
              "\n",
              "  <div id=\"df-2a220905-ded7-4d05-96a4-5e2d992be20f\">\n",
              "    <div class=\"colab-df-container\">\n",
              "      <div>\n",
              "<style scoped>\n",
              "    .dataframe tbody tr th:only-of-type {\n",
              "        vertical-align: middle;\n",
              "    }\n",
              "\n",
              "    .dataframe tbody tr th {\n",
              "        vertical-align: top;\n",
              "    }\n",
              "\n",
              "    .dataframe thead th {\n",
              "        text-align: right;\n",
              "    }\n",
              "</style>\n",
              "<table border=\"1\" class=\"dataframe\">\n",
              "  <thead>\n",
              "    <tr style=\"text-align: right;\">\n",
              "      <th></th>\n",
              "      <th>precision</th>\n",
              "      <th>recall</th>\n",
              "      <th>f1-score</th>\n",
              "      <th>support</th>\n",
              "    </tr>\n",
              "  </thead>\n",
              "  <tbody>\n",
              "    <tr>\n",
              "      <th>RateBook</th>\n",
              "      <td>1.000</td>\n",
              "      <td>1.000</td>\n",
              "      <td>1.000</td>\n",
              "      <td>80</td>\n",
              "    </tr>\n",
              "    <tr>\n",
              "      <th>BookRestaurant</th>\n",
              "      <td>0.989</td>\n",
              "      <td>1.000</td>\n",
              "      <td>0.995</td>\n",
              "      <td>92</td>\n",
              "    </tr>\n",
              "    <tr>\n",
              "      <th>AddToPlaylist</th>\n",
              "      <td>0.992</td>\n",
              "      <td>0.992</td>\n",
              "      <td>0.992</td>\n",
              "      <td>124</td>\n",
              "    </tr>\n",
              "    <tr>\n",
              "      <th>GetWeather</th>\n",
              "      <td>0.954</td>\n",
              "      <td>0.990</td>\n",
              "      <td>0.972</td>\n",
              "      <td>104</td>\n",
              "    </tr>\n",
              "    <tr>\n",
              "      <th>macro avg</th>\n",
              "      <td>0.961</td>\n",
              "      <td>0.963</td>\n",
              "      <td>0.962</td>\n",
              "      <td>700</td>\n",
              "    </tr>\n",
              "    <tr>\n",
              "      <th>weighted avg</th>\n",
              "      <td>0.962</td>\n",
              "      <td>0.961</td>\n",
              "      <td>0.961</td>\n",
              "      <td>700</td>\n",
              "    </tr>\n",
              "    <tr>\n",
              "      <th>PlayMusic</th>\n",
              "      <td>0.913</td>\n",
              "      <td>0.977</td>\n",
              "      <td>0.944</td>\n",
              "      <td>86</td>\n",
              "    </tr>\n",
              "    <tr>\n",
              "      <th>SearchScreeningEvent</th>\n",
              "      <td>0.960</td>\n",
              "      <td>0.907</td>\n",
              "      <td>0.933</td>\n",
              "      <td>107</td>\n",
              "    </tr>\n",
              "    <tr>\n",
              "      <th>SearchCreativeWork</th>\n",
              "      <td>0.922</td>\n",
              "      <td>0.879</td>\n",
              "      <td>0.900</td>\n",
              "      <td>107</td>\n",
              "    </tr>\n",
              "  </tbody>\n",
              "</table>\n",
              "</div>\n",
              "      <button class=\"colab-df-convert\" onclick=\"convertToInteractive('df-2a220905-ded7-4d05-96a4-5e2d992be20f')\"\n",
              "              title=\"Convert this dataframe to an interactive table.\"\n",
              "              style=\"display:none;\">\n",
              "        \n",
              "  <svg xmlns=\"http://www.w3.org/2000/svg\" height=\"24px\"viewBox=\"0 0 24 24\"\n",
              "       width=\"24px\">\n",
              "    <path d=\"M0 0h24v24H0V0z\" fill=\"none\"/>\n",
              "    <path d=\"M18.56 5.44l.94 2.06.94-2.06 2.06-.94-2.06-.94-.94-2.06-.94 2.06-2.06.94zm-11 1L8.5 8.5l.94-2.06 2.06-.94-2.06-.94L8.5 2.5l-.94 2.06-2.06.94zm10 10l.94 2.06.94-2.06 2.06-.94-2.06-.94-.94-2.06-.94 2.06-2.06.94z\"/><path d=\"M17.41 7.96l-1.37-1.37c-.4-.4-.92-.59-1.43-.59-.52 0-1.04.2-1.43.59L10.3 9.45l-7.72 7.72c-.78.78-.78 2.05 0 2.83L4 21.41c.39.39.9.59 1.41.59.51 0 1.02-.2 1.41-.59l7.78-7.78 2.81-2.81c.8-.78.8-2.07 0-2.86zM5.41 20L4 18.59l7.72-7.72 1.47 1.35L5.41 20z\"/>\n",
              "  </svg>\n",
              "      </button>\n",
              "      \n",
              "  <style>\n",
              "    .colab-df-container {\n",
              "      display:flex;\n",
              "      flex-wrap:wrap;\n",
              "      gap: 12px;\n",
              "    }\n",
              "\n",
              "    .colab-df-convert {\n",
              "      background-color: #E8F0FE;\n",
              "      border: none;\n",
              "      border-radius: 50%;\n",
              "      cursor: pointer;\n",
              "      display: none;\n",
              "      fill: #1967D2;\n",
              "      height: 32px;\n",
              "      padding: 0 0 0 0;\n",
              "      width: 32px;\n",
              "    }\n",
              "\n",
              "    .colab-df-convert:hover {\n",
              "      background-color: #E2EBFA;\n",
              "      box-shadow: 0px 1px 2px rgba(60, 64, 67, 0.3), 0px 1px 3px 1px rgba(60, 64, 67, 0.15);\n",
              "      fill: #174EA6;\n",
              "    }\n",
              "\n",
              "    [theme=dark] .colab-df-convert {\n",
              "      background-color: #3B4455;\n",
              "      fill: #D2E3FC;\n",
              "    }\n",
              "\n",
              "    [theme=dark] .colab-df-convert:hover {\n",
              "      background-color: #434B5C;\n",
              "      box-shadow: 0px 1px 3px 1px rgba(0, 0, 0, 0.15);\n",
              "      filter: drop-shadow(0px 1px 2px rgba(0, 0, 0, 0.3));\n",
              "      fill: #FFFFFF;\n",
              "    }\n",
              "  </style>\n",
              "\n",
              "      <script>\n",
              "        const buttonEl =\n",
              "          document.querySelector('#df-2a220905-ded7-4d05-96a4-5e2d992be20f button.colab-df-convert');\n",
              "        buttonEl.style.display =\n",
              "          google.colab.kernel.accessAllowed ? 'block' : 'none';\n",
              "\n",
              "        async function convertToInteractive(key) {\n",
              "          const element = document.querySelector('#df-2a220905-ded7-4d05-96a4-5e2d992be20f');\n",
              "          const dataTable =\n",
              "            await google.colab.kernel.invokeFunction('convertToInteractive',\n",
              "                                                     [key], {});\n",
              "          if (!dataTable) return;\n",
              "\n",
              "          const docLinkHtml = 'Like what you see? Visit the ' +\n",
              "            '<a target=\"_blank\" href=https://colab.research.google.com/notebooks/data_table.ipynb>data table notebook</a>'\n",
              "            + ' to learn more about interactive tables.';\n",
              "          element.innerHTML = '';\n",
              "          dataTable['output_type'] = 'display_data';\n",
              "          await google.colab.output.renderOutput(dataTable, element);\n",
              "          const docLink = document.createElement('div');\n",
              "          docLink.innerHTML = docLinkHtml;\n",
              "          element.appendChild(docLink);\n",
              "        }\n",
              "      </script>\n",
              "    </div>\n",
              "  </div>\n",
              "  "
            ],
            "text/plain": [
              "                      precision  recall  f1-score  support\n",
              "RateBook                  1.000   1.000     1.000       80\n",
              "BookRestaurant            0.989   1.000     0.995       92\n",
              "AddToPlaylist             0.992   0.992     0.992      124\n",
              "GetWeather                0.954   0.990     0.972      104\n",
              "macro avg                 0.961   0.963     0.962      700\n",
              "weighted avg              0.962   0.961     0.961      700\n",
              "PlayMusic                 0.913   0.977     0.944       86\n",
              "SearchScreeningEvent      0.960   0.907     0.933      107\n",
              "SearchCreativeWork        0.922   0.879     0.900      107"
            ]
          },
          "execution_count": 53,
          "metadata": {},
          "output_type": "execute_result"
        }
      ],
      "source": [
        "intents_test_SNIPS.pop('accuracy')\n",
        "pd_tbl = pd.DataFrame().from_dict({k: v for k, v in sorted(intents_test_SNIPS.items(), key=lambda x: x[1]['f1-score'], reverse = True)}, orient='index')\n",
        "pd_tbl.round(decimals=3)"
      ]
    },
    {
      "cell_type": "code",
      "execution_count": null,
      "metadata": {
        "colab": {
          "base_uri": "https://localhost:8080/",
          "height": 350
        },
        "id": "T0ZLW5DiYv7j",
        "outputId": "e3cb0b07-0cea-46c4-8554-508d9deedf62"
      },
      "outputs": [
        {
          "data": {
            "image/png": "[encoded data removed]",
            "text/plain": [
              "<Figure size 576x360 with 1 Axes>"
            ]
          },
          "metadata": {},
          "output_type": "display_data"
        }
      ],
      "source": [
        "plt.figure(num = 3, figsize=(8, 5)).patch.set_facecolor('white')\n",
        "plt.title('Train and Dev Losses SNIPS dataset')\n",
        "plt.ylabel('Loss')\n",
        "plt.xlabel('Epochs')\n",
        "plt.plot(sampled_epochs_SNIPS, losses_train_SNIPS, label='Train loss')\n",
        "plt.plot(sampled_epochs_SNIPS, losses_dev_SNIPS, label='Dev loss')\n",
        "plt.legend()\n",
        "plt.show()"
      ]
    },
    {
      "cell_type": "code",
      "execution_count": null,
      "metadata": {
        "colab": {
          "base_uri": "https://localhost:8080/",
          "height": 609
        },
        "id": "5eKbB0-KeXrr",
        "outputId": "820f1386-5ea1-4615-9f0d-81a388934bc9"
      },
      "outputs": [
        {
          "data": {
            "text/plain": [
              "<matplotlib.image.AxesImage at 0x7f1d8a0b0550>"
            ]
          },
          "execution_count": 55,
          "metadata": {},
          "output_type": "execute_result"
        },
        {
          "data": {
            "image/png": "[encoded data removed]",
            "text/plain": [
              "<Figure size 720x720 with 1 Axes>"
            ]
          },
          "metadata": {
            "needs_background": "light"
          },
          "output_type": "display_data"
        }
      ],
      "source": [
        "mp.pyplot.figure(figsize = (10,10))\n",
        "mp.pyplot.imshow(cm_intent_SNIPS, norm = mp.colors.Normalize(vmin = 0, vmax = 255))"
      ]
    },
    {
      "cell_type": "code",
      "execution_count": null,
      "metadata": {
        "colab": {
          "base_uri": "https://localhost:8080/",
          "height": 609
        },
        "id": "u2bFs_NBeaDN",
        "outputId": "2b9e027e-9e96-4abd-a807-373269b4bf01"
      },
      "outputs": [
        {
          "data": {
            "text/plain": [
              "<matplotlib.image.AxesImage at 0x7f1d8a270c90>"
            ]
          },
          "execution_count": 56,
          "metadata": {},
          "output_type": "execute_result"
        },
        {
          "data": {
            "image/png": "[encoded data removed]",
            "text/plain": [
              "<Figure size 720x720 with 1 Axes>"
            ]
          },
          "metadata": {
            "needs_background": "light"
          },
          "output_type": "display_data"
        }
      ],
      "source": [
        "mp.pyplot.figure(figsize = (10,10))\n",
        "mp.pyplot.imshow(cm_slot_SNIPS, norm = mp.colors.Normalize(vmin = 0, vmax = 255))"
      ]
    },
    {
      "cell_type": "markdown",
      "metadata": {
        "id": "WvCtIiprxXEt"
      },
      "source": [
        "## Second model"
      ]
    },
    {
      "cell_type": "markdown",
      "metadata": {
        "id": "ZvhcV504Bc5w"
      },
      "source": [
        "The second model is an upgraded version of the baseline seen in lab 10.\n",
        "\n",
        "The loss is calculated differently with respect to the baseline:\n",
        "\n",
        "- Baseline:\n",
        "given the slot task loss, the intent task loss, compute the loss as\n",
        "    \n",
        "    $L = loss\\_slot + loss\\_intent$\n",
        "\n",
        "\n",
        "- Model 2:\n",
        "given the slot task loss, the intent task loss, 2 random number $nrandom_1, nrandom_2$ such that $nrandom_1 + nrandom_2 = 1$, compute the loss as\n",
        "\n",
        "    $L =max(nrandom_1, nrandom_2) * max(loss\\_slot, loss\\_intent) + min(nrandom_1, nrandom_2 * min(loss\\_slot, loss\\_intent)$\n",
        "\n",
        "\n",
        "The early stopping is computed by taking into consideration two different patiences:\n",
        "-  Patience_f1 (for slot task)\n",
        "-  Patience_accuracy (for intent task)\n",
        "\n",
        "They both are initialized with a value = 5 and are decremented by 1 every time the specific performance gets worse.\n",
        "\n",
        "When both patiences are equal o below 0 ($patience\\_f1 <= 0$ and $patience\\_acc <= 0$) the training stops.\n",
        "\n",
        "\n",
        "Lastly the lstm encoder is bidirectional, this way the model is able to encode feature that consider both the direction in the sentence."
      ]
    },
    {
      "cell_type": "code",
      "execution_count": 94,
      "metadata": {
        "id": "gu9gmo0k05m_"
      },
      "outputs": [],
      "source": [
        "from conll import evaluate\n",
        "import torch.nn.functional as F\n",
        "from sklearn.metrics import classification_report\n",
        "\n",
        "def train_loop(data, optimizer, criterion_slots, criterion_intents, model):\n",
        "    model.train()\n",
        "    loss_array = []\n",
        "    slot_loss_array = []\n",
        "    intent_loss_array = []\n",
        "\n",
        "    for i,sample in enumerate(data):\n",
        "        optimizer.zero_grad() # Zeroing the gradient\n",
        "        slots, intent = model(sample['utterances'], sample['slots_len'])\n",
        "        loss_intent = criterion_intents(intent, sample['intents'])\n",
        "        loss_slot = criterion_slots(slots, sample['y_slots'])\n",
        "\n",
        "        slot_loss_array.append(loss_slot.item())\n",
        "        intent_loss_array.append(loss_intent.item())\n",
        "\n",
        "        weight, _ = torch.sort(F.softmax(torch.randn(2), dim=-1))\n",
        "        #loss = torch.sum(losses*weight)\n",
        "        loss = loss_intent*weight[0] + loss_slot*weight[1] if loss_intent < loss_slot else loss_intent*weight[1] + loss_slot*weight[0]\n",
        "        loss_array.append(loss.item())\n",
        "        loss.backward() # Compute the gradient, deleting the computational graph\n",
        "        # torch.nn.utils.clip_grad_norm_(model.parameters(), clip)  \n",
        "        optimizer.step() # Update the weights\n",
        "        \n",
        "    return loss_array\n",
        "\n",
        "def eval_loop(data, criterion_slots, criterion_intents, model, lang):\n",
        "    model.eval()\n",
        "    loss_array = []\n",
        "    \n",
        "    ref_intents = []\n",
        "    hyp_intents = []\n",
        "    \n",
        "    ref_slots = []\n",
        "    hyp_slots = []\n",
        "    with torch.no_grad(): # It used to avoid the creation of computational graph\n",
        "        total_slot_labels = [x for x in range (len(lang.id2slot))]\n",
        "        total_intent_labels = [v for k, v in lang.id2intent.items()]\n",
        "        #Confusion matrices\n",
        "        cm_slot = np.zeros((len(total_slot_labels), len(total_slot_labels)))\n",
        "        cm_intent = np.zeros((len(total_intent_labels), len(total_intent_labels)))\n",
        "        for sample in data:\n",
        "            slots, intents = model(sample['utterances'], sample['slots_len'])\n",
        "            loss_intent = criterion_intents(intents, sample['intents'])\n",
        "            loss_slot = criterion_slots(slots, sample['y_slots'])\n",
        "            #NOTE the loss in evaluation is calculated as the simple sum, because the random weights\n",
        "            #are used only for training, and the simple loss is a better indicator for the evaluation\n",
        "            loss = loss_intent + loss_slot \n",
        "            loss_array.append(loss.item())\n",
        "            # Intent inference\n",
        "            # Get the highest probable class\n",
        "            out_intents = [lang.id2intent[x] \n",
        "                           for x in torch.argmax(intents, dim=1).tolist()] \n",
        "            gt_intents = [lang.id2intent[x] for x in sample['intents'].tolist()]\n",
        "            ref_intents.extend(gt_intents)\n",
        "            hyp_intents.extend(out_intents)\n",
        "            \n",
        "            ref_int_labels = []\n",
        "            hyp_int_labels = []\n",
        "\n",
        "            # Slot inference \n",
        "            output_slots = torch.argmax(slots, dim=1)\n",
        "            for id_seq, seq in enumerate(output_slots):\n",
        "                length = sample['slots_len'].tolist()[id_seq]\n",
        "                utt_ids = sample['utterance'][id_seq][:length].tolist()\n",
        "                gt_ids = sample['y_slots'][id_seq].tolist()\n",
        "                gt_slots = [lang.id2slot[elem] for elem in gt_ids[:length]]\n",
        "                utterance = [lang.id2word[elem] for elem in utt_ids]\n",
        "                to_decode = seq[:length].tolist()\n",
        "                ref_slots.append([(utterance[id_el], elem) for id_el, elem in enumerate(gt_slots)])\n",
        "                tmp_seq = []\n",
        "                for id_el, elem in enumerate(to_decode):\n",
        "                  tmp_seq.append((utterance[id_el], lang.id2slot[elem]))\n",
        "                  ref_int_labels.extend(gt_ids[:length])\n",
        "                  hyp_int_labels.extend(to_decode)\n",
        "\n",
        "                hyp_slots.append(tmp_seq)\n",
        "\n",
        "        X = [lang.id2slot[x] for x in ref_int_labels]\n",
        "        Y = [lang.id2slot[x] for x in hyp_int_labels]\n",
        "        labels = [lang.id2slot[x] for x in total_slot_labels]\n",
        "\n",
        "        cm_slot += sklearn.metrics.confusion_matrix(X, Y,labels = labels)\n",
        "        cm_intent += sklearn.metrics.confusion_matrix(ref_intents, hyp_intents,labels = total_intent_labels)\n",
        "    \n",
        "    try:            \n",
        "        results = evaluate(ref_slots, hyp_slots)\n",
        "    except Exception as ex:\n",
        "        # Sometimes the model predics a class that is not in REF\n",
        "        results = None\n",
        "\n",
        "    #results = sklearn.metrics.f1_score(ref_int_labels, hyp_int_labels, labels = total_slot_labels, average = 'micro')\n",
        "    #results = sklearn.metrics.f1_score(gt_slots, hyp_slots, average = 'macro')\n",
        "        \n",
        "    report_intent = classification_report(ref_intents, hyp_intents, \n",
        "                                          zero_division=False, output_dict=True)\n",
        "    return results, report_intent, loss_array, cm_slot, cm_intent"
      ]
    },
    {
      "cell_type": "markdown",
      "metadata": {
        "id": "asZqhnsT1T5X"
      },
      "source": [
        "###Model definition"
      ]
    },
    {
      "cell_type": "code",
      "execution_count": 68,
      "metadata": {
        "id": "hVk2vUlxki6r"
      },
      "outputs": [],
      "source": [
        "import torch.nn as nn\n",
        "from torch.nn.utils.rnn import pack_padded_sequence, pad_packed_sequence\n",
        "\n",
        "class ModelUpgrade(nn.Module):\n",
        "    def __init__(self, hid_size, out_slot, out_int, emb_size, vocab_len,bidirectional = True, n_layer=1, pad_index=0):\n",
        "        super(ModelUpgrade, self).__init__()\n",
        "        \n",
        "        self.embedding = nn.Embedding(vocab_len, emb_size, padding_idx=pad_index)\n",
        "        \n",
        "        self.utt_encoder = nn.LSTM(emb_size, hid_size, n_layer, bidirectional = bidirectional)\n",
        "        self.slot_out = nn.Linear(hid_size*2 if bidirectional else hid_size, out_slot)\n",
        "        self.intent_out = nn.Linear(hid_size, out_int)\n",
        "        self.dropout = nn.Dropout(0.1)\n",
        "        \n",
        "    def forward(self, utterance, seq_lengths):\n",
        "        # utterance.size() = batch_size X seq_len\n",
        "        utt_emb = self.embedding(utterance) # utt_emb.size() = batch_size X seq_len X emb_size\n",
        "        utt_emb = utt_emb.permute(1,0,2) # we need seq len first -> seq_len X batch_size X emb_size\n",
        "        \n",
        "        # pack_padded_sequence avoid computation over pad tokens reducing the computational cost\n",
        "        \n",
        "        packed_input = pack_padded_sequence(utt_emb, seq_lengths.cpu().numpy())\n",
        "        # Process the batch\n",
        "        packed_output, (last_hidden, cell) = self.utt_encoder(packed_input)\n",
        "        # Unpack the sequence\n",
        "        utt_encoded, input_sizes = pad_packed_sequence(packed_output)\n",
        "        # Get the last hidden state\n",
        "        last_hidden = last_hidden[-1,:,:]\n",
        "        # Compute slot logits\n",
        "        slots = self.slot_out(utt_encoded)\n",
        "        # Compute intent logits\n",
        "        intent = self.intent_out(last_hidden)\n",
        "        \n",
        "        # Slot size: seq_len, batch size, calsses \n",
        "        slots = slots.permute(1,0,2) # We need this for computing the loss\n",
        "        # Slot size: batch_size, classes, seq_len\n",
        "        return slots, intent"
      ]
    },
    {
      "cell_type": "markdown",
      "metadata": {
        "id": "powCyjRI1Xhu"
      },
      "source": [
        "###Training"
      ]
    },
    {
      "cell_type": "code",
      "execution_count": 92,
      "metadata": {
        "id": "VLb2u6yWkO5M"
      },
      "outputs": [],
      "source": [
        "def train_model(dev_loader, train_loader, test_loader, model, lang, criterion_intents, criterion_slots, optimizer):\n",
        "    from tqdm import tqdm\n",
        "    n_epochs = 200\n",
        "    patience_f1 = 5\n",
        "    patience_acc = 5\n",
        "    losses_train = []\n",
        "    losses_dev = []\n",
        "    sampled_epochs = []\n",
        "    best_f1 = 0\n",
        "    best_acc = 0\n",
        "    for x in tqdm(range(1,n_epochs)):\n",
        "        loss = train_loop(train_loader, optimizer, criterion_slots, \n",
        "                        criterion_intents, model)\n",
        "        if x % 5 == 0:\n",
        "          sampled_epochs.append(x)\n",
        "          losses_train.append(np.asarray(loss).mean())\n",
        "          results_dev, intent_res, loss_dev, trypl, _ = eval_loop(dev_loader, criterion_slots, \n",
        "                                                      criterion_intents, model, lang)\n",
        "          losses_dev.append(np.asarray(loss_dev).mean())\n",
        "          if results_dev != None:\n",
        "            f1 = results_dev['total']['f-measure']\n",
        "            acc = intent_res['accuracy']\n",
        "          \n",
        "            if f1 > best_f1:\n",
        "              patience_f1 += 1 if patience_f1 < 5 else 0\n",
        "              best_f1 = f1\n",
        "            else:\n",
        "              patience_f1 -= 1\n",
        "            if acc > best_acc:\n",
        "              patience_acc += 1 if patience_acc < 5 else 0\n",
        "              best_acc = acc\n",
        "            else:\n",
        "              patience_acc -= 1\n",
        "\n",
        "            if patience_f1 <= 0 and patience_acc <= 0: # Early stoping with patient\n",
        "                break # Not nice but it keeps the code clean\n",
        "\n",
        "    results_test, intent_test, _, cm_slot, cm_intent = eval_loop(test_loader, criterion_slots, \n",
        "                                            criterion_intents, model, lang)\n",
        "    \n",
        "    return results_test, intent_test, sampled_epochs, losses_train, losses_dev, cm_slot, cm_intent  "
      ]
    },
    {
      "cell_type": "code",
      "execution_count": 70,
      "metadata": {
        "id": "Gs1vWi3ls_XY"
      },
      "outputs": [],
      "source": [
        "import torch.optim as optim\n",
        "\n",
        "hid_size = 200\n",
        "emb_size = 300\n",
        "\n",
        "lr = 0.0001 # learning rate\n",
        "clip = 5 # Clip the gradient\n",
        "\n",
        "criterion_slots = nn.CrossEntropyLoss(ignore_index=PAD_TOKEN)\n",
        "criterion_intents = nn.CrossEntropyLoss() # Because we do not have the pad token"
      ]
    },
    {
      "cell_type": "code",
      "execution_count": 71,
      "metadata": {
        "id": "cSub9rQy5xt4"
      },
      "outputs": [],
      "source": [
        "model_2_ATIS = ModelUpgrade(hid_size, out_slot_ATIS, out_int_ATIS, emb_size, vocab_len_ATIS, bidirectional = True, pad_index=PAD_TOKEN).to(device)\n",
        "model_2_ATIS.apply(init_weights)\n",
        "\n",
        "optimizer_ATIS = optim.Adam(model_2_ATIS.parameters(), lr=lr)"
      ]
    },
    {
      "cell_type": "code",
      "execution_count": 72,
      "metadata": {
        "id": "5oaGoGBv5wjY"
      },
      "outputs": [],
      "source": [
        "model_2_SNIPS = ModelUpgrade(hid_size, out_slot_SNIPS, out_int_SNIPS, emb_size, vocab_len_SNIPS, bidirectional = True, pad_index=PAD_TOKEN).to(device)\n",
        "model_2_SNIPS.apply(init_weights)\n",
        "\n",
        "optimizer_SNIPS = optim.Adam(model_2_SNIPS.parameters(), lr=lr)"
      ]
    },
    {
      "cell_type": "code",
      "execution_count": 73,
      "metadata": {
        "id": "m56jY0J6mHEz"
      },
      "outputs": [],
      "source": [
        "cm_slot_ATIS, cm_intent_ATIS = initialize_confusion_matrices(lang_ATIS)\n",
        "cm_slot_SNIPS, cm_intent_SNIPS = initialize_confusion_matrices(lang_SNIPS)"
      ]
    },
    {
      "cell_type": "markdown",
      "metadata": {
        "id": "oqTp7_6L1aPd"
      },
      "source": [
        "####Atis training"
      ]
    },
    {
      "cell_type": "code",
      "execution_count": null,
      "metadata": {
        "colab": {
          "base_uri": "https://localhost:8080/"
        },
        "id": "SkCgclhLy-cj",
        "outputId": "86de6ba9-9ff0-477e-f346-08de271bee26"
      },
      "outputs": [
        {
          "name": "stderr",
          "output_type": "stream",
          "text": [
            " 90%|████████▉ | 179/199 [40:10<04:29, 13.47s/it]\n"
          ]
        },
        {
          "name": "stdout",
          "output_type": "stream",
          "text": [
            "\n",
            "Slot F1:  0.939\n",
            "Intent Accuracy: 0.954\n"
          ]
        },
        {
          "name": "stderr",
          "output_type": "stream",
          "text": [
            " 82%|████████▏ | 164/199 [35:16<07:31, 12.90s/it]\n"
          ]
        },
        {
          "name": "stdout",
          "output_type": "stream",
          "text": [
            "\n",
            "Slot F1:  0.945\n",
            "Intent Accuracy: 0.955\n"
          ]
        },
        {
          "name": "stderr",
          "output_type": "stream",
          "text": [
            " 67%|██████▋   | 134/199 [28:51<13:59, 12.92s/it]\n"
          ]
        },
        {
          "name": "stdout",
          "output_type": "stream",
          "text": [
            "\n",
            "Slot F1:  0.944\n",
            "Intent Accuracy: 0.956\n"
          ]
        },
        {
          "name": "stderr",
          "output_type": "stream",
          "text": [
            " 65%|██████▍   | 129/199 [27:25<14:53, 12.76s/it]\n"
          ]
        },
        {
          "name": "stdout",
          "output_type": "stream",
          "text": [
            "\n",
            "Slot F1:  0.945\n",
            "Intent Accuracy: 0.957\n"
          ]
        },
        {
          "name": "stderr",
          "output_type": "stream",
          "text": [
            " 70%|██████▉   | 139/199 [29:35<12:46, 12.78s/it]\n"
          ]
        },
        {
          "name": "stdout",
          "output_type": "stream",
          "text": [
            "\n",
            "Slot F1:  0.947\n",
            "Intent Accuracy: 0.959\n",
            "\n",
            "Slot F1 mean:  0.944\n",
            "Slot F1 standard deviation:  0.003\n",
            "Intent Accuracy mean: 0.956\n",
            "Intent Accuracy standard deviation: 0.002\n"
          ]
        }
      ],
      "source": [
        "slots_2_ATIS = []\n",
        "intents_2_ATIS = []\n",
        "for i in range(5):\n",
        "  model_2_ATIS.apply(init_weights)\n",
        "  results_test_ATIS, intents_test_ATIS, sampled_epochs_ATIS, losses_train_ATIS, losses_dev_ATIS, cm_slot, cm_intent = train_model(dev_loader_ATIS,\n",
        "                                                                                                                                        train_loader_ATIS, \n",
        "                                                                                                                                        test_loader_ATIS, \n",
        "                                                                                                                                        model_2_ATIS,\n",
        "                                                                                                                                        lang_ATIS, \n",
        "                                                                                                                                        criterion_intents, \n",
        "                                                                                                                                        criterion_slots, \n",
        "                                                                                                                                        optimizer_ATIS)\n",
        "  print('\\nSlot F1: ', round(results_test_ATIS['total']['f-measure'],3))\n",
        "  print('Intent Accuracy:', round(intents_test_ATIS['accuracy'],3))\n",
        "  cm_slot_ATIS += cm_slot\n",
        "  cm_intent_ATIS += cm_intent\n",
        "  slots_2_ATIS.append(results_test_ATIS['total']['f-measure'])\n",
        "  intents_2_ATIS.append(intents_test_ATIS['accuracy'])\n",
        "slots_mean_ATIS = np.mean(slots_2_ATIS)\n",
        "slots_std_ATIS = np.std(slots_2_ATIS)\n",
        "intents_mean_ATIS = np.mean(intents_2_ATIS)\n",
        "intents_std_ATIS = np.std(intents_2_ATIS)\n",
        "print('\\nSlot F1 mean: ', round(slots_mean_ATIS,3))\n",
        "print('Slot F1 standard deviation: ', round(slots_std_ATIS,3))\n",
        "print('Intent Accuracy mean:', round(intents_mean_ATIS,3))\n",
        "print('Intent Accuracy standard deviation:', round(intents_std_ATIS,3))"
      ]
    },
    {
      "cell_type": "code",
      "execution_count": null,
      "metadata": {
        "colab": {
          "base_uri": "https://localhost:8080/",
          "height": 424
        },
        "id": "B8NTWx47pqh0",
        "outputId": "6f98f519-28c2-487b-f436-7436c0a024a0"
      },
      "outputs": [
        {
          "data": {
            "text/html": [
              "\n",
              "  <div id=\"df-dc17b3ec-83db-4a5b-b70f-46a57afe841a\">\n",
              "    <div class=\"colab-df-container\">\n",
              "      <div>\n",
              "<style scoped>\n",
              "    .dataframe tbody tr th:only-of-type {\n",
              "        vertical-align: middle;\n",
              "    }\n",
              "\n",
              "    .dataframe tbody tr th {\n",
              "        vertical-align: top;\n",
              "    }\n",
              "\n",
              "    .dataframe thead th {\n",
              "        text-align: right;\n",
              "    }\n",
              "</style>\n",
              "<table border=\"1\" class=\"dataframe\">\n",
              "  <thead>\n",
              "    <tr style=\"text-align: right;\">\n",
              "      <th></th>\n",
              "      <th>precision</th>\n",
              "      <th>recall</th>\n",
              "      <th>f-measure</th>\n",
              "      <th>support</th>\n",
              "    </tr>\n",
              "  </thead>\n",
              "  <tbody>\n",
              "    <tr>\n",
              "      <th>flight_days</th>\n",
              "      <td>1.0</td>\n",
              "      <td>1.0</td>\n",
              "      <td>1.0</td>\n",
              "      <td>10</td>\n",
              "    </tr>\n",
              "    <tr>\n",
              "      <th>state_code</th>\n",
              "      <td>1.0</td>\n",
              "      <td>1.0</td>\n",
              "      <td>1.0</td>\n",
              "      <td>1</td>\n",
              "    </tr>\n",
              "    <tr>\n",
              "      <th>depart_time.period_mod</th>\n",
              "      <td>1.0</td>\n",
              "      <td>1.0</td>\n",
              "      <td>1.0</td>\n",
              "      <td>5</td>\n",
              "    </tr>\n",
              "    <tr>\n",
              "      <th>flight_stop</th>\n",
              "      <td>1.0</td>\n",
              "      <td>1.0</td>\n",
              "      <td>1.0</td>\n",
              "      <td>21</td>\n",
              "    </tr>\n",
              "    <tr>\n",
              "      <th>toloc.state_code</th>\n",
              "      <td>1.0</td>\n",
              "      <td>1.0</td>\n",
              "      <td>1.0</td>\n",
              "      <td>18</td>\n",
              "    </tr>\n",
              "    <tr>\n",
              "      <th>...</th>\n",
              "      <td>...</td>\n",
              "      <td>...</td>\n",
              "      <td>...</td>\n",
              "      <td>...</td>\n",
              "    </tr>\n",
              "    <tr>\n",
              "      <th>return_date.day_name</th>\n",
              "      <td>1.0</td>\n",
              "      <td>0.0</td>\n",
              "      <td>0.0</td>\n",
              "      <td>2</td>\n",
              "    </tr>\n",
              "    <tr>\n",
              "      <th>state_name</th>\n",
              "      <td>1.0</td>\n",
              "      <td>0.0</td>\n",
              "      <td>0.0</td>\n",
              "      <td>9</td>\n",
              "    </tr>\n",
              "    <tr>\n",
              "      <th>meal_code</th>\n",
              "      <td>1.0</td>\n",
              "      <td>0.0</td>\n",
              "      <td>0.0</td>\n",
              "      <td>1</td>\n",
              "    </tr>\n",
              "    <tr>\n",
              "      <th>flight</th>\n",
              "      <td>1.0</td>\n",
              "      <td>0.0</td>\n",
              "      <td>0.0</td>\n",
              "      <td>1</td>\n",
              "    </tr>\n",
              "    <tr>\n",
              "      <th>stoploc.airport_code</th>\n",
              "      <td>1.0</td>\n",
              "      <td>0.0</td>\n",
              "      <td>0.0</td>\n",
              "      <td>1</td>\n",
              "    </tr>\n",
              "  </tbody>\n",
              "</table>\n",
              "<p>71 rows × 4 columns</p>\n",
              "</div>\n",
              "      <button class=\"colab-df-convert\" onclick=\"convertToInteractive('df-dc17b3ec-83db-4a5b-b70f-46a57afe841a')\"\n",
              "              title=\"Convert this dataframe to an interactive table.\"\n",
              "              style=\"display:none;\">\n",
              "        \n",
              "  <svg xmlns=\"http://www.w3.org/2000/svg\" height=\"24px\"viewBox=\"0 0 24 24\"\n",
              "       width=\"24px\">\n",
              "    <path d=\"M0 0h24v24H0V0z\" fill=\"none\"/>\n",
              "    <path d=\"M18.56 5.44l.94 2.06.94-2.06 2.06-.94-2.06-.94-.94-2.06-.94 2.06-2.06.94zm-11 1L8.5 8.5l.94-2.06 2.06-.94-2.06-.94L8.5 2.5l-.94 2.06-2.06.94zm10 10l.94 2.06.94-2.06 2.06-.94-2.06-.94-.94-2.06-.94 2.06-2.06.94z\"/><path d=\"M17.41 7.96l-1.37-1.37c-.4-.4-.92-.59-1.43-.59-.52 0-1.04.2-1.43.59L10.3 9.45l-7.72 7.72c-.78.78-.78 2.05 0 2.83L4 21.41c.39.39.9.59 1.41.59.51 0 1.02-.2 1.41-.59l7.78-7.78 2.81-2.81c.8-.78.8-2.07 0-2.86zM5.41 20L4 18.59l7.72-7.72 1.47 1.35L5.41 20z\"/>\n",
              "  </svg>\n",
              "      </button>\n",
              "      \n",
              "  <style>\n",
              "    .colab-df-container {\n",
              "      display:flex;\n",
              "      flex-wrap:wrap;\n",
              "      gap: 12px;\n",
              "    }\n",
              "\n",
              "    .colab-df-convert {\n",
              "      background-color: #E8F0FE;\n",
              "      border: none;\n",
              "      border-radius: 50%;\n",
              "      cursor: pointer;\n",
              "      display: none;\n",
              "      fill: #1967D2;\n",
              "      height: 32px;\n",
              "      padding: 0 0 0 0;\n",
              "      width: 32px;\n",
              "    }\n",
              "\n",
              "    .colab-df-convert:hover {\n",
              "      background-color: #E2EBFA;\n",
              "      box-shadow: 0px 1px 2px rgba(60, 64, 67, 0.3), 0px 1px 3px 1px rgba(60, 64, 67, 0.15);\n",
              "      fill: #174EA6;\n",
              "    }\n",
              "\n",
              "    [theme=dark] .colab-df-convert {\n",
              "      background-color: #3B4455;\n",
              "      fill: #D2E3FC;\n",
              "    }\n",
              "\n",
              "    [theme=dark] .colab-df-convert:hover {\n",
              "      background-color: #434B5C;\n",
              "      box-shadow: 0px 1px 3px 1px rgba(0, 0, 0, 0.15);\n",
              "      filter: drop-shadow(0px 1px 2px rgba(0, 0, 0, 0.3));\n",
              "      fill: #FFFFFF;\n",
              "    }\n",
              "  </style>\n",
              "\n",
              "      <script>\n",
              "        const buttonEl =\n",
              "          document.querySelector('#df-dc17b3ec-83db-4a5b-b70f-46a57afe841a button.colab-df-convert');\n",
              "        buttonEl.style.display =\n",
              "          google.colab.kernel.accessAllowed ? 'block' : 'none';\n",
              "\n",
              "        async function convertToInteractive(key) {\n",
              "          const element = document.querySelector('#df-dc17b3ec-83db-4a5b-b70f-46a57afe841a');\n",
              "          const dataTable =\n",
              "            await google.colab.kernel.invokeFunction('convertToInteractive',\n",
              "                                                     [key], {});\n",
              "          if (!dataTable) return;\n",
              "\n",
              "          const docLinkHtml = 'Like what you see? Visit the ' +\n",
              "            '<a target=\"_blank\" href=https://colab.research.google.com/notebooks/data_table.ipynb>data table notebook</a>'\n",
              "            + ' to learn more about interactive tables.';\n",
              "          element.innerHTML = '';\n",
              "          dataTable['output_type'] = 'display_data';\n",
              "          await google.colab.output.renderOutput(dataTable, element);\n",
              "          const docLink = document.createElement('div');\n",
              "          docLink.innerHTML = docLinkHtml;\n",
              "          element.appendChild(docLink);\n",
              "        }\n",
              "      </script>\n",
              "    </div>\n",
              "  </div>\n",
              "  "
            ],
            "text/plain": [
              "                        precision  recall  f-measure  support\n",
              "flight_days                   1.0     1.0        1.0       10\n",
              "state_code                    1.0     1.0        1.0        1\n",
              "depart_time.period_mod        1.0     1.0        1.0        5\n",
              "flight_stop                   1.0     1.0        1.0       21\n",
              "toloc.state_code              1.0     1.0        1.0       18\n",
              "...                           ...     ...        ...      ...\n",
              "return_date.day_name          1.0     0.0        0.0        2\n",
              "state_name                    1.0     0.0        0.0        9\n",
              "meal_code                     1.0     0.0        0.0        1\n",
              "flight                        1.0     0.0        0.0        1\n",
              "stoploc.airport_code          1.0     0.0        0.0        1\n",
              "\n",
              "[71 rows x 4 columns]"
            ]
          },
          "execution_count": 50,
          "metadata": {},
          "output_type": "execute_result"
        }
      ],
      "source": [
        "pd_tbl = pd.DataFrame().from_dict({k: v for k, v in sorted(results_test_ATIS.items(), key=lambda x: x[1]['f-measure'], reverse = True)}, orient='index')\n",
        "pd_tbl.round(decimals=3)"
      ]
    },
    {
      "cell_type": "code",
      "execution_count": null,
      "metadata": {
        "colab": {
          "base_uri": "https://localhost:8080/",
          "height": 739
        },
        "id": "krhRNb9Vpo46",
        "outputId": "aeb31308-4f61-4b32-8c0f-293b9ac4e2da"
      },
      "outputs": [
        {
          "data": {
            "text/html": [
              "\n",
              "  <div id=\"df-bec90970-9d75-4e43-95c9-95ca1930b0f6\">\n",
              "    <div class=\"colab-df-container\">\n",
              "      <div>\n",
              "<style scoped>\n",
              "    .dataframe tbody tr th:only-of-type {\n",
              "        vertical-align: middle;\n",
              "    }\n",
              "\n",
              "    .dataframe tbody tr th {\n",
              "        vertical-align: top;\n",
              "    }\n",
              "\n",
              "    .dataframe thead th {\n",
              "        text-align: right;\n",
              "    }\n",
              "</style>\n",
              "<table border=\"1\" class=\"dataframe\">\n",
              "  <thead>\n",
              "    <tr style=\"text-align: right;\">\n",
              "      <th></th>\n",
              "      <th>precision</th>\n",
              "      <th>recall</th>\n",
              "      <th>f1-score</th>\n",
              "      <th>support</th>\n",
              "    </tr>\n",
              "  </thead>\n",
              "  <tbody>\n",
              "    <tr>\n",
              "      <th>distance</th>\n",
              "      <td>1.000</td>\n",
              "      <td>1.000</td>\n",
              "      <td>1.000</td>\n",
              "      <td>10</td>\n",
              "    </tr>\n",
              "    <tr>\n",
              "      <th>flight_time</th>\n",
              "      <td>1.000</td>\n",
              "      <td>1.000</td>\n",
              "      <td>1.000</td>\n",
              "      <td>1</td>\n",
              "    </tr>\n",
              "    <tr>\n",
              "      <th>airline</th>\n",
              "      <td>0.974</td>\n",
              "      <td>1.000</td>\n",
              "      <td>0.987</td>\n",
              "      <td>38</td>\n",
              "    </tr>\n",
              "    <tr>\n",
              "      <th>abbreviation</th>\n",
              "      <td>0.971</td>\n",
              "      <td>1.000</td>\n",
              "      <td>0.985</td>\n",
              "      <td>33</td>\n",
              "    </tr>\n",
              "    <tr>\n",
              "      <th>flight</th>\n",
              "      <td>0.966</td>\n",
              "      <td>0.989</td>\n",
              "      <td>0.977</td>\n",
              "      <td>632</td>\n",
              "    </tr>\n",
              "    <tr>\n",
              "      <th>ground_service</th>\n",
              "      <td>0.972</td>\n",
              "      <td>0.972</td>\n",
              "      <td>0.972</td>\n",
              "      <td>36</td>\n",
              "    </tr>\n",
              "    <tr>\n",
              "      <th>weighted avg</th>\n",
              "      <td>0.956</td>\n",
              "      <td>0.959</td>\n",
              "      <td>0.953</td>\n",
              "      <td>893</td>\n",
              "    </tr>\n",
              "    <tr>\n",
              "      <th>capacity</th>\n",
              "      <td>1.000</td>\n",
              "      <td>0.905</td>\n",
              "      <td>0.950</td>\n",
              "      <td>21</td>\n",
              "    </tr>\n",
              "    <tr>\n",
              "      <th>airfare</th>\n",
              "      <td>0.922</td>\n",
              "      <td>0.979</td>\n",
              "      <td>0.949</td>\n",
              "      <td>48</td>\n",
              "    </tr>\n",
              "    <tr>\n",
              "      <th>airport</th>\n",
              "      <td>0.941</td>\n",
              "      <td>0.889</td>\n",
              "      <td>0.914</td>\n",
              "      <td>18</td>\n",
              "    </tr>\n",
              "    <tr>\n",
              "      <th>aircraft</th>\n",
              "      <td>0.818</td>\n",
              "      <td>1.000</td>\n",
              "      <td>0.900</td>\n",
              "      <td>9</td>\n",
              "    </tr>\n",
              "    <tr>\n",
              "      <th>flight_no</th>\n",
              "      <td>1.000</td>\n",
              "      <td>0.750</td>\n",
              "      <td>0.857</td>\n",
              "      <td>8</td>\n",
              "    </tr>\n",
              "    <tr>\n",
              "      <th>ground_fare</th>\n",
              "      <td>1.000</td>\n",
              "      <td>0.714</td>\n",
              "      <td>0.833</td>\n",
              "      <td>7</td>\n",
              "    </tr>\n",
              "    <tr>\n",
              "      <th>macro avg</th>\n",
              "      <td>0.741</td>\n",
              "      <td>0.664</td>\n",
              "      <td>0.672</td>\n",
              "      <td>893</td>\n",
              "    </tr>\n",
              "    <tr>\n",
              "      <th>meal</th>\n",
              "      <td>1.000</td>\n",
              "      <td>0.500</td>\n",
              "      <td>0.667</td>\n",
              "      <td>6</td>\n",
              "    </tr>\n",
              "    <tr>\n",
              "      <th>quantity</th>\n",
              "      <td>0.429</td>\n",
              "      <td>1.000</td>\n",
              "      <td>0.600</td>\n",
              "      <td>3</td>\n",
              "    </tr>\n",
              "    <tr>\n",
              "      <th>flight+airfare</th>\n",
              "      <td>0.833</td>\n",
              "      <td>0.417</td>\n",
              "      <td>0.556</td>\n",
              "      <td>12</td>\n",
              "    </tr>\n",
              "    <tr>\n",
              "      <th>city</th>\n",
              "      <td>1.000</td>\n",
              "      <td>0.167</td>\n",
              "      <td>0.286</td>\n",
              "      <td>6</td>\n",
              "    </tr>\n",
              "    <tr>\n",
              "      <th>airfare+flight</th>\n",
              "      <td>0.000</td>\n",
              "      <td>0.000</td>\n",
              "      <td>0.000</td>\n",
              "      <td>1</td>\n",
              "    </tr>\n",
              "    <tr>\n",
              "      <th>day_name</th>\n",
              "      <td>0.000</td>\n",
              "      <td>0.000</td>\n",
              "      <td>0.000</td>\n",
              "      <td>2</td>\n",
              "    </tr>\n",
              "    <tr>\n",
              "      <th>flight+airline</th>\n",
              "      <td>0.000</td>\n",
              "      <td>0.000</td>\n",
              "      <td>0.000</td>\n",
              "      <td>1</td>\n",
              "    </tr>\n",
              "    <tr>\n",
              "      <th>flight_no+airline</th>\n",
              "      <td>0.000</td>\n",
              "      <td>0.000</td>\n",
              "      <td>0.000</td>\n",
              "      <td>1</td>\n",
              "    </tr>\n",
              "  </tbody>\n",
              "</table>\n",
              "</div>\n",
              "      <button class=\"colab-df-convert\" onclick=\"convertToInteractive('df-bec90970-9d75-4e43-95c9-95ca1930b0f6')\"\n",
              "              title=\"Convert this dataframe to an interactive table.\"\n",
              "              style=\"display:none;\">\n",
              "        \n",
              "  <svg xmlns=\"http://www.w3.org/2000/svg\" height=\"24px\"viewBox=\"0 0 24 24\"\n",
              "       width=\"24px\">\n",
              "    <path d=\"M0 0h24v24H0V0z\" fill=\"none\"/>\n",
              "    <path d=\"M18.56 5.44l.94 2.06.94-2.06 2.06-.94-2.06-.94-.94-2.06-.94 2.06-2.06.94zm-11 1L8.5 8.5l.94-2.06 2.06-.94-2.06-.94L8.5 2.5l-.94 2.06-2.06.94zm10 10l.94 2.06.94-2.06 2.06-.94-2.06-.94-.94-2.06-.94 2.06-2.06.94z\"/><path d=\"M17.41 7.96l-1.37-1.37c-.4-.4-.92-.59-1.43-.59-.52 0-1.04.2-1.43.59L10.3 9.45l-7.72 7.72c-.78.78-.78 2.05 0 2.83L4 21.41c.39.39.9.59 1.41.59.51 0 1.02-.2 1.41-.59l7.78-7.78 2.81-2.81c.8-.78.8-2.07 0-2.86zM5.41 20L4 18.59l7.72-7.72 1.47 1.35L5.41 20z\"/>\n",
              "  </svg>\n",
              "      </button>\n",
              "      \n",
              "  <style>\n",
              "    .colab-df-container {\n",
              "      display:flex;\n",
              "      flex-wrap:wrap;\n",
              "      gap: 12px;\n",
              "    }\n",
              "\n",
              "    .colab-df-convert {\n",
              "      background-color: #E8F0FE;\n",
              "      border: none;\n",
              "      border-radius: 50%;\n",
              "      cursor: pointer;\n",
              "      display: none;\n",
              "      fill: #1967D2;\n",
              "      height: 32px;\n",
              "      padding: 0 0 0 0;\n",
              "      width: 32px;\n",
              "    }\n",
              "\n",
              "    .colab-df-convert:hover {\n",
              "      background-color: #E2EBFA;\n",
              "      box-shadow: 0px 1px 2px rgba(60, 64, 67, 0.3), 0px 1px 3px 1px rgba(60, 64, 67, 0.15);\n",
              "      fill: #174EA6;\n",
              "    }\n",
              "\n",
              "    [theme=dark] .colab-df-convert {\n",
              "      background-color: #3B4455;\n",
              "      fill: #D2E3FC;\n",
              "    }\n",
              "\n",
              "    [theme=dark] .colab-df-convert:hover {\n",
              "      background-color: #434B5C;\n",
              "      box-shadow: 0px 1px 3px 1px rgba(0, 0, 0, 0.15);\n",
              "      filter: drop-shadow(0px 1px 2px rgba(0, 0, 0, 0.3));\n",
              "      fill: #FFFFFF;\n",
              "    }\n",
              "  </style>\n",
              "\n",
              "      <script>\n",
              "        const buttonEl =\n",
              "          document.querySelector('#df-bec90970-9d75-4e43-95c9-95ca1930b0f6 button.colab-df-convert');\n",
              "        buttonEl.style.display =\n",
              "          google.colab.kernel.accessAllowed ? 'block' : 'none';\n",
              "\n",
              "        async function convertToInteractive(key) {\n",
              "          const element = document.querySelector('#df-bec90970-9d75-4e43-95c9-95ca1930b0f6');\n",
              "          const dataTable =\n",
              "            await google.colab.kernel.invokeFunction('convertToInteractive',\n",
              "                                                     [key], {});\n",
              "          if (!dataTable) return;\n",
              "\n",
              "          const docLinkHtml = 'Like what you see? Visit the ' +\n",
              "            '<a target=\"_blank\" href=https://colab.research.google.com/notebooks/data_table.ipynb>data table notebook</a>'\n",
              "            + ' to learn more about interactive tables.';\n",
              "          element.innerHTML = '';\n",
              "          dataTable['output_type'] = 'display_data';\n",
              "          await google.colab.output.renderOutput(dataTable, element);\n",
              "          const docLink = document.createElement('div');\n",
              "          docLink.innerHTML = docLinkHtml;\n",
              "          element.appendChild(docLink);\n",
              "        }\n",
              "      </script>\n",
              "    </div>\n",
              "  </div>\n",
              "  "
            ],
            "text/plain": [
              "                   precision  recall  f1-score  support\n",
              "distance               1.000   1.000     1.000       10\n",
              "flight_time            1.000   1.000     1.000        1\n",
              "airline                0.974   1.000     0.987       38\n",
              "abbreviation           0.971   1.000     0.985       33\n",
              "flight                 0.966   0.989     0.977      632\n",
              "ground_service         0.972   0.972     0.972       36\n",
              "weighted avg           0.956   0.959     0.953      893\n",
              "capacity               1.000   0.905     0.950       21\n",
              "airfare                0.922   0.979     0.949       48\n",
              "airport                0.941   0.889     0.914       18\n",
              "aircraft               0.818   1.000     0.900        9\n",
              "flight_no              1.000   0.750     0.857        8\n",
              "ground_fare            1.000   0.714     0.833        7\n",
              "macro avg              0.741   0.664     0.672      893\n",
              "meal                   1.000   0.500     0.667        6\n",
              "quantity               0.429   1.000     0.600        3\n",
              "flight+airfare         0.833   0.417     0.556       12\n",
              "city                   1.000   0.167     0.286        6\n",
              "airfare+flight         0.000   0.000     0.000        1\n",
              "day_name               0.000   0.000     0.000        2\n",
              "flight+airline         0.000   0.000     0.000        1\n",
              "flight_no+airline      0.000   0.000     0.000        1"
            ]
          },
          "execution_count": 51,
          "metadata": {},
          "output_type": "execute_result"
        }
      ],
      "source": [
        "intents_test_ATIS.pop('accuracy')\n",
        "pd_tbl = pd.DataFrame().from_dict({k: v for k, v in sorted(intents_test_ATIS.items(), key=lambda x: x[1]['f1-score'], reverse = True)}, orient='index')\n",
        "pd_tbl.round(decimals=3)"
      ]
    },
    {
      "cell_type": "code",
      "execution_count": null,
      "metadata": {
        "colab": {
          "base_uri": "https://localhost:8080/",
          "height": 350
        },
        "id": "K9FpbBBIlBVo",
        "outputId": "10c037d2-3f80-491a-ee49-a9bcffeaaad5"
      },
      "outputs": [
        {
          "data": {
            "image/png": "[encoded data removed]",
            "text/plain": [
              "<Figure size 576x360 with 1 Axes>"
            ]
          },
          "metadata": {},
          "output_type": "display_data"
        }
      ],
      "source": [
        "plt.figure(num = 3, figsize=(8, 5)).patch.set_facecolor('white')\n",
        "plt.title('Train and Dev Losses ATIS dataset')\n",
        "plt.ylabel('Loss')\n",
        "plt.xlabel('Epochs')\n",
        "plt.plot(sampled_epochs_ATIS, losses_train_ATIS, label='Train loss')\n",
        "plt.plot(sampled_epochs_ATIS, losses_dev_ATIS, label='Dev loss')\n",
        "plt.legend()\n",
        "plt.show()"
      ]
    },
    {
      "cell_type": "code",
      "execution_count": null,
      "metadata": {
        "colab": {
          "base_uri": "https://localhost:8080/",
          "height": 609
        },
        "id": "6KtpVnFTBc51",
        "outputId": "4f6dd887-25aa-4d00-e101-ef2eeadab480"
      },
      "outputs": [
        {
          "data": {
            "text/plain": [
              "<matplotlib.image.AxesImage at 0x7f8f445d5150>"
            ]
          },
          "execution_count": 53,
          "metadata": {},
          "output_type": "execute_result"
        },
        {
          "data": {
            "image/png": "[encoded data removed]",
            "text/plain": [
              "<Figure size 720x720 with 1 Axes>"
            ]
          },
          "metadata": {
            "needs_background": "light"
          },
          "output_type": "display_data"
        }
      ],
      "source": [
        "mp.pyplot.figure(figsize = (10,10))\n",
        "mp.pyplot.imshow(cm_intent_ATIS, norm = mp.colors.Normalize(vmin = 0, vmax = 255))"
      ]
    },
    {
      "cell_type": "code",
      "execution_count": null,
      "metadata": {
        "colab": {
          "base_uri": "https://localhost:8080/",
          "height": 610
        },
        "id": "lcBVUO_2pqpD",
        "outputId": "664c9c6c-d8f3-402f-f0cc-6eae1e98b62f"
      },
      "outputs": [
        {
          "data": {
            "text/plain": [
              "<matplotlib.image.AxesImage at 0x7f8f445c4a50>"
            ]
          },
          "execution_count": 54,
          "metadata": {},
          "output_type": "execute_result"
        },
        {
          "data": {
            "image/png": "[encoded data removed]",
            "text/plain": [
              "<Figure size 720x720 with 1 Axes>"
            ]
          },
          "metadata": {
            "needs_background": "light"
          },
          "output_type": "display_data"
        }
      ],
      "source": [
        "mp.pyplot.figure(figsize = (10,10))\n",
        "mp.pyplot.imshow(cm_slot_ATIS, norm = mp.colors.Normalize(vmin = 0, vmax = 255))"
      ]
    },
    {
      "cell_type": "markdown",
      "metadata": {
        "id": "V8mSoF321dJY"
      },
      "source": [
        "####Snips training"
      ]
    },
    {
      "cell_type": "code",
      "execution_count": null,
      "metadata": {
        "colab": {
          "base_uri": "https://localhost:8080/"
        },
        "id": "SJc41aWN5cZk",
        "outputId": "afeaa5d6-4485-42e3-cf89-d6edf2b4f8f2"
      },
      "outputs": [
        {
          "name": "stderr",
          "output_type": "stream",
          "text": [
            " 87%|████████▋ | 174/199 [06:16<00:54,  2.16s/it]\n"
          ]
        },
        {
          "name": "stdout",
          "output_type": "stream",
          "text": [
            "\n",
            "Slot F1:  0.869\n",
            "Intent Accuracy: 0.957\n"
          ]
        },
        {
          "name": "stderr",
          "output_type": "stream",
          "text": [
            " 42%|████▏     | 84/199 [03:00<04:07,  2.15s/it]\n"
          ]
        },
        {
          "name": "stdout",
          "output_type": "stream",
          "text": [
            "\n",
            "Slot F1:  0.875\n",
            "Intent Accuracy: 0.96\n"
          ]
        },
        {
          "name": "stderr",
          "output_type": "stream",
          "text": [
            " 50%|████▉     | 99/199 [03:32<03:34,  2.15s/it]\n"
          ]
        },
        {
          "name": "stdout",
          "output_type": "stream",
          "text": [
            "\n",
            "Slot F1:  0.881\n",
            "Intent Accuracy: 0.969\n"
          ]
        },
        {
          "name": "stderr",
          "output_type": "stream",
          "text": [
            " 40%|███▉      | 79/199 [02:52<04:22,  2.19s/it]\n"
          ]
        },
        {
          "name": "stdout",
          "output_type": "stream",
          "text": [
            "\n",
            "Slot F1:  0.883\n",
            "Intent Accuracy: 0.957\n"
          ]
        },
        {
          "name": "stderr",
          "output_type": "stream",
          "text": [
            " 45%|████▍     | 89/199 [03:11<03:56,  2.15s/it]"
          ]
        },
        {
          "name": "stdout",
          "output_type": "stream",
          "text": [
            "\n",
            "Slot F1:  0.878\n",
            "Intent Accuracy: 0.961\n",
            "\n",
            "Slot F1 mean:  0.877\n",
            "Slot F1 standard deviation:  0.005\n",
            "Intent Accuracy mean: 0.961\n",
            "Intent Accuracy standard deviation: 0.004\n"
          ]
        },
        {
          "name": "stderr",
          "output_type": "stream",
          "text": [
            "\n"
          ]
        }
      ],
      "source": [
        "slots_2_SNIPS = []\n",
        "intents_2_SNIPS = []\n",
        "for i in range(5):\n",
        "  model_2_SNIPS.apply(init_weights)\n",
        "  results_test_SNIPS, intents_test_SNIPS, sampled_epochs_SNIPS, losses_train_SNIPS, losses_dev_SNIPS, cm_slot, cm_intent = train_model(dev_loader_SNIPS,\n",
        "                                                                                                                                        train_loader_SNIPS, \n",
        "                                                                                                                                        test_loader_SNIPS, \n",
        "                                                                                                                                        model_2_SNIPS,\n",
        "                                                                                                                                        lang_SNIPS, \n",
        "                                                                                                                                        criterion_intents, \n",
        "                                                                                                                                        criterion_slots, \n",
        "                                                                                                                                        optimizer_SNIPS)\n",
        "  print('\\nSlot F1: ', round(results_test_SNIPS['total']['f-measure'],3))\n",
        "  print('Intent Accuracy:', round(intents_test_SNIPS['accuracy'],3))\n",
        "  cm_slot_SNIPS += cm_slot\n",
        "  cm_intent_SNIPS += cm_intent\n",
        "  slots_2_SNIPS.append(results_test_SNIPS['total']['f-measure'])\n",
        "  intents_2_SNIPS.append(intents_test_SNIPS['accuracy'])\n",
        "slots_mean_SNIPS = np.mean(slots_2_SNIPS)\n",
        "slots_std_SNIPS = np.std(slots_2_SNIPS)\n",
        "intents_mean_SNIPS = np.mean(intents_2_SNIPS)\n",
        "intents_std_SNIPS = np.std(intents_2_SNIPS)\n",
        "print('\\nSlot F1 mean: ', round(slots_mean_SNIPS,3))\n",
        "print('Slot F1 standard deviation: ', round(slots_std_SNIPS,3))\n",
        "print('Intent Accuracy mean:', round(intents_mean_SNIPS,3))\n",
        "print('Intent Accuracy standard deviation:', round(intents_std_SNIPS,3))"
      ]
    },
    {
      "cell_type": "code",
      "execution_count": null,
      "metadata": {
        "colab": {
          "base_uri": "https://localhost:8080/",
          "height": 1000
        },
        "id": "efKvpbLUpyCj",
        "outputId": "9482eabe-12a5-4ad4-ce00-5a7df4f619b1"
      },
      "outputs": [
        {
          "data": {
            "text/html": [
              "\n",
              "  <div id=\"df-875e3e5a-428c-46ad-8181-e2c4d14deaee\">\n",
              "    <div class=\"colab-df-container\">\n",
              "      <div>\n",
              "<style scoped>\n",
              "    .dataframe tbody tr th:only-of-type {\n",
              "        vertical-align: middle;\n",
              "    }\n",
              "\n",
              "    .dataframe tbody tr th {\n",
              "        vertical-align: top;\n",
              "    }\n",
              "\n",
              "    .dataframe thead th {\n",
              "        text-align: right;\n",
              "    }\n",
              "</style>\n",
              "<table border=\"1\" class=\"dataframe\">\n",
              "  <thead>\n",
              "    <tr style=\"text-align: right;\">\n",
              "      <th></th>\n",
              "      <th>precision</th>\n",
              "      <th>recall</th>\n",
              "      <th>f-measure</th>\n",
              "      <th>support</th>\n",
              "    </tr>\n",
              "  </thead>\n",
              "  <tbody>\n",
              "    <tr>\n",
              "      <th>object_location_type</th>\n",
              "      <td>1.000</td>\n",
              "      <td>1.000</td>\n",
              "      <td>1.000</td>\n",
              "      <td>22</td>\n",
              "    </tr>\n",
              "    <tr>\n",
              "      <th>current_location</th>\n",
              "      <td>1.000</td>\n",
              "      <td>1.000</td>\n",
              "      <td>1.000</td>\n",
              "      <td>14</td>\n",
              "    </tr>\n",
              "    <tr>\n",
              "      <th>party_size_number</th>\n",
              "      <td>1.000</td>\n",
              "      <td>1.000</td>\n",
              "      <td>1.000</td>\n",
              "      <td>50</td>\n",
              "    </tr>\n",
              "    <tr>\n",
              "      <th>rating_unit</th>\n",
              "      <td>1.000</td>\n",
              "      <td>1.000</td>\n",
              "      <td>1.000</td>\n",
              "      <td>40</td>\n",
              "    </tr>\n",
              "    <tr>\n",
              "      <th>condition_temperature</th>\n",
              "      <td>1.000</td>\n",
              "      <td>1.000</td>\n",
              "      <td>1.000</td>\n",
              "      <td>23</td>\n",
              "    </tr>\n",
              "    <tr>\n",
              "      <th>facility</th>\n",
              "      <td>1.000</td>\n",
              "      <td>1.000</td>\n",
              "      <td>1.000</td>\n",
              "      <td>3</td>\n",
              "    </tr>\n",
              "    <tr>\n",
              "      <th>condition_description</th>\n",
              "      <td>1.000</td>\n",
              "      <td>1.000</td>\n",
              "      <td>1.000</td>\n",
              "      <td>28</td>\n",
              "    </tr>\n",
              "    <tr>\n",
              "      <th>movie_type</th>\n",
              "      <td>1.000</td>\n",
              "      <td>1.000</td>\n",
              "      <td>1.000</td>\n",
              "      <td>33</td>\n",
              "    </tr>\n",
              "    <tr>\n",
              "      <th>best_rating</th>\n",
              "      <td>1.000</td>\n",
              "      <td>1.000</td>\n",
              "      <td>1.000</td>\n",
              "      <td>43</td>\n",
              "    </tr>\n",
              "    <tr>\n",
              "      <th>restaurant_type</th>\n",
              "      <td>1.000</td>\n",
              "      <td>0.985</td>\n",
              "      <td>0.992</td>\n",
              "      <td>65</td>\n",
              "    </tr>\n",
              "    <tr>\n",
              "      <th>rating_value</th>\n",
              "      <td>0.964</td>\n",
              "      <td>1.000</td>\n",
              "      <td>0.982</td>\n",
              "      <td>80</td>\n",
              "    </tr>\n",
              "    <tr>\n",
              "      <th>year</th>\n",
              "      <td>1.000</td>\n",
              "      <td>0.958</td>\n",
              "      <td>0.979</td>\n",
              "      <td>24</td>\n",
              "    </tr>\n",
              "    <tr>\n",
              "      <th>playlist_owner</th>\n",
              "      <td>0.946</td>\n",
              "      <td>1.000</td>\n",
              "      <td>0.972</td>\n",
              "      <td>70</td>\n",
              "    </tr>\n",
              "    <tr>\n",
              "      <th>object_select</th>\n",
              "      <td>0.930</td>\n",
              "      <td>1.000</td>\n",
              "      <td>0.964</td>\n",
              "      <td>40</td>\n",
              "    </tr>\n",
              "    <tr>\n",
              "      <th>music_item</th>\n",
              "      <td>0.944</td>\n",
              "      <td>0.981</td>\n",
              "      <td>0.962</td>\n",
              "      <td>104</td>\n",
              "    </tr>\n",
              "    <tr>\n",
              "      <th>location_name</th>\n",
              "      <td>0.958</td>\n",
              "      <td>0.958</td>\n",
              "      <td>0.958</td>\n",
              "      <td>24</td>\n",
              "    </tr>\n",
              "    <tr>\n",
              "      <th>service</th>\n",
              "      <td>0.958</td>\n",
              "      <td>0.958</td>\n",
              "      <td>0.958</td>\n",
              "      <td>24</td>\n",
              "    </tr>\n",
              "    <tr>\n",
              "      <th>object_type</th>\n",
              "      <td>0.957</td>\n",
              "      <td>0.957</td>\n",
              "      <td>0.957</td>\n",
              "      <td>162</td>\n",
              "    </tr>\n",
              "    <tr>\n",
              "      <th>object_part_of_series_type</th>\n",
              "      <td>0.917</td>\n",
              "      <td>1.000</td>\n",
              "      <td>0.957</td>\n",
              "      <td>11</td>\n",
              "    </tr>\n",
              "    <tr>\n",
              "      <th>state</th>\n",
              "      <td>0.934</td>\n",
              "      <td>0.966</td>\n",
              "      <td>0.950</td>\n",
              "      <td>59</td>\n",
              "    </tr>\n",
              "    <tr>\n",
              "      <th>spatial_relation</th>\n",
              "      <td>0.919</td>\n",
              "      <td>0.958</td>\n",
              "      <td>0.938</td>\n",
              "      <td>71</td>\n",
              "    </tr>\n",
              "    <tr>\n",
              "      <th>country</th>\n",
              "      <td>0.907</td>\n",
              "      <td>0.886</td>\n",
              "      <td>0.897</td>\n",
              "      <td>44</td>\n",
              "    </tr>\n",
              "    <tr>\n",
              "      <th>sort</th>\n",
              "      <td>0.857</td>\n",
              "      <td>0.938</td>\n",
              "      <td>0.896</td>\n",
              "      <td>32</td>\n",
              "    </tr>\n",
              "    <tr>\n",
              "      <th>playlist</th>\n",
              "      <td>0.849</td>\n",
              "      <td>0.915</td>\n",
              "      <td>0.881</td>\n",
              "      <td>129</td>\n",
              "    </tr>\n",
              "    <tr>\n",
              "      <th>total</th>\n",
              "      <td>0.852</td>\n",
              "      <td>0.907</td>\n",
              "      <td>0.878</td>\n",
              "      <td>1790</td>\n",
              "    </tr>\n",
              "    <tr>\n",
              "      <th>geographic_poi</th>\n",
              "      <td>0.900</td>\n",
              "      <td>0.818</td>\n",
              "      <td>0.857</td>\n",
              "      <td>11</td>\n",
              "    </tr>\n",
              "    <tr>\n",
              "      <th>timeRange</th>\n",
              "      <td>0.769</td>\n",
              "      <td>0.935</td>\n",
              "      <td>0.844</td>\n",
              "      <td>107</td>\n",
              "    </tr>\n",
              "    <tr>\n",
              "      <th>artist</th>\n",
              "      <td>0.790</td>\n",
              "      <td>0.879</td>\n",
              "      <td>0.832</td>\n",
              "      <td>107</td>\n",
              "    </tr>\n",
              "    <tr>\n",
              "      <th>city</th>\n",
              "      <td>0.797</td>\n",
              "      <td>0.850</td>\n",
              "      <td>0.823</td>\n",
              "      <td>60</td>\n",
              "    </tr>\n",
              "    <tr>\n",
              "      <th>genre</th>\n",
              "      <td>0.800</td>\n",
              "      <td>0.800</td>\n",
              "      <td>0.800</td>\n",
              "      <td>5</td>\n",
              "    </tr>\n",
              "    <tr>\n",
              "      <th>poi</th>\n",
              "      <td>0.857</td>\n",
              "      <td>0.750</td>\n",
              "      <td>0.800</td>\n",
              "      <td>8</td>\n",
              "    </tr>\n",
              "    <tr>\n",
              "      <th>object_name</th>\n",
              "      <td>0.638</td>\n",
              "      <td>0.769</td>\n",
              "      <td>0.698</td>\n",
              "      <td>147</td>\n",
              "    </tr>\n",
              "    <tr>\n",
              "      <th>cuisine</th>\n",
              "      <td>0.611</td>\n",
              "      <td>0.786</td>\n",
              "      <td>0.688</td>\n",
              "      <td>14</td>\n",
              "    </tr>\n",
              "    <tr>\n",
              "      <th>restaurant_name</th>\n",
              "      <td>0.611</td>\n",
              "      <td>0.733</td>\n",
              "      <td>0.667</td>\n",
              "      <td>15</td>\n",
              "    </tr>\n",
              "    <tr>\n",
              "      <th>party_size_description</th>\n",
              "      <td>0.667</td>\n",
              "      <td>0.600</td>\n",
              "      <td>0.632</td>\n",
              "      <td>10</td>\n",
              "    </tr>\n",
              "    <tr>\n",
              "      <th>entity_name</th>\n",
              "      <td>0.564</td>\n",
              "      <td>0.667</td>\n",
              "      <td>0.611</td>\n",
              "      <td>33</td>\n",
              "    </tr>\n",
              "    <tr>\n",
              "      <th>movie_name</th>\n",
              "      <td>0.583</td>\n",
              "      <td>0.596</td>\n",
              "      <td>0.589</td>\n",
              "      <td>47</td>\n",
              "    </tr>\n",
              "    <tr>\n",
              "      <th>served_dish</th>\n",
              "      <td>0.375</td>\n",
              "      <td>0.250</td>\n",
              "      <td>0.300</td>\n",
              "      <td>12</td>\n",
              "    </tr>\n",
              "    <tr>\n",
              "      <th>track</th>\n",
              "      <td>0.273</td>\n",
              "      <td>0.333</td>\n",
              "      <td>0.300</td>\n",
              "      <td>9</td>\n",
              "    </tr>\n",
              "    <tr>\n",
              "      <th>album</th>\n",
              "      <td>0.167</td>\n",
              "      <td>0.300</td>\n",
              "      <td>0.214</td>\n",
              "      <td>10</td>\n",
              "    </tr>\n",
              "  </tbody>\n",
              "</table>\n",
              "</div>\n",
              "      <button class=\"colab-df-convert\" onclick=\"convertToInteractive('df-875e3e5a-428c-46ad-8181-e2c4d14deaee')\"\n",
              "              title=\"Convert this dataframe to an interactive table.\"\n",
              "              style=\"display:none;\">\n",
              "        \n",
              "  <svg xmlns=\"http://www.w3.org/2000/svg\" height=\"24px\"viewBox=\"0 0 24 24\"\n",
              "       width=\"24px\">\n",
              "    <path d=\"M0 0h24v24H0V0z\" fill=\"none\"/>\n",
              "    <path d=\"M18.56 5.44l.94 2.06.94-2.06 2.06-.94-2.06-.94-.94-2.06-.94 2.06-2.06.94zm-11 1L8.5 8.5l.94-2.06 2.06-.94-2.06-.94L8.5 2.5l-.94 2.06-2.06.94zm10 10l.94 2.06.94-2.06 2.06-.94-2.06-.94-.94-2.06-.94 2.06-2.06.94z\"/><path d=\"M17.41 7.96l-1.37-1.37c-.4-.4-.92-.59-1.43-.59-.52 0-1.04.2-1.43.59L10.3 9.45l-7.72 7.72c-.78.78-.78 2.05 0 2.83L4 21.41c.39.39.9.59 1.41.59.51 0 1.02-.2 1.41-.59l7.78-7.78 2.81-2.81c.8-.78.8-2.07 0-2.86zM5.41 20L4 18.59l7.72-7.72 1.47 1.35L5.41 20z\"/>\n",
              "  </svg>\n",
              "      </button>\n",
              "      \n",
              "  <style>\n",
              "    .colab-df-container {\n",
              "      display:flex;\n",
              "      flex-wrap:wrap;\n",
              "      gap: 12px;\n",
              "    }\n",
              "\n",
              "    .colab-df-convert {\n",
              "      background-color: #E8F0FE;\n",
              "      border: none;\n",
              "      border-radius: 50%;\n",
              "      cursor: pointer;\n",
              "      display: none;\n",
              "      fill: #1967D2;\n",
              "      height: 32px;\n",
              "      padding: 0 0 0 0;\n",
              "      width: 32px;\n",
              "    }\n",
              "\n",
              "    .colab-df-convert:hover {\n",
              "      background-color: #E2EBFA;\n",
              "      box-shadow: 0px 1px 2px rgba(60, 64, 67, 0.3), 0px 1px 3px 1px rgba(60, 64, 67, 0.15);\n",
              "      fill: #174EA6;\n",
              "    }\n",
              "\n",
              "    [theme=dark] .colab-df-convert {\n",
              "      background-color: #3B4455;\n",
              "      fill: #D2E3FC;\n",
              "    }\n",
              "\n",
              "    [theme=dark] .colab-df-convert:hover {\n",
              "      background-color: #434B5C;\n",
              "      box-shadow: 0px 1px 3px 1px rgba(0, 0, 0, 0.15);\n",
              "      filter: drop-shadow(0px 1px 2px rgba(0, 0, 0, 0.3));\n",
              "      fill: #FFFFFF;\n",
              "    }\n",
              "  </style>\n",
              "\n",
              "      <script>\n",
              "        const buttonEl =\n",
              "          document.querySelector('#df-875e3e5a-428c-46ad-8181-e2c4d14deaee button.colab-df-convert');\n",
              "        buttonEl.style.display =\n",
              "          google.colab.kernel.accessAllowed ? 'block' : 'none';\n",
              "\n",
              "        async function convertToInteractive(key) {\n",
              "          const element = document.querySelector('#df-875e3e5a-428c-46ad-8181-e2c4d14deaee');\n",
              "          const dataTable =\n",
              "            await google.colab.kernel.invokeFunction('convertToInteractive',\n",
              "                                                     [key], {});\n",
              "          if (!dataTable) return;\n",
              "\n",
              "          const docLinkHtml = 'Like what you see? Visit the ' +\n",
              "            '<a target=\"_blank\" href=https://colab.research.google.com/notebooks/data_table.ipynb>data table notebook</a>'\n",
              "            + ' to learn more about interactive tables.';\n",
              "          element.innerHTML = '';\n",
              "          dataTable['output_type'] = 'display_data';\n",
              "          await google.colab.output.renderOutput(dataTable, element);\n",
              "          const docLink = document.createElement('div');\n",
              "          docLink.innerHTML = docLinkHtml;\n",
              "          element.appendChild(docLink);\n",
              "        }\n",
              "      </script>\n",
              "    </div>\n",
              "  </div>\n",
              "  "
            ],
            "text/plain": [
              "                            precision  recall  f-measure  support\n",
              "object_location_type            1.000   1.000      1.000       22\n",
              "current_location                1.000   1.000      1.000       14\n",
              "party_size_number               1.000   1.000      1.000       50\n",
              "rating_unit                     1.000   1.000      1.000       40\n",
              "condition_temperature           1.000   1.000      1.000       23\n",
              "facility                        1.000   1.000      1.000        3\n",
              "condition_description           1.000   1.000      1.000       28\n",
              "movie_type                      1.000   1.000      1.000       33\n",
              "best_rating                     1.000   1.000      1.000       43\n",
              "restaurant_type                 1.000   0.985      0.992       65\n",
              "rating_value                    0.964   1.000      0.982       80\n",
              "year                            1.000   0.958      0.979       24\n",
              "playlist_owner                  0.946   1.000      0.972       70\n",
              "object_select                   0.930   1.000      0.964       40\n",
              "music_item                      0.944   0.981      0.962      104\n",
              "location_name                   0.958   0.958      0.958       24\n",
              "service                         0.958   0.958      0.958       24\n",
              "object_type                     0.957   0.957      0.957      162\n",
              "object_part_of_series_type      0.917   1.000      0.957       11\n",
              "state                           0.934   0.966      0.950       59\n",
              "spatial_relation                0.919   0.958      0.938       71\n",
              "country                         0.907   0.886      0.897       44\n",
              "sort                            0.857   0.938      0.896       32\n",
              "playlist                        0.849   0.915      0.881      129\n",
              "total                           0.852   0.907      0.878     1790\n",
              "geographic_poi                  0.900   0.818      0.857       11\n",
              "timeRange                       0.769   0.935      0.844      107\n",
              "artist                          0.790   0.879      0.832      107\n",
              "city                            0.797   0.850      0.823       60\n",
              "genre                           0.800   0.800      0.800        5\n",
              "poi                             0.857   0.750      0.800        8\n",
              "object_name                     0.638   0.769      0.698      147\n",
              "cuisine                         0.611   0.786      0.688       14\n",
              "restaurant_name                 0.611   0.733      0.667       15\n",
              "party_size_description          0.667   0.600      0.632       10\n",
              "entity_name                     0.564   0.667      0.611       33\n",
              "movie_name                      0.583   0.596      0.589       47\n",
              "served_dish                     0.375   0.250      0.300       12\n",
              "track                           0.273   0.333      0.300        9\n",
              "album                           0.167   0.300      0.214       10"
            ]
          },
          "execution_count": 31,
          "metadata": {},
          "output_type": "execute_result"
        }
      ],
      "source": [
        "pd_tbl = pd.DataFrame().from_dict({k: v for k, v in sorted(results_test_SNIPS.items(), key=lambda x: x[1]['f-measure'], reverse = True)}, orient='index')\n",
        "pd_tbl.round(decimals=3)"
      ]
    },
    {
      "cell_type": "code",
      "execution_count": null,
      "metadata": {
        "colab": {
          "base_uri": "https://localhost:8080/",
          "height": 332
        },
        "id": "PC84BdzUp1ST",
        "outputId": "4554db42-9a49-4dd1-bc9d-422057a91a40"
      },
      "outputs": [
        {
          "data": {
            "text/html": [
              "\n",
              "  <div id=\"df-ea387a16-1cf0-4611-9d3a-517593f2152a\">\n",
              "    <div class=\"colab-df-container\">\n",
              "      <div>\n",
              "<style scoped>\n",
              "    .dataframe tbody tr th:only-of-type {\n",
              "        vertical-align: middle;\n",
              "    }\n",
              "\n",
              "    .dataframe tbody tr th {\n",
              "        vertical-align: top;\n",
              "    }\n",
              "\n",
              "    .dataframe thead th {\n",
              "        text-align: right;\n",
              "    }\n",
              "</style>\n",
              "<table border=\"1\" class=\"dataframe\">\n",
              "  <thead>\n",
              "    <tr style=\"text-align: right;\">\n",
              "      <th></th>\n",
              "      <th>precision</th>\n",
              "      <th>recall</th>\n",
              "      <th>f1-score</th>\n",
              "      <th>support</th>\n",
              "    </tr>\n",
              "  </thead>\n",
              "  <tbody>\n",
              "    <tr>\n",
              "      <th>AddToPlaylist</th>\n",
              "      <td>1.000</td>\n",
              "      <td>1.000</td>\n",
              "      <td>1.000</td>\n",
              "      <td>124</td>\n",
              "    </tr>\n",
              "    <tr>\n",
              "      <th>RateBook</th>\n",
              "      <td>0.988</td>\n",
              "      <td>1.000</td>\n",
              "      <td>0.994</td>\n",
              "      <td>80</td>\n",
              "    </tr>\n",
              "    <tr>\n",
              "      <th>GetWeather</th>\n",
              "      <td>0.990</td>\n",
              "      <td>0.990</td>\n",
              "      <td>0.990</td>\n",
              "      <td>104</td>\n",
              "    </tr>\n",
              "    <tr>\n",
              "      <th>BookRestaurant</th>\n",
              "      <td>0.989</td>\n",
              "      <td>0.989</td>\n",
              "      <td>0.989</td>\n",
              "      <td>92</td>\n",
              "    </tr>\n",
              "    <tr>\n",
              "      <th>macro avg</th>\n",
              "      <td>0.962</td>\n",
              "      <td>0.962</td>\n",
              "      <td>0.962</td>\n",
              "      <td>700</td>\n",
              "    </tr>\n",
              "    <tr>\n",
              "      <th>weighted avg</th>\n",
              "      <td>0.962</td>\n",
              "      <td>0.961</td>\n",
              "      <td>0.962</td>\n",
              "      <td>700</td>\n",
              "    </tr>\n",
              "    <tr>\n",
              "      <th>PlayMusic</th>\n",
              "      <td>0.941</td>\n",
              "      <td>0.930</td>\n",
              "      <td>0.936</td>\n",
              "      <td>86</td>\n",
              "    </tr>\n",
              "    <tr>\n",
              "      <th>SearchScreeningEvent</th>\n",
              "      <td>0.951</td>\n",
              "      <td>0.916</td>\n",
              "      <td>0.933</td>\n",
              "      <td>107</td>\n",
              "    </tr>\n",
              "    <tr>\n",
              "      <th>SearchCreativeWork</th>\n",
              "      <td>0.874</td>\n",
              "      <td>0.907</td>\n",
              "      <td>0.890</td>\n",
              "      <td>107</td>\n",
              "    </tr>\n",
              "  </tbody>\n",
              "</table>\n",
              "</div>\n",
              "      <button class=\"colab-df-convert\" onclick=\"convertToInteractive('df-ea387a16-1cf0-4611-9d3a-517593f2152a')\"\n",
              "              title=\"Convert this dataframe to an interactive table.\"\n",
              "              style=\"display:none;\">\n",
              "        \n",
              "  <svg xmlns=\"http://www.w3.org/2000/svg\" height=\"24px\"viewBox=\"0 0 24 24\"\n",
              "       width=\"24px\">\n",
              "    <path d=\"M0 0h24v24H0V0z\" fill=\"none\"/>\n",
              "    <path d=\"M18.56 5.44l.94 2.06.94-2.06 2.06-.94-2.06-.94-.94-2.06-.94 2.06-2.06.94zm-11 1L8.5 8.5l.94-2.06 2.06-.94-2.06-.94L8.5 2.5l-.94 2.06-2.06.94zm10 10l.94 2.06.94-2.06 2.06-.94-2.06-.94-.94-2.06-.94 2.06-2.06.94z\"/><path d=\"M17.41 7.96l-1.37-1.37c-.4-.4-.92-.59-1.43-.59-.52 0-1.04.2-1.43.59L10.3 9.45l-7.72 7.72c-.78.78-.78 2.05 0 2.83L4 21.41c.39.39.9.59 1.41.59.51 0 1.02-.2 1.41-.59l7.78-7.78 2.81-2.81c.8-.78.8-2.07 0-2.86zM5.41 20L4 18.59l7.72-7.72 1.47 1.35L5.41 20z\"/>\n",
              "  </svg>\n",
              "      </button>\n",
              "      \n",
              "  <style>\n",
              "    .colab-df-container {\n",
              "      display:flex;\n",
              "      flex-wrap:wrap;\n",
              "      gap: 12px;\n",
              "    }\n",
              "\n",
              "    .colab-df-convert {\n",
              "      background-color: #E8F0FE;\n",
              "      border: none;\n",
              "      border-radius: 50%;\n",
              "      cursor: pointer;\n",
              "      display: none;\n",
              "      fill: #1967D2;\n",
              "      height: 32px;\n",
              "      padding: 0 0 0 0;\n",
              "      width: 32px;\n",
              "    }\n",
              "\n",
              "    .colab-df-convert:hover {\n",
              "      background-color: #E2EBFA;\n",
              "      box-shadow: 0px 1px 2px rgba(60, 64, 67, 0.3), 0px 1px 3px 1px rgba(60, 64, 67, 0.15);\n",
              "      fill: #174EA6;\n",
              "    }\n",
              "\n",
              "    [theme=dark] .colab-df-convert {\n",
              "      background-color: #3B4455;\n",
              "      fill: #D2E3FC;\n",
              "    }\n",
              "\n",
              "    [theme=dark] .colab-df-convert:hover {\n",
              "      background-color: #434B5C;\n",
              "      box-shadow: 0px 1px 3px 1px rgba(0, 0, 0, 0.15);\n",
              "      filter: drop-shadow(0px 1px 2px rgba(0, 0, 0, 0.3));\n",
              "      fill: #FFFFFF;\n",
              "    }\n",
              "  </style>\n",
              "\n",
              "      <script>\n",
              "        const buttonEl =\n",
              "          document.querySelector('#df-ea387a16-1cf0-4611-9d3a-517593f2152a button.colab-df-convert');\n",
              "        buttonEl.style.display =\n",
              "          google.colab.kernel.accessAllowed ? 'block' : 'none';\n",
              "\n",
              "        async function convertToInteractive(key) {\n",
              "          const element = document.querySelector('#df-ea387a16-1cf0-4611-9d3a-517593f2152a');\n",
              "          const dataTable =\n",
              "            await google.colab.kernel.invokeFunction('convertToInteractive',\n",
              "                                                     [key], {});\n",
              "          if (!dataTable) return;\n",
              "\n",
              "          const docLinkHtml = 'Like what you see? Visit the ' +\n",
              "            '<a target=\"_blank\" href=https://colab.research.google.com/notebooks/data_table.ipynb>data table notebook</a>'\n",
              "            + ' to learn more about interactive tables.';\n",
              "          element.innerHTML = '';\n",
              "          dataTable['output_type'] = 'display_data';\n",
              "          await google.colab.output.renderOutput(dataTable, element);\n",
              "          const docLink = document.createElement('div');\n",
              "          docLink.innerHTML = docLinkHtml;\n",
              "          element.appendChild(docLink);\n",
              "        }\n",
              "      </script>\n",
              "    </div>\n",
              "  </div>\n",
              "  "
            ],
            "text/plain": [
              "                      precision  recall  f1-score  support\n",
              "AddToPlaylist             1.000   1.000     1.000      124\n",
              "RateBook                  0.988   1.000     0.994       80\n",
              "GetWeather                0.990   0.990     0.990      104\n",
              "BookRestaurant            0.989   0.989     0.989       92\n",
              "macro avg                 0.962   0.962     0.962      700\n",
              "weighted avg              0.962   0.961     0.962      700\n",
              "PlayMusic                 0.941   0.930     0.936       86\n",
              "SearchScreeningEvent      0.951   0.916     0.933      107\n",
              "SearchCreativeWork        0.874   0.907     0.890      107"
            ]
          },
          "execution_count": 32,
          "metadata": {},
          "output_type": "execute_result"
        }
      ],
      "source": [
        "intents_test_SNIPS.pop('accuracy')\n",
        "pd_tbl = pd.DataFrame().from_dict({k: v for k, v in sorted(intents_test_SNIPS.items(), key=lambda x: x[1]['f1-score'], reverse = True)}, orient='index')\n",
        "pd_tbl.round(decimals=3)"
      ]
    },
    {
      "cell_type": "code",
      "execution_count": null,
      "metadata": {
        "colab": {
          "base_uri": "https://localhost:8080/",
          "height": 350
        },
        "id": "6ySJW1Rj5g2n",
        "outputId": "6bbf5e35-4f1a-4aaa-c487-193264d83a88"
      },
      "outputs": [
        {
          "data": {
            "image/png": "[encoded data removed]",
            "text/plain": [
              "<Figure size 576x360 with 1 Axes>"
            ]
          },
          "metadata": {},
          "output_type": "display_data"
        }
      ],
      "source": [
        "plt.figure(num = 3, figsize=(8, 5)).patch.set_facecolor('white')\n",
        "plt.title('Train and Dev Losses SNIPS dataset')\n",
        "plt.ylabel('Loss')\n",
        "plt.xlabel('Epochs')\n",
        "plt.plot(sampled_epochs_SNIPS, losses_train_SNIPS, label='Train loss')\n",
        "plt.plot(sampled_epochs_SNIPS, losses_dev_SNIPS, label='Dev loss')\n",
        "plt.legend()\n",
        "plt.show()"
      ]
    },
    {
      "cell_type": "code",
      "execution_count": null,
      "metadata": {
        "colab": {
          "base_uri": "https://localhost:8080/",
          "height": 609
        },
        "id": "XUj21H8ulHyT",
        "outputId": "891ddcca-6d10-4644-b52e-bdffefa13aab"
      },
      "outputs": [
        {
          "data": {
            "text/plain": [
              "<matplotlib.image.AxesImage at 0x7f1d8a91cc90>"
            ]
          },
          "execution_count": 34,
          "metadata": {},
          "output_type": "execute_result"
        },
        {
          "data": {
            "image/png": "[encoded data removed]",
            "text/plain": [
              "<Figure size 720x720 with 1 Axes>"
            ]
          },
          "metadata": {
            "needs_background": "light"
          },
          "output_type": "display_data"
        }
      ],
      "source": [
        "mp.pyplot.figure(figsize = (10,10))\n",
        "mp.pyplot.imshow(cm_intent_SNIPS, norm = mp.colors.Normalize(vmin = 0, vmax = 255))"
      ]
    },
    {
      "cell_type": "code",
      "execution_count": null,
      "metadata": {
        "colab": {
          "base_uri": "https://localhost:8080/",
          "height": 609
        },
        "id": "aswJ7_5qpuM2",
        "outputId": "e4ca7c6e-c709-4f28-dc34-b528f011a51c"
      },
      "outputs": [
        {
          "data": {
            "text/plain": [
              "<matplotlib.image.AxesImage at 0x7f1d8c4dd9d0>"
            ]
          },
          "execution_count": 35,
          "metadata": {},
          "output_type": "execute_result"
        },
        {
          "data": {
            "image/png": "[encoded data removed]",
            "text/plain": [
              "<Figure size 720x720 with 1 Axes>"
            ]
          },
          "metadata": {
            "needs_background": "light"
          },
          "output_type": "display_data"
        }
      ],
      "source": [
        "mp.pyplot.figure(figsize = (10,10))\n",
        "mp.pyplot.imshow(cm_slot_SNIPS, norm = mp.colors.Normalize(vmin = 0, vmax = 255))"
      ]
    },
    {
      "cell_type": "markdown",
      "metadata": {
        "id": "ntb6LlqGnHAt"
      },
      "source": [
        "## Third model"
      ]
    },
    {
      "cell_type": "markdown",
      "metadata": {
        "id": "GlmdHwfrrSep"
      },
      "source": [
        "Implementation of the paper ***A Bi-model based RNN Semantic Frame Parsing Model for Intent Detection and Slot Filling***    \n",
        "[Paper link](https://aclanthology.org/N18-2050.pdf)\n",
        "\n",
        "\n",
        "---\n",
        "\n",
        "\n",
        "Most of the approaches use one (joint) NN based model (including encoderdecoder structure) to model two tasks, hence may not fully take advantage of the crossimpact between them. In this paper, new\n",
        "Bi-model based RNN semantic frame parsing network structures are designed to perform the intent detection and slot filling tasks\n",
        "jointly, by considering their cross-impact to\n",
        "each other using two correlated bidirectional\n",
        "LSTMs.\n",
        "\n",
        "\n",
        "---\n",
        "![model.jpg](data:image/jpeg;base64,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)\n",
        "\n",
        "In the proposed model there are two inter-connected bidirectional LSTMs (BLSTMs) in the structure, one\n",
        "is for intent detection and the other is for slot filling. Each BLSTM reads in the input utterance sequences $(x_1, x_2, · · · , x_n)$ forward and backward,\n",
        "and generates two sequences of hidden states hft\n",
        "and hbt. A concatenation of hft and hbt forms a final BLSTM state $ht = [hf_t, hb_t]$ at time step t.\n",
        "\n",
        "Hence, the bidirectional LSTM $f_i(·)$ generates a\n",
        "sequence of hidden states $(h^i_1, h^i_2, · · · , h^i_n)$, where\n",
        "$i = 1$ corresponds the network for intent detection\n",
        "task and $i = 2$ is for the slot filling task.\n",
        "In order to detect intent, hidden state $h^1_t$ is combined together with $h^2_t$\n",
        "from the other bidirectional LSTM.\n",
        "The difference in slot filling \n",
        "is that there will be an output $y^2_t$\n",
        "at each time step\n",
        "t for $g_2(·)$, as it is a sequence labeling problem.\n",
        "\n",
        "The authors did not provide an implementation of the paper, the model structure has been taken from an implementation available on this [github repo](https://github.com/ray075hl/Bi-Model-Intent-And-Slot) and it has been adapted for this project, the training and evaluation has been coded from scratch.\n",
        "\n",
        "\n",
        "---\n",
        "\n",
        "\n",
        "After trying many different strategies for the early stopping, the two best candidates were the one used in the second model ($patience\\_f1 <= 0$ and $patience\\_acc <= 0$) and a new one that considers them more jointly stopping when the sum of the two patience reaches the 0 threshold ($patience\\_f1 +  patience\\_acc <= 0$).\n",
        "The two have shown very similar results, I decided to keep the first one because it pushed the training a bit further."
      ]
    },
    {
      "cell_type": "markdown",
      "metadata": {
        "id": "R7X8G_pukHHF"
      },
      "source": [
        "### Training and evaluation loop"
      ]
    },
    {
      "cell_type": "code",
      "execution_count": null,
      "metadata": {
        "id": "4BBjiUIsnPya"
      },
      "outputs": [],
      "source": [
        "import torch \n",
        "import torch.nn as nn\n",
        "import torch.nn.functional as F\n"
      ]
    },
    {
      "cell_type": "code",
      "execution_count": null,
      "metadata": {
        "id": "ktpOEWP6vLEa"
      },
      "outputs": [],
      "source": [
        "from operator import length_hint\n",
        "import sklearn\n",
        "from conll import evaluate\n",
        "import torch.nn.functional as F\n",
        "from sklearn.metrics import classification_report\n",
        "def train_loop(data, optimizer_slots, optimizer_intents, criterion_slots, criterion_intents, model_slots, model_intents):\n",
        "    model_slots.train()\n",
        "    model_intents.train()\n",
        "    loss_array = []\n",
        "    slot_loss_array = []\n",
        "    intent_loss_array = []\n",
        "\n",
        "    for i,sample in enumerate(data):\n",
        "        #mask = make_mask(sample['slots_len'], model_slots.label_size).to(device)\n",
        "        optimizer_slots.zero_grad() # Zeroing the gradient\n",
        "        optimizer_intents.zero_grad() # Zeroing the gradient\n",
        "\n",
        "        #slot encoder output -> go into intent decoder\n",
        "        hs = model_slots.enc(sample['utterances'])\n",
        "        model_slots.share_memory = hs.clone()\n",
        "        #intent encoder output -> go into slot decoder\n",
        "        hi = model_intents.enc(sample['utterances'])\n",
        "        model_intents.share_memory = hi.clone()\n",
        "\n",
        "        slot_logits = model_slots.dec(hs, model_intents.share_memory.detach(), sample['slots_len'], sample['heads'], sample['deps'])\n",
        "        slot_logits = F.log_softmax(slot_logits, dim = 1)\n",
        "\n",
        "        loss_slot = criterion_slots(slot_logits, sample['y_slots']) \n",
        "        slot_loss_array.append(loss_slot.item())\n",
        "        loss_slot.backward()\n",
        "\n",
        "        nn.utils.clip_grad_norm_(model_slots.parameters(), 5.0)\n",
        "        optimizer_slots.step()\n",
        "\n",
        "        intent_logits = F.log_softmax(model_intents.dec(hi, model_slots.share_memory.detach(),sample['slots_len']), dim = 1)\n",
        "        loss_intent = criterion_intents(intent_logits, sample['intents'])\n",
        "        intent_loss_array.append(loss_intent.item())\n",
        "        loss_intent.backward()\n",
        "\n",
        "        nn.utils.clip_grad_norm_(model_intents.parameters(), 5.0)\n",
        "        optimizer_intents.step()\n",
        "        \n",
        "    return intent_loss_array, slot_loss_array\n",
        "\n",
        "def eval_loop(data, criterion_slots, criterion_intents, model_slots, model_intents, lang):\n",
        "    model_slots.eval()\n",
        "    model_intents.eval()\n",
        "    slot_loss_array = []\n",
        "    intent_loss_array = []\n",
        "\n",
        "    ref_intents = []\n",
        "    hyp_intents = []\n",
        "    \n",
        "    ref_slots = []\n",
        "    hyp_slots = []\n",
        "    with torch.no_grad(): # It used to avoid the creation of computational graph\n",
        "        #labels list to create confusion matrices\n",
        "        total_slot_labels = [x for x in range (len(lang.id2slot))]\n",
        "        total_intent_labels = [v for k, v in lang.id2intent.items()]\n",
        "        #temporary consusion matrices initialization\n",
        "        cm_slot = np.zeros((len(total_slot_labels), len(total_slot_labels)))\n",
        "        cm_intent = np.zeros((len(total_intent_labels), len(total_intent_labels)))\n",
        "\n",
        "        for sample in data:\n",
        "\n",
        "            hs = model_slots.enc(sample['utterances'])\n",
        "            model_slots.share_memory = hs.clone()\n",
        "            hi = model_intents.enc(sample['utterances'])\n",
        "            model_intents.share_memory = hi.clone()\n",
        "\n",
        "            slot_logits = model_slots.dec(hs, model_intents.share_memory.detach(), sample['slots_len'], sample['heads'], sample['deps'])\n",
        "            slot_logits = F.log_softmax(slot_logits, dim = 1)\n",
        "            \n",
        "            loss_slot = criterion_slots(slot_logits, sample['y_slots']) \n",
        "            slot_loss_array.append(loss_slot.item())\n",
        "\n",
        "            intent_logits = model_intents.dec(hi, model_slots.share_memory.detach(),sample['slots_len'])\n",
        "            intent_logits = F.log_softmax(intent_logits, dim=1)\n",
        "            loss_intents = criterion_intents(intent_logits, sample['intents'])\n",
        "            intent_loss_array.append(loss_intents.item())\n",
        "\n",
        "            out_intents = [lang.id2intent[x] \n",
        "                           for x in torch.argmax(intent_logits, dim=1).tolist()] \n",
        "            gt_intents = [lang.id2intent[x] for x in sample['intents'].tolist()]\n",
        "            ref_intents.extend(gt_intents)\n",
        "            hyp_intents.extend(out_intents)\n",
        "            \n",
        "            # Slot inference \n",
        "            output_slots = torch.argmax(slot_logits, dim=1)\n",
        "\n",
        "            ref_int_labels = []\n",
        "            hyp_int_labels = []\n",
        "            for id_seq, seq in enumerate(output_slots):\n",
        "                length = sample['slots_len'].tolist()[id_seq]\n",
        "                utt_ids = sample['utterance'][id_seq][:length].tolist()\n",
        "                gt_ids = sample['y_slots'][id_seq].tolist()\n",
        "                gt_slots = [lang.id2slot[elem] for elem in gt_ids[:length]]\n",
        "                utterance = [lang.id2word[elem] for elem in utt_ids]\n",
        "                to_decode = seq[:length].tolist()\n",
        "                ref_slots.append([(utterance[id_el], elem) for id_el, elem in enumerate(gt_slots)])\n",
        "                tmp_seq = []\n",
        "                for id_el, elem in enumerate(to_decode):\n",
        "                  tmp_seq.append((utterance[id_el], lang.id2slot[elem]) if elem != 0 else (utterance[id_el], 'O'))\n",
        "                  ref_int_labels.extend(gt_ids[:length])\n",
        "                  hyp_int_labels.extend(to_decode)\n",
        "                hyp_slots.append(tmp_seq)\n",
        "            \n",
        "            #create lists of hyp and ref for slot confusion matrix\n",
        "            X = [lang.id2slot[x] for x in ref_int_labels]\n",
        "            Y = [lang.id2slot[x] for x in hyp_int_labels]\n",
        "            labels = [lang.id2slot[x] for x in total_slot_labels]\n",
        "\n",
        "            #summing previous confusion matrix with new\n",
        "            cm_slot += sklearn.metrics.confusion_matrix(X, Y,labels = labels)\n",
        "            cm_intent += sklearn.metrics.confusion_matrix(ref_intents, hyp_intents,labels = total_intent_labels)\n",
        "\n",
        "    try:            \n",
        "      results = evaluate(ref_slots, hyp_slots)\n",
        "    except Exception as ex:\n",
        "        # Sometimes the model predics a class that is not in REF\n",
        "      results = None\n",
        "\n",
        "    #results = sklearn.metrics.f1_score(ref_int_labels, hyp_int_labels, labels = total_slot_labels, average = 'micro')\n",
        "    #results = sklearn.metrics.f1_score(gt_slots, hyp_slots, average = 'macro')\n",
        "        \n",
        "    report_intent = classification_report(ref_intents, hyp_intents, \n",
        "                                          zero_division=False, output_dict=True)\n",
        "    \n",
        "    return results, report_intent, intent_loss_array, slot_loss_array, cm_slot, cm_intent"
      ]
    },
    {
      "cell_type": "markdown",
      "metadata": {
        "id": "trQ2pBDX0Qjl"
      },
      "source": [
        "### Model definition"
      ]
    },
    {
      "cell_type": "markdown",
      "metadata": {
        "id": "tyh-qS-I0XYo"
      },
      "source": [
        "**Slot filling encoder**"
      ]
    },
    {
      "cell_type": "code",
      "execution_count": null,
      "metadata": {
        "id": "U6Eod2-JnSmS"
      },
      "outputs": [],
      "source": [
        "class slot_enc(nn.Module):\n",
        "    def __init__(self, embedding_size, lstm_hidden_size, vocab_size):\n",
        "        super(slot_enc, self).__init__()\n",
        "\n",
        "        self.embedding = nn.Embedding(vocab_size, embedding_size, padding_idx=PAD_TOKEN).to(device)\n",
        "        self.lstm = nn.LSTM(input_size=embedding_size, hidden_size=lstm_hidden_size, num_layers=2,\\\n",
        "                            bidirectional= True, batch_first=True, dropout=DROPOUT)\n",
        "\n",
        "    def forward(self, x):\n",
        "        x = self.embedding(x)\n",
        "        x = F.dropout(x, DROPOUT)       \n",
        "        x, _ = self.lstm(x)\n",
        "        x = F.dropout(x, DROPOUT)\n",
        "        return x "
      ]
    },
    {
      "cell_type": "markdown",
      "metadata": {
        "id": "IbJvRJHe0cr3"
      },
      "source": [
        "**Slot filling decoder**"
      ]
    },
    {
      "cell_type": "code",
      "execution_count": null,
      "metadata": {
        "id": "qf5RA2xonWzD"
      },
      "outputs": [],
      "source": [
        "class slot_dec(nn.Module):\n",
        "    def __init__(self, lstm_hidden_size, label_size):\n",
        "        super(slot_dec, self).__init__()\n",
        "        self.lstm = nn.LSTM(input_size=lstm_hidden_size*5, hidden_size=lstm_hidden_size, num_layers=2, dropout = DROPOUT)\n",
        "        self.fc = nn.Linear(lstm_hidden_size+2, label_size)\n",
        "        self.hidden_size = lstm_hidden_size\n",
        "\n",
        "    def forward(self, x, hi, real_len, heads, deps):\n",
        "        batch = x.size(0)\n",
        "        length = x.size(1)\n",
        "        dec_init_out = torch.zeros(batch, 1, self.hidden_size).to(device)\n",
        "        hidden_state = (torch.zeros(2, 1, self.hidden_size).to(device), \\\n",
        "                        torch.zeros(2, 1, self.hidden_size).to(device))\n",
        "        x = torch.cat((x, hi), dim=-1)\n",
        "\n",
        "        x = x.transpose(1, 0)  # 50 x batch x feature_size\n",
        "        x = F.dropout(x, DROPOUT)\n",
        "        all_out = []\n",
        "        for i in range(length):\n",
        "            if i == 0:\n",
        "                out, hidden_state = self.lstm(torch.cat((x[i].unsqueeze(1), dec_init_out), dim=-1), hidden_state)\n",
        "            else:\n",
        "                out, hidden_state = self.lstm(torch.cat((x[i].unsqueeze(1), out), dim=-1), hidden_state)\n",
        "            all_out.append(out)\n",
        "        output = torch.cat(all_out, dim=1) # 50 x batch x feature_size\n",
        "\n",
        "        if(heads.shape[1] < output.shape[1]):\n",
        "          diff = output.shape[1] - heads.shape[1]\n",
        "          pad = torch.zeros((output.shape[0],diff)).to(device)\n",
        "          heads = torch.cat((heads, pad), dim = -1)\n",
        "          deps = torch.cat((deps, pad), dim = -1)\n",
        "        if(heads.shape[1] > output.shape[1]):\n",
        "          diff = heads.shape[1] - output.shape[1]\n",
        "          heads = heads[:,:-diff]\n",
        "          deps = deps[:,:-diff]\n",
        "        output = torch.cat((output, heads.unsqueeze(2), deps.unsqueeze(2)), dim = -1)\n",
        "        # for i, batch in enumerate(output):\n",
        "        #     for j,word in enumerate(batch):\n",
        "        #         print(heads[i][j])\n",
        "        #         word = torch.cat((word, heads[i][j], deps[i][j]))\n",
        "\n",
        "        x = F.dropout(x, DROPOUT)\n",
        "        res = self.fc(output)\n",
        "        res = res.permute(0,2,1)\n",
        "        return res "
      ]
    },
    {
      "cell_type": "markdown",
      "metadata": {
        "id": "53u8_wYK0g37"
      },
      "source": [
        "**Intent classification encoder**"
      ]
    },
    {
      "cell_type": "code",
      "execution_count": null,
      "metadata": {
        "id": "nbu2lYXBnZ17"
      },
      "outputs": [],
      "source": [
        "class intent_enc(nn.Module):\n",
        "    def __init__(self, embedding_size, lstm_hidden_size, vocab_size):\n",
        "        super(intent_enc, self).__init__()\n",
        "\t\t\n",
        "        self.embedding = nn.Embedding(vocab_size, embedding_size, padding_idx=PAD_TOKEN).to(device)\n",
        "        # self.embedding.weight.data.uniform_(-1.0, 1.0)\n",
        "        self.lstm = nn.LSTM(input_size=embedding_size, hidden_size= lstm_hidden_size, num_layers=2,\\\n",
        "                            bidirectional= True, batch_first=True, dropout=DROPOUT)\n",
        "    \n",
        "    def forward(self, x):\n",
        "        x = self.embedding(x)\n",
        "        x = F.dropout(x, DROPOUT)\n",
        "        x, _ = self.lstm(x)\n",
        "        x = F.dropout(x, DROPOUT)\n",
        "        return x"
      ]
    },
    {
      "cell_type": "markdown",
      "metadata": {
        "id": "tBQV7Alr0lvG"
      },
      "source": [
        "**Intent classification decoder**"
      ]
    },
    {
      "cell_type": "code",
      "execution_count": null,
      "metadata": {
        "id": "kjBvXFRDnclq"
      },
      "outputs": [],
      "source": [
        "class intent_dec(nn.Module):\n",
        "    def __init__(self, lstm_hidden_size, label_size):\n",
        "        super(intent_dec, self).__init__()\n",
        "        self.lstm = nn.LSTM(input_size=lstm_hidden_size*4, hidden_size=lstm_hidden_size, batch_first=True, num_layers=2, dropout = DROPOUT)\n",
        "        self.fc = nn.Linear(lstm_hidden_size, label_size)\n",
        "        \n",
        "    def forward(self, x, hs, real_len):\n",
        "        batch = x.size()[0]\n",
        "        real_len = real_len.to(device)\n",
        "        x = torch.cat((x, hs), dim=-1)\n",
        "        x = F.dropout(x, DROPOUT)\n",
        "        x, _ = self.lstm(x)\n",
        "        x = F.dropout(x, DROPOUT)\n",
        "\n",
        "        index = torch.arange(batch).long().to(device)\n",
        "        state = x[index, real_len-1, :]\n",
        "        \n",
        "        res = self.fc(state.squeeze())\n",
        "        return res"
      ]
    },
    {
      "cell_type": "markdown",
      "metadata": {
        "id": "vJECoSq70oLu"
      },
      "source": [
        "**Whole intent classification model**"
      ]
    },
    {
      "cell_type": "code",
      "execution_count": null,
      "metadata": {
        "id": "vnDM5kegnfeE"
      },
      "outputs": [],
      "source": [
        "class Intent(nn.Module):\n",
        "    def __init__(self, embedding_size, lstm_hidden_size, batch, max_len, label_size, vocab_len):\n",
        "        super(Intent, self).__init__()\n",
        "        self.label_size = label_size\n",
        "        self.enc = intent_enc(embedding_size, lstm_hidden_size, vocab_len).to(device)\n",
        "        self.dec = intent_dec(lstm_hidden_size, label_size).to(device)\n",
        "        self.share_memory = torch.zeros(batch, max_len, lstm_hidden_size * 2).to(device)"
      ]
    },
    {
      "cell_type": "markdown",
      "metadata": {
        "id": "UU6M1BQ30s6_"
      },
      "source": [
        "**Whole slot filling model**"
      ]
    },
    {
      "cell_type": "code",
      "execution_count": null,
      "metadata": {
        "id": "JiIxIAETnKEZ"
      },
      "outputs": [],
      "source": [
        "class Slot(nn.Module):\n",
        "    def __init__(self, embedding_size, lstm_hidden_size, batch, max_len, label_size, vocab_len):\n",
        "        super(Slot, self).__init__()\n",
        "        self.label_size = label_size\n",
        "        self.enc = slot_enc(embedding_size, lstm_hidden_size, vocab_len).to(device)\n",
        "        self.dec = slot_dec(lstm_hidden_size, label_size).to(device)\n",
        "        self.share_memory = torch.zeros(batch, max_len, lstm_hidden_size * 2).to(device)"
      ]
    },
    {
      "cell_type": "markdown",
      "metadata": {
        "id": "Tf3wrioJ0vzZ"
      },
      "source": [
        "### Training"
      ]
    },
    {
      "cell_type": "code",
      "execution_count": null,
      "metadata": {
        "id": "zI3WydL6xiqN"
      },
      "outputs": [],
      "source": [
        "def train_BI_model(dev_loader, train_loader, test_loader, model_slots, model_intents, lang, criterion_slots, criterion_intents, optimizer_slots, optimizer_intents):\n",
        "    from tqdm import tqdm\n",
        "    n_epochs = 300\n",
        "    patience_f1 = 5\n",
        "    patience_acc = 5\n",
        "    intent_losses_train = []\n",
        "    slot_losses_train = []\n",
        "    intent_losses_dev = []\n",
        "    slot_losses_dev = []\n",
        "    sampled_epochs = []\n",
        "    best_f1 = 0\n",
        "    best_acc = 0\n",
        "    for x in tqdm(range(1,n_epochs)):\n",
        "        intent_loss_array, slot_loss_array = train_loop(train_loader, optimizer_slots, optimizer_intents, criterion_slots, \n",
        "                        criterion_intents, model_slots, model_intents)\n",
        "        if x % 5 == 0:\n",
        "          sampled_epochs.append(x)\n",
        "          intent_losses_train.append(np.asarray(intent_loss_array).mean())\n",
        "          slot_losses_train.append(np.asarray(slot_loss_array).mean())\n",
        "\n",
        "          results_dev, intent_res, loss_intent, loss_slot, _, _ = eval_loop(dev_loader, criterion_slots, \n",
        "                                                      criterion_intents, model_slots, model_intents, lang)\n",
        "          intent_losses_dev.append(np.asarray(loss_intent).mean())\n",
        "          slot_losses_dev.append(np.asarray(loss_slot).mean())\n",
        "\n",
        "          if results_dev != None:\n",
        "            f1 = results_dev['total']['f-measure']\n",
        "            acc = intent_res['accuracy']\n",
        "          \n",
        "            if f1 >= best_f1:\n",
        "              patience_f1 += 1 if patience_f1 < 5 else 0\n",
        "              best_f1 = f1\n",
        "            else:\n",
        "              patience_f1 -= 1\n",
        "            if acc >= best_acc:\n",
        "              patience_acc += 1 if patience_acc < 5 else 0\n",
        "              best_acc = acc\n",
        "            else:\n",
        "              patience_acc -= 1\n",
        "\n",
        "            if patience_f1 <= 0  and patience_acc <= 0: # Early stoping with patience\n",
        "                break # Not nice but it keeps the code clean\n",
        "\n",
        "    results_test, intent_test, _, _, cm_slot, cm_intent = eval_loop(test_loader, criterion_slots, \n",
        "                                            criterion_intents, model_slots, model_intents, lang)\n",
        "    return results_test, intent_test, sampled_epochs, intent_losses_train,slot_losses_train, intent_losses_dev, slot_losses_dev, cm_slot, cm_intent\n",
        "    "
      ]
    },
    {
      "cell_type": "code",
      "execution_count": null,
      "metadata": {
        "id": "mDEd-Tb_6OxN"
      },
      "outputs": [],
      "source": [
        "max_len = 50\n",
        "batch = 64\n",
        "learning_rate_slot = 0.00015\n",
        "learning_rate_intent = 0.0001\n",
        "DROPOUT = 0.2 # 0.2, 0.3, 0.4\n",
        "\n",
        "\n",
        "hid_size = 200\n",
        "emb_size = 300\n",
        "\n",
        "criterion_slots = nn.CrossEntropyLoss(ignore_index=PAD_TOKEN)\n",
        "criterion_intents = nn.CrossEntropyLoss() # Because we do not have the pad token"
      ]
    },
    {
      "cell_type": "code",
      "execution_count": null,
      "metadata": {
        "id": "KRi3ULWM59VO"
      },
      "outputs": [],
      "source": [
        "slot_model_ATIS = Slot(emb_size,hid_size, batch, max_len, out_slot_ATIS, vocab_len_ATIS).to(device)\n",
        "intent_model_ATIS = Intent(emb_size,hid_size, batch, max_len, out_int_ATIS, vocab_len_ATIS).to(device)\n",
        "\n",
        "slot_model_ATIS.apply(init_weights)\n",
        "intent_model_ATIS.apply(init_weights)\n",
        "\n",
        "slot_optimizer_ATIS = optim.Adam(slot_model_ATIS.parameters(), lr=learning_rate_slot)\n",
        "intent_optimizer_ATIS = optim.Adam(intent_model_ATIS.parameters(), lr=learning_rate_intent)"
      ]
    },
    {
      "cell_type": "code",
      "execution_count": null,
      "metadata": {
        "id": "0cZO88AhwiIB"
      },
      "outputs": [],
      "source": [
        "slot_model_SNIPS = Slot(emb_size,hid_size, batch, max_len, out_slot_SNIPS, vocab_len_SNIPS).to(device)\n",
        "intent_model_SNIPS = Intent(emb_size,hid_size, batch, max_len, out_int_SNIPS, vocab_len_SNIPS).to(device)\n",
        "\n",
        "slot_model_SNIPS.apply(init_weights)\n",
        "intent_model_SNIPS.apply(init_weights)\n",
        "\n",
        "slot_optimizer_SNIPS = optim.Adam(slot_model_SNIPS.parameters(), lr=learning_rate_slot)\n",
        "intent_optimizer_SNIPS = optim.Adam(intent_model_SNIPS.parameters(), lr=learning_rate_intent)"
      ]
    },
    {
      "cell_type": "code",
      "execution_count": null,
      "metadata": {
        "id": "uRkXg_GuuTvW"
      },
      "outputs": [],
      "source": [
        "cm_slot_ATIS, cm_intent_ATIS = initialize_confusion_matrices(lang_ATIS)\n",
        "cm_slot_SNIPS, cm_intent_SNIPS = initialize_confusion_matrices(lang_SNIPS)"
      ]
    },
    {
      "cell_type": "markdown",
      "metadata": {
        "id": "vt0gcJnF03b2"
      },
      "source": [
        "#### Atis training"
      ]
    },
    {
      "cell_type": "code",
      "execution_count": null,
      "metadata": {
        "colab": {
          "base_uri": "https://localhost:8080/"
        },
        "id": "7Vq-yOS1a-s0",
        "outputId": "b4294f3e-3eb7-462f-b886-0eb61b950d5a"
      },
      "outputs": [
        {
          "name": "stderr",
          "output_type": "stream",
          "text": [
            "  3%|▎         | 5/199 [01:35<1:01:23, 18.98s/it]"
          ]
        },
        {
          "name": "stdout",
          "output_type": "stream",
          "text": [
            "f1: 0\n",
            "accuracy: 0.7370184254606366\n"
          ]
        },
        {
          "name": "stderr",
          "output_type": "stream",
          "text": [
            "  5%|▌         | 10/199 [03:07<58:32, 18.59s/it]"
          ]
        },
        {
          "name": "stdout",
          "output_type": "stream",
          "text": [
            "f1: 0\n",
            "accuracy: 0.8425460636515912\n"
          ]
        },
        {
          "name": "stderr",
          "output_type": "stream",
          "text": [
            "  8%|▊         | 15/199 [04:39<57:05, 18.62s/it]"
          ]
        },
        {
          "name": "stdout",
          "output_type": "stream",
          "text": [
            "f1: 0.11820534943917171\n",
            "accuracy: 0.8743718592964824\n"
          ]
        },
        {
          "name": "stderr",
          "output_type": "stream",
          "text": [
            " 10%|█         | 20/199 [06:12<56:06, 18.81s/it]"
          ]
        },
        {
          "name": "stdout",
          "output_type": "stream",
          "text": [
            "f1: 0.3924993578217313\n",
            "accuracy: 0.88107202680067\n"
          ]
        },
        {
          "name": "stderr",
          "output_type": "stream",
          "text": [
            " 13%|█▎        | 25/199 [07:45<54:20, 18.74s/it]"
          ]
        },
        {
          "name": "stdout",
          "output_type": "stream",
          "text": [
            "f1: 0.4000000000000001\n",
            "accuracy: 0.914572864321608\n"
          ]
        },
        {
          "name": "stderr",
          "output_type": "stream",
          "text": [
            " 15%|█▌        | 30/199 [09:17<52:59, 18.81s/it]"
          ]
        },
        {
          "name": "stdout",
          "output_type": "stream",
          "text": [
            "f1: 0.4856567689984902\n",
            "accuracy: 0.9262981574539364\n"
          ]
        },
        {
          "name": "stderr",
          "output_type": "stream",
          "text": [
            " 18%|█▊        | 35/199 [10:51<51:38, 18.89s/it]"
          ]
        },
        {
          "name": "stdout",
          "output_type": "stream",
          "text": [
            "f1: 0.538558786346397\n",
            "accuracy: 0.9463986599664992\n"
          ]
        },
        {
          "name": "stderr",
          "output_type": "stream",
          "text": [
            " 20%|██        | 40/199 [12:24<50:09, 18.93s/it]"
          ]
        },
        {
          "name": "stdout",
          "output_type": "stream",
          "text": [
            "f1: 0.6112224448897796\n",
            "accuracy: 0.9514237855946399\n"
          ]
        },
        {
          "name": "stderr",
          "output_type": "stream",
          "text": [
            " 23%|██▎       | 45/199 [13:57<48:19, 18.83s/it]"
          ]
        },
        {
          "name": "stdout",
          "output_type": "stream",
          "text": [
            "f1: 0.6465603190428715\n",
            "accuracy: 0.9547738693467337\n"
          ]
        },
        {
          "name": "stderr",
          "output_type": "stream",
          "text": [
            " 25%|██▌       | 50/199 [15:29<46:27, 18.71s/it]"
          ]
        },
        {
          "name": "stdout",
          "output_type": "stream",
          "text": [
            "f1: 0.6847070506454817\n",
            "accuracy: 0.9597989949748744\n"
          ]
        },
        {
          "name": "stderr",
          "output_type": "stream",
          "text": [
            " 28%|██▊       | 55/199 [17:01<45:01, 18.76s/it]"
          ]
        },
        {
          "name": "stdout",
          "output_type": "stream",
          "text": [
            "f1: 0.7028360049321825\n",
            "accuracy: 0.9581239530988275\n"
          ]
        },
        {
          "name": "stderr",
          "output_type": "stream",
          "text": [
            " 30%|███       | 60/199 [18:32<42:47, 18.47s/it]"
          ]
        },
        {
          "name": "stdout",
          "output_type": "stream",
          "text": [
            "f1: 0.7313947757516017\n",
            "accuracy: 0.9530988274706867\n"
          ]
        },
        {
          "name": "stderr",
          "output_type": "stream",
          "text": [
            " 33%|███▎      | 65/199 [20:05<41:22, 18.52s/it]"
          ]
        },
        {
          "name": "stdout",
          "output_type": "stream",
          "text": [
            "f1: 0.7522255192878339\n",
            "accuracy: 0.9597989949748744\n"
          ]
        },
        {
          "name": "stderr",
          "output_type": "stream",
          "text": [
            " 35%|███▌      | 70/199 [21:36<39:50, 18.53s/it]"
          ]
        },
        {
          "name": "stdout",
          "output_type": "stream",
          "text": [
            "f1: 0.7716691431401683\n",
            "accuracy: 0.9581239530988275\n"
          ]
        },
        {
          "name": "stderr",
          "output_type": "stream",
          "text": [
            " 38%|███▊      | 75/199 [23:09<38:43, 18.73s/it]"
          ]
        },
        {
          "name": "stdout",
          "output_type": "stream",
          "text": [
            "f1: 0.7938629052214797\n",
            "accuracy: 0.9631490787269682\n"
          ]
        },
        {
          "name": "stderr",
          "output_type": "stream",
          "text": [
            " 40%|████      | 80/199 [24:40<36:43, 18.52s/it]"
          ]
        },
        {
          "name": "stdout",
          "output_type": "stream",
          "text": [
            "f1: 0.8075974346324617\n",
            "accuracy: 0.9597989949748744\n"
          ]
        },
        {
          "name": "stderr",
          "output_type": "stream",
          "text": [
            " 43%|████▎     | 85/199 [26:13<35:32, 18.71s/it]"
          ]
        },
        {
          "name": "stdout",
          "output_type": "stream",
          "text": [
            "f1: 0.83308568598316\n",
            "accuracy: 0.9614740368509213\n"
          ]
        },
        {
          "name": "stderr",
          "output_type": "stream",
          "text": [
            " 45%|████▌     | 90/199 [27:46<34:04, 18.76s/it]"
          ]
        },
        {
          "name": "stdout",
          "output_type": "stream",
          "text": [
            "f1: 0.8619662363455809\n",
            "accuracy: 0.9681742043551089\n"
          ]
        },
        {
          "name": "stderr",
          "output_type": "stream",
          "text": [
            " 48%|████▊     | 95/199 [29:18<32:26, 18.72s/it]"
          ]
        },
        {
          "name": "stdout",
          "output_type": "stream",
          "text": [
            "f1: 0.8782306163021869\n",
            "accuracy: 0.9681742043551089\n"
          ]
        },
        {
          "name": "stderr",
          "output_type": "stream",
          "text": [
            " 50%|█████     | 100/199 [30:49<30:27, 18.46s/it]"
          ]
        },
        {
          "name": "stdout",
          "output_type": "stream",
          "text": [
            "f1: 0.8847398556136421\n",
            "accuracy: 0.9698492462311558\n"
          ]
        },
        {
          "name": "stderr",
          "output_type": "stream",
          "text": [
            " 53%|█████▎    | 105/199 [32:23<29:28, 18.82s/it]"
          ]
        },
        {
          "name": "stdout",
          "output_type": "stream",
          "text": [
            "f1: 0.8979591836734695\n",
            "accuracy: 0.9731993299832495\n"
          ]
        },
        {
          "name": "stderr",
          "output_type": "stream",
          "text": [
            " 55%|█████▌    | 110/199 [33:55<27:44, 18.70s/it]"
          ]
        },
        {
          "name": "stdout",
          "output_type": "stream",
          "text": [
            "f1: 0.9030815109343937\n",
            "accuracy: 0.9731993299832495\n"
          ]
        },
        {
          "name": "stderr",
          "output_type": "stream",
          "text": [
            " 58%|█████▊    | 115/199 [35:27<26:08, 18.67s/it]"
          ]
        },
        {
          "name": "stdout",
          "output_type": "stream",
          "text": [
            "f1: 0.9104477611940298\n",
            "accuracy: 0.9681742043551089\n"
          ]
        },
        {
          "name": "stderr",
          "output_type": "stream",
          "text": [
            " 60%|██████    | 120/199 [37:00<24:40, 18.74s/it]"
          ]
        },
        {
          "name": "stdout",
          "output_type": "stream",
          "text": [
            "f1: 0.9146128951954196\n",
            "accuracy: 0.9698492462311558\n"
          ]
        },
        {
          "name": "stderr",
          "output_type": "stream",
          "text": [
            " 63%|██████▎   | 125/199 [38:31<22:47, 18.48s/it]"
          ]
        },
        {
          "name": "stdout",
          "output_type": "stream",
          "text": [
            "f1: 0.9184079601990051\n",
            "accuracy: 0.9715242881072027\n"
          ]
        },
        {
          "name": "stderr",
          "output_type": "stream",
          "text": [
            " 65%|██████▌   | 130/199 [40:03<21:26, 18.64s/it]"
          ]
        },
        {
          "name": "stdout",
          "output_type": "stream",
          "text": [
            "f1: 0.9375936095856214\n",
            "accuracy: 0.9731993299832495\n"
          ]
        },
        {
          "name": "stderr",
          "output_type": "stream",
          "text": [
            " 68%|██████▊   | 135/199 [41:35<19:39, 18.43s/it]"
          ]
        },
        {
          "name": "stdout",
          "output_type": "stream",
          "text": [
            "f1: 0.9347609561752989\n",
            "accuracy: 0.9698492462311558\n"
          ]
        },
        {
          "name": "stderr",
          "output_type": "stream",
          "text": [
            " 70%|███████   | 140/199 [43:06<18:11, 18.51s/it]"
          ]
        },
        {
          "name": "stdout",
          "output_type": "stream",
          "text": [
            "f1: 0.9419386992275105\n",
            "accuracy: 0.9731993299832495\n"
          ]
        },
        {
          "name": "stderr",
          "output_type": "stream",
          "text": [
            " 73%|███████▎  | 145/199 [44:39<16:52, 18.74s/it]"
          ]
        },
        {
          "name": "stdout",
          "output_type": "stream",
          "text": [
            "f1: 0.9449838187702264\n",
            "accuracy: 0.964824120603015\n"
          ]
        },
        {
          "name": "stderr",
          "output_type": "stream",
          "text": [
            " 75%|███████▌  | 150/199 [46:10<15:09, 18.56s/it]"
          ]
        },
        {
          "name": "stdout",
          "output_type": "stream",
          "text": [
            "f1: 0.9523571963083063\n",
            "accuracy: 0.966499162479062\n"
          ]
        },
        {
          "name": "stderr",
          "output_type": "stream",
          "text": [
            " 78%|███████▊  | 155/199 [47:43<13:50, 18.87s/it]"
          ]
        },
        {
          "name": "stdout",
          "output_type": "stream",
          "text": [
            "f1: 0.9567824131901075\n",
            "accuracy: 0.9715242881072027\n"
          ]
        },
        {
          "name": "stderr",
          "output_type": "stream",
          "text": [
            " 80%|████████  | 160/199 [49:15<12:08, 18.67s/it]"
          ]
        },
        {
          "name": "stdout",
          "output_type": "stream",
          "text": [
            "f1: 0.9580209895052475\n",
            "accuracy: 0.9731993299832495\n"
          ]
        },
        {
          "name": "stderr",
          "output_type": "stream",
          "text": [
            " 83%|████████▎ | 165/199 [50:47<10:31, 18.57s/it]"
          ]
        },
        {
          "name": "stdout",
          "output_type": "stream",
          "text": [
            "f1: 0.9571072319201995\n",
            "accuracy: 0.9731993299832495\n"
          ]
        },
        {
          "name": "stderr",
          "output_type": "stream",
          "text": [
            " 85%|████████▌ | 170/199 [52:20<09:04, 18.76s/it]"
          ]
        },
        {
          "name": "stdout",
          "output_type": "stream",
          "text": [
            "f1: 0.9541147132169576\n",
            "accuracy: 0.9715242881072027\n"
          ]
        },
        {
          "name": "stderr",
          "output_type": "stream",
          "text": [
            " 88%|████████▊ | 175/199 [53:51<07:21, 18.40s/it]"
          ]
        },
        {
          "name": "stdout",
          "output_type": "stream",
          "text": [
            "f1: 0.9585\n",
            "accuracy: 0.9698492462311558\n"
          ]
        },
        {
          "name": "stderr",
          "output_type": "stream",
          "text": [
            " 90%|█████████ | 180/199 [55:23<05:53, 18.62s/it]"
          ]
        },
        {
          "name": "stdout",
          "output_type": "stream",
          "text": [
            "f1: 0.9587396849212303\n",
            "accuracy: 0.966499162479062\n"
          ]
        },
        {
          "name": "stderr",
          "output_type": "stream",
          "text": [
            " 93%|█████████▎| 185/199 [56:55<04:20, 18.64s/it]"
          ]
        },
        {
          "name": "stdout",
          "output_type": "stream",
          "text": [
            "f1: 0.9602400600150037\n",
            "accuracy: 0.966499162479062\n"
          ]
        },
        {
          "name": "stderr",
          "output_type": "stream",
          "text": [
            " 95%|█████████▌| 190/199 [58:26<02:46, 18.54s/it]"
          ]
        },
        {
          "name": "stdout",
          "output_type": "stream",
          "text": [
            "f1: 0.960759810047488\n",
            "accuracy: 0.9698492462311558\n"
          ]
        },
        {
          "name": "stderr",
          "output_type": "stream",
          "text": [
            " 98%|█████████▊| 195/199 [59:58<01:14, 18.65s/it]"
          ]
        },
        {
          "name": "stdout",
          "output_type": "stream",
          "text": [
            "f1: 0.9645177411294354\n",
            "accuracy: 0.9731993299832495\n"
          ]
        },
        {
          "name": "stderr",
          "output_type": "stream",
          "text": [
            "100%|██████████| 199/199 [1:01:10<00:00, 18.45s/it]\n"
          ]
        },
        {
          "name": "stdout",
          "output_type": "stream",
          "text": [
            "\n",
            "Slot F1:  0.93\n",
            "Intent Accuracy: 0.947\n"
          ]
        }
      ],
      "source": [
        "slot_model_ATIS.apply(init_weights)\n",
        "intent_model_ATIS.apply(init_weights)\n",
        "results_test_ATIS, intents_test_ATIS, sampled_epochs_ATIS, intent_losses_train_ATIS, slot_losses_train_ATIS, intent_losses_dev_ATIS, slot_losses_dev_ATIS, cm_slot_ATIS, cm_intent_ATIS = train_BI_model(dev_loader_ATIS,\n",
        "                                                                                                                                                                                                train_loader_ATIS, \n",
        "                                                                                                                                                                                                test_loader_ATIS, \n",
        "                                                                                                                                                                                                slot_model_ATIS,\n",
        "                                                                                                                                                                                                intent_model_ATIS,\n",
        "                                                                                                                                                                                                lang_ATIS, \n",
        "                                                                                                                                                                                                criterion_intents, \n",
        "                                                                                                                                                                                                criterion_slots, \n",
        "                                                                                                                                                                                                slot_optimizer_ATIS,\n",
        "                                                                                                                                                                                                intent_optimizer_ATIS)\n",
        "print('\\nSlot F1: ', round(results_test_ATIS['total']['f-measure'],3))\n",
        "print('Intent Accuracy:', round(intents_test_ATIS['accuracy'],3))"
      ]
    },
    {
      "cell_type": "code",
      "execution_count": null,
      "metadata": {
        "colab": {
          "base_uri": "https://localhost:8080/",
          "height": 411
        },
        "id": "7CBytWWPq6W1",
        "outputId": "9cbcf122-eeb0-4181-f23b-9f46ad1a5047"
      },
      "outputs": [
        {
          "data": {
            "text/html": [
              "\n",
              "  <div id=\"df-423ae4ae-2a75-4d59-b261-c28e81755d1c\">\n",
              "    <div class=\"colab-df-container\">\n",
              "      <div>\n",
              "<style scoped>\n",
              "    .dataframe tbody tr th:only-of-type {\n",
              "        vertical-align: middle;\n",
              "    }\n",
              "\n",
              "    .dataframe tbody tr th {\n",
              "        vertical-align: top;\n",
              "    }\n",
              "\n",
              "    .dataframe thead th {\n",
              "        text-align: right;\n",
              "    }\n",
              "</style>\n",
              "<table border=\"1\" class=\"dataframe\">\n",
              "  <thead>\n",
              "    <tr style=\"text-align: right;\">\n",
              "      <th></th>\n",
              "      <th>precision</th>\n",
              "      <th>recall</th>\n",
              "      <th>f-measure</th>\n",
              "      <th>support</th>\n",
              "    </tr>\n",
              "  </thead>\n",
              "  <tbody>\n",
              "    <tr>\n",
              "      <th>state_code</th>\n",
              "      <td>1.000</td>\n",
              "      <td>1.000</td>\n",
              "      <td>1.000</td>\n",
              "      <td>1</td>\n",
              "    </tr>\n",
              "    <tr>\n",
              "      <th>arrive_date.date_relative</th>\n",
              "      <td>1.000</td>\n",
              "      <td>1.000</td>\n",
              "      <td>1.000</td>\n",
              "      <td>2</td>\n",
              "    </tr>\n",
              "    <tr>\n",
              "      <th>stoploc.city_name</th>\n",
              "      <td>1.000</td>\n",
              "      <td>1.000</td>\n",
              "      <td>1.000</td>\n",
              "      <td>20</td>\n",
              "    </tr>\n",
              "    <tr>\n",
              "      <th>fromloc.state_code</th>\n",
              "      <td>1.000</td>\n",
              "      <td>1.000</td>\n",
              "      <td>1.000</td>\n",
              "      <td>23</td>\n",
              "    </tr>\n",
              "    <tr>\n",
              "      <th>fromloc.city_name</th>\n",
              "      <td>0.978</td>\n",
              "      <td>0.999</td>\n",
              "      <td>0.988</td>\n",
              "      <td>704</td>\n",
              "    </tr>\n",
              "    <tr>\n",
              "      <th>...</th>\n",
              "      <td>...</td>\n",
              "      <td>...</td>\n",
              "      <td>...</td>\n",
              "      <td>...</td>\n",
              "    </tr>\n",
              "    <tr>\n",
              "      <th>return_date.day_number</th>\n",
              "      <td>0.000</td>\n",
              "      <td>0.000</td>\n",
              "      <td>0.000</td>\n",
              "      <td>0</td>\n",
              "    </tr>\n",
              "    <tr>\n",
              "      <th>period_of_day</th>\n",
              "      <td>1.000</td>\n",
              "      <td>0.000</td>\n",
              "      <td>0.000</td>\n",
              "      <td>4</td>\n",
              "    </tr>\n",
              "    <tr>\n",
              "      <th>return_date.date_relative</th>\n",
              "      <td>0.000</td>\n",
              "      <td>0.000</td>\n",
              "      <td>0.000</td>\n",
              "      <td>3</td>\n",
              "    </tr>\n",
              "    <tr>\n",
              "      <th>stoploc.state_code</th>\n",
              "      <td>0.000</td>\n",
              "      <td>0.000</td>\n",
              "      <td>0.000</td>\n",
              "      <td>0</td>\n",
              "    </tr>\n",
              "    <tr>\n",
              "      <th>return_date.day_name</th>\n",
              "      <td>1.000</td>\n",
              "      <td>0.000</td>\n",
              "      <td>0.000</td>\n",
              "      <td>2</td>\n",
              "    </tr>\n",
              "  </tbody>\n",
              "</table>\n",
              "<p>73 rows × 4 columns</p>\n",
              "</div>\n",
              "      <button class=\"colab-df-convert\" onclick=\"convertToInteractive('df-423ae4ae-2a75-4d59-b261-c28e81755d1c')\"\n",
              "              title=\"Convert this dataframe to an interactive table.\"\n",
              "              style=\"display:none;\">\n",
              "        \n",
              "  <svg xmlns=\"http://www.w3.org/2000/svg\" height=\"24px\"viewBox=\"0 0 24 24\"\n",
              "       width=\"24px\">\n",
              "    <path d=\"M0 0h24v24H0V0z\" fill=\"none\"/>\n",
              "    <path d=\"M18.56 5.44l.94 2.06.94-2.06 2.06-.94-2.06-.94-.94-2.06-.94 2.06-2.06.94zm-11 1L8.5 8.5l.94-2.06 2.06-.94-2.06-.94L8.5 2.5l-.94 2.06-2.06.94zm10 10l.94 2.06.94-2.06 2.06-.94-2.06-.94-.94-2.06-.94 2.06-2.06.94z\"/><path d=\"M17.41 7.96l-1.37-1.37c-.4-.4-.92-.59-1.43-.59-.52 0-1.04.2-1.43.59L10.3 9.45l-7.72 7.72c-.78.78-.78 2.05 0 2.83L4 21.41c.39.39.9.59 1.41.59.51 0 1.02-.2 1.41-.59l7.78-7.78 2.81-2.81c.8-.78.8-2.07 0-2.86zM5.41 20L4 18.59l7.72-7.72 1.47 1.35L5.41 20z\"/>\n",
              "  </svg>\n",
              "      </button>\n",
              "      \n",
              "  <style>\n",
              "    .colab-df-container {\n",
              "      display:flex;\n",
              "      flex-wrap:wrap;\n",
              "      gap: 12px;\n",
              "    }\n",
              "\n",
              "    .colab-df-convert {\n",
              "      background-color: #E8F0FE;\n",
              "      border: none;\n",
              "      border-radius: 50%;\n",
              "      cursor: pointer;\n",
              "      display: none;\n",
              "      fill: #1967D2;\n",
              "      height: 32px;\n",
              "      padding: 0 0 0 0;\n",
              "      width: 32px;\n",
              "    }\n",
              "\n",
              "    .colab-df-convert:hover {\n",
              "      background-color: #E2EBFA;\n",
              "      box-shadow: 0px 1px 2px rgba(60, 64, 67, 0.3), 0px 1px 3px 1px rgba(60, 64, 67, 0.15);\n",
              "      fill: #174EA6;\n",
              "    }\n",
              "\n",
              "    [theme=dark] .colab-df-convert {\n",
              "      background-color: #3B4455;\n",
              "      fill: #D2E3FC;\n",
              "    }\n",
              "\n",
              "    [theme=dark] .colab-df-convert:hover {\n",
              "      background-color: #434B5C;\n",
              "      box-shadow: 0px 1px 3px 1px rgba(0, 0, 0, 0.15);\n",
              "      filter: drop-shadow(0px 1px 2px rgba(0, 0, 0, 0.3));\n",
              "      fill: #FFFFFF;\n",
              "    }\n",
              "  </style>\n",
              "\n",
              "      <script>\n",
              "        const buttonEl =\n",
              "          document.querySelector('#df-423ae4ae-2a75-4d59-b261-c28e81755d1c button.colab-df-convert');\n",
              "        buttonEl.style.display =\n",
              "          google.colab.kernel.accessAllowed ? 'block' : 'none';\n",
              "\n",
              "        async function convertToInteractive(key) {\n",
              "          const element = document.querySelector('#df-423ae4ae-2a75-4d59-b261-c28e81755d1c');\n",
              "          const dataTable =\n",
              "            await google.colab.kernel.invokeFunction('convertToInteractive',\n",
              "                                                     [key], {});\n",
              "          if (!dataTable) return;\n",
              "\n",
              "          const docLinkHtml = 'Like what you see? Visit the ' +\n",
              "            '<a target=\"_blank\" href=https://colab.research.google.com/notebooks/data_table.ipynb>data table notebook</a>'\n",
              "            + ' to learn more about interactive tables.';\n",
              "          element.innerHTML = '';\n",
              "          dataTable['output_type'] = 'display_data';\n",
              "          await google.colab.output.renderOutput(dataTable, element);\n",
              "          const docLink = document.createElement('div');\n",
              "          docLink.innerHTML = docLinkHtml;\n",
              "          element.appendChild(docLink);\n",
              "        }\n",
              "      </script>\n",
              "    </div>\n",
              "  </div>\n",
              "  "
            ],
            "text/plain": [
              "                           precision  recall  f-measure  support\n",
              "state_code                     1.000   1.000      1.000        1\n",
              "arrive_date.date_relative      1.000   1.000      1.000        2\n",
              "stoploc.city_name              1.000   1.000      1.000       20\n",
              "fromloc.state_code             1.000   1.000      1.000       23\n",
              "fromloc.city_name              0.978   0.999      0.988      704\n",
              "...                              ...     ...        ...      ...\n",
              "return_date.day_number         0.000   0.000      0.000        0\n",
              "period_of_day                  1.000   0.000      0.000        4\n",
              "return_date.date_relative      0.000   0.000      0.000        3\n",
              "stoploc.state_code             0.000   0.000      0.000        0\n",
              "return_date.day_name           1.000   0.000      0.000        2\n",
              "\n",
              "[73 rows x 4 columns]"
            ]
          },
          "execution_count": 78,
          "metadata": {},
          "output_type": "execute_result"
        }
      ],
      "source": [
        "pd_tbl = pd.DataFrame().from_dict({k: v for k, v in sorted(results_test_ATIS.items(), key=lambda x: x[1]['f-measure'], reverse = True)}, orient='index')\n",
        "pd_tbl.round(decimals=3)"
      ]
    },
    {
      "cell_type": "code",
      "execution_count": null,
      "metadata": {
        "colab": {
          "base_uri": "https://localhost:8080/",
          "height": 748
        },
        "id": "0ST-TE3Kq5lw",
        "outputId": "5106a30a-d75e-4649-a98d-be6eb43dfafd"
      },
      "outputs": [
        {
          "data": {
            "text/html": [
              "\n",
              "  <div id=\"df-5f60d06d-2637-40e1-928f-bce066c2bfc3\">\n",
              "    <div class=\"colab-df-container\">\n",
              "      <div>\n",
              "<style scoped>\n",
              "    .dataframe tbody tr th:only-of-type {\n",
              "        vertical-align: middle;\n",
              "    }\n",
              "\n",
              "    .dataframe tbody tr th {\n",
              "        vertical-align: top;\n",
              "    }\n",
              "\n",
              "    .dataframe thead th {\n",
              "        text-align: right;\n",
              "    }\n",
              "</style>\n",
              "<table border=\"1\" class=\"dataframe\">\n",
              "  <thead>\n",
              "    <tr style=\"text-align: right;\">\n",
              "      <th></th>\n",
              "      <th>precision</th>\n",
              "      <th>recall</th>\n",
              "      <th>f1-score</th>\n",
              "      <th>support</th>\n",
              "    </tr>\n",
              "  </thead>\n",
              "  <tbody>\n",
              "    <tr>\n",
              "      <th>flight_time</th>\n",
              "      <td>1.000</td>\n",
              "      <td>1.000</td>\n",
              "      <td>1.000</td>\n",
              "      <td>1</td>\n",
              "    </tr>\n",
              "    <tr>\n",
              "      <th>abbreviation</th>\n",
              "      <td>1.000</td>\n",
              "      <td>0.970</td>\n",
              "      <td>0.985</td>\n",
              "      <td>33</td>\n",
              "    </tr>\n",
              "    <tr>\n",
              "      <th>flight</th>\n",
              "      <td>0.972</td>\n",
              "      <td>0.987</td>\n",
              "      <td>0.980</td>\n",
              "      <td>632</td>\n",
              "    </tr>\n",
              "    <tr>\n",
              "      <th>ground_service</th>\n",
              "      <td>0.972</td>\n",
              "      <td>0.972</td>\n",
              "      <td>0.972</td>\n",
              "      <td>36</td>\n",
              "    </tr>\n",
              "    <tr>\n",
              "      <th>airfare</th>\n",
              "      <td>0.923</td>\n",
              "      <td>1.000</td>\n",
              "      <td>0.960</td>\n",
              "      <td>48</td>\n",
              "    </tr>\n",
              "    <tr>\n",
              "      <th>airline</th>\n",
              "      <td>0.905</td>\n",
              "      <td>1.000</td>\n",
              "      <td>0.950</td>\n",
              "      <td>38</td>\n",
              "    </tr>\n",
              "    <tr>\n",
              "      <th>weighted avg</th>\n",
              "      <td>0.939</td>\n",
              "      <td>0.947</td>\n",
              "      <td>0.941</td>\n",
              "      <td>893</td>\n",
              "    </tr>\n",
              "    <tr>\n",
              "      <th>capacity</th>\n",
              "      <td>0.947</td>\n",
              "      <td>0.857</td>\n",
              "      <td>0.900</td>\n",
              "      <td>21</td>\n",
              "    </tr>\n",
              "    <tr>\n",
              "      <th>distance</th>\n",
              "      <td>1.000</td>\n",
              "      <td>0.800</td>\n",
              "      <td>0.889</td>\n",
              "      <td>10</td>\n",
              "    </tr>\n",
              "    <tr>\n",
              "      <th>airport</th>\n",
              "      <td>0.889</td>\n",
              "      <td>0.889</td>\n",
              "      <td>0.889</td>\n",
              "      <td>18</td>\n",
              "    </tr>\n",
              "    <tr>\n",
              "      <th>ground_fare</th>\n",
              "      <td>1.000</td>\n",
              "      <td>0.714</td>\n",
              "      <td>0.833</td>\n",
              "      <td>7</td>\n",
              "    </tr>\n",
              "    <tr>\n",
              "      <th>flight_no</th>\n",
              "      <td>0.750</td>\n",
              "      <td>0.750</td>\n",
              "      <td>0.750</td>\n",
              "      <td>8</td>\n",
              "    </tr>\n",
              "    <tr>\n",
              "      <th>aircraft</th>\n",
              "      <td>0.600</td>\n",
              "      <td>0.667</td>\n",
              "      <td>0.632</td>\n",
              "      <td>9</td>\n",
              "    </tr>\n",
              "    <tr>\n",
              "      <th>macro avg</th>\n",
              "      <td>0.589</td>\n",
              "      <td>0.580</td>\n",
              "      <td>0.571</td>\n",
              "      <td>893</td>\n",
              "    </tr>\n",
              "    <tr>\n",
              "      <th>flight+airfare</th>\n",
              "      <td>0.833</td>\n",
              "      <td>0.417</td>\n",
              "      <td>0.556</td>\n",
              "      <td>12</td>\n",
              "    </tr>\n",
              "    <tr>\n",
              "      <th>quantity</th>\n",
              "      <td>0.333</td>\n",
              "      <td>1.000</td>\n",
              "      <td>0.500</td>\n",
              "      <td>3</td>\n",
              "    </tr>\n",
              "    <tr>\n",
              "      <th>city</th>\n",
              "      <td>0.250</td>\n",
              "      <td>0.167</td>\n",
              "      <td>0.200</td>\n",
              "      <td>6</td>\n",
              "    </tr>\n",
              "    <tr>\n",
              "      <th>airfare+flight</th>\n",
              "      <td>0.000</td>\n",
              "      <td>0.000</td>\n",
              "      <td>0.000</td>\n",
              "      <td>1</td>\n",
              "    </tr>\n",
              "    <tr>\n",
              "      <th>airline+flight_no</th>\n",
              "      <td>0.000</td>\n",
              "      <td>0.000</td>\n",
              "      <td>0.000</td>\n",
              "      <td>0</td>\n",
              "    </tr>\n",
              "    <tr>\n",
              "      <th>day_name</th>\n",
              "      <td>0.000</td>\n",
              "      <td>0.000</td>\n",
              "      <td>0.000</td>\n",
              "      <td>2</td>\n",
              "    </tr>\n",
              "    <tr>\n",
              "      <th>flight+airline</th>\n",
              "      <td>0.000</td>\n",
              "      <td>0.000</td>\n",
              "      <td>0.000</td>\n",
              "      <td>1</td>\n",
              "    </tr>\n",
              "    <tr>\n",
              "      <th>flight_no+airline</th>\n",
              "      <td>0.000</td>\n",
              "      <td>0.000</td>\n",
              "      <td>0.000</td>\n",
              "      <td>1</td>\n",
              "    </tr>\n",
              "    <tr>\n",
              "      <th>meal</th>\n",
              "      <td>0.000</td>\n",
              "      <td>0.000</td>\n",
              "      <td>0.000</td>\n",
              "      <td>6</td>\n",
              "    </tr>\n",
              "  </tbody>\n",
              "</table>\n",
              "</div>\n",
              "      <button class=\"colab-df-convert\" onclick=\"convertToInteractive('df-5f60d06d-2637-40e1-928f-bce066c2bfc3')\"\n",
              "              title=\"Convert this dataframe to an interactive table.\"\n",
              "              style=\"display:none;\">\n",
              "        \n",
              "  <svg xmlns=\"http://www.w3.org/2000/svg\" height=\"24px\"viewBox=\"0 0 24 24\"\n",
              "       width=\"24px\">\n",
              "    <path d=\"M0 0h24v24H0V0z\" fill=\"none\"/>\n",
              "    <path d=\"M18.56 5.44l.94 2.06.94-2.06 2.06-.94-2.06-.94-.94-2.06-.94 2.06-2.06.94zm-11 1L8.5 8.5l.94-2.06 2.06-.94-2.06-.94L8.5 2.5l-.94 2.06-2.06.94zm10 10l.94 2.06.94-2.06 2.06-.94-2.06-.94-.94-2.06-.94 2.06-2.06.94z\"/><path d=\"M17.41 7.96l-1.37-1.37c-.4-.4-.92-.59-1.43-.59-.52 0-1.04.2-1.43.59L10.3 9.45l-7.72 7.72c-.78.78-.78 2.05 0 2.83L4 21.41c.39.39.9.59 1.41.59.51 0 1.02-.2 1.41-.59l7.78-7.78 2.81-2.81c.8-.78.8-2.07 0-2.86zM5.41 20L4 18.59l7.72-7.72 1.47 1.35L5.41 20z\"/>\n",
              "  </svg>\n",
              "      </button>\n",
              "      \n",
              "  <style>\n",
              "    .colab-df-container {\n",
              "      display:flex;\n",
              "      flex-wrap:wrap;\n",
              "      gap: 12px;\n",
              "    }\n",
              "\n",
              "    .colab-df-convert {\n",
              "      background-color: #E8F0FE;\n",
              "      border: none;\n",
              "      border-radius: 50%;\n",
              "      cursor: pointer;\n",
              "      display: none;\n",
              "      fill: #1967D2;\n",
              "      height: 32px;\n",
              "      padding: 0 0 0 0;\n",
              "      width: 32px;\n",
              "    }\n",
              "\n",
              "    .colab-df-convert:hover {\n",
              "      background-color: #E2EBFA;\n",
              "      box-shadow: 0px 1px 2px rgba(60, 64, 67, 0.3), 0px 1px 3px 1px rgba(60, 64, 67, 0.15);\n",
              "      fill: #174EA6;\n",
              "    }\n",
              "\n",
              "    [theme=dark] .colab-df-convert {\n",
              "      background-color: #3B4455;\n",
              "      fill: #D2E3FC;\n",
              "    }\n",
              "\n",
              "    [theme=dark] .colab-df-convert:hover {\n",
              "      background-color: #434B5C;\n",
              "      box-shadow: 0px 1px 3px 1px rgba(0, 0, 0, 0.15);\n",
              "      filter: drop-shadow(0px 1px 2px rgba(0, 0, 0, 0.3));\n",
              "      fill: #FFFFFF;\n",
              "    }\n",
              "  </style>\n",
              "\n",
              "      <script>\n",
              "        const buttonEl =\n",
              "          document.querySelector('#df-5f60d06d-2637-40e1-928f-bce066c2bfc3 button.colab-df-convert');\n",
              "        buttonEl.style.display =\n",
              "          google.colab.kernel.accessAllowed ? 'block' : 'none';\n",
              "\n",
              "        async function convertToInteractive(key) {\n",
              "          const element = document.querySelector('#df-5f60d06d-2637-40e1-928f-bce066c2bfc3');\n",
              "          const dataTable =\n",
              "            await google.colab.kernel.invokeFunction('convertToInteractive',\n",
              "                                                     [key], {});\n",
              "          if (!dataTable) return;\n",
              "\n",
              "          const docLinkHtml = 'Like what you see? Visit the ' +\n",
              "            '<a target=\"_blank\" href=https://colab.research.google.com/notebooks/data_table.ipynb>data table notebook</a>'\n",
              "            + ' to learn more about interactive tables.';\n",
              "          element.innerHTML = '';\n",
              "          dataTable['output_type'] = 'display_data';\n",
              "          await google.colab.output.renderOutput(dataTable, element);\n",
              "          const docLink = document.createElement('div');\n",
              "          docLink.innerHTML = docLinkHtml;\n",
              "          element.appendChild(docLink);\n",
              "        }\n",
              "      </script>\n",
              "    </div>\n",
              "  </div>\n",
              "  "
            ],
            "text/plain": [
              "                   precision  recall  f1-score  support\n",
              "flight_time            1.000   1.000     1.000        1\n",
              "abbreviation           1.000   0.970     0.985       33\n",
              "flight                 0.972   0.987     0.980      632\n",
              "ground_service         0.972   0.972     0.972       36\n",
              "airfare                0.923   1.000     0.960       48\n",
              "airline                0.905   1.000     0.950       38\n",
              "weighted avg           0.939   0.947     0.941      893\n",
              "capacity               0.947   0.857     0.900       21\n",
              "distance               1.000   0.800     0.889       10\n",
              "airport                0.889   0.889     0.889       18\n",
              "ground_fare            1.000   0.714     0.833        7\n",
              "flight_no              0.750   0.750     0.750        8\n",
              "aircraft               0.600   0.667     0.632        9\n",
              "macro avg              0.589   0.580     0.571      893\n",
              "flight+airfare         0.833   0.417     0.556       12\n",
              "quantity               0.333   1.000     0.500        3\n",
              "city                   0.250   0.167     0.200        6\n",
              "airfare+flight         0.000   0.000     0.000        1\n",
              "airline+flight_no      0.000   0.000     0.000        0\n",
              "day_name               0.000   0.000     0.000        2\n",
              "flight+airline         0.000   0.000     0.000        1\n",
              "flight_no+airline      0.000   0.000     0.000        1\n",
              "meal                   0.000   0.000     0.000        6"
            ]
          },
          "execution_count": 79,
          "metadata": {},
          "output_type": "execute_result"
        }
      ],
      "source": [
        "intents_test_ATIS.pop('accuracy')\n",
        "pd_tbl = pd.DataFrame().from_dict({k: v for k, v in sorted(intents_test_ATIS.items(), key=lambda x: x[1]['f1-score'], reverse = True)}, orient='index')\n",
        "pd_tbl.round(decimals=3)"
      ]
    },
    {
      "cell_type": "code",
      "execution_count": null,
      "metadata": {
        "colab": {
          "base_uri": "https://localhost:8080/",
          "height": 349
        },
        "id": "qwFCoopkBc58",
        "outputId": "4faf99b1-5a63-4ea5-85ea-2fbed942c70e"
      },
      "outputs": [
        {
          "data": {
            "image/png": "[encoded data removed]",
            "text/plain": [
              "<Figure size 576x360 with 1 Axes>"
            ]
          },
          "metadata": {},
          "output_type": "display_data"
        }
      ],
      "source": [
        "plt.figure(num = 3, figsize=(8, 5)).patch.set_facecolor('white')\n",
        "plt.title('Train and Dev Losses intent task ATIS dataset')\n",
        "plt.ylabel('Loss')\n",
        "plt.xlabel('Epochs')\n",
        "plt.plot(sampled_epochs_ATIS, intent_losses_train_ATIS, label='Train loss')\n",
        "plt.plot(sampled_epochs_ATIS, intent_losses_dev_ATIS, label='Dev loss')\n",
        "plt.legend()\n",
        "plt.show()"
      ]
    },
    {
      "cell_type": "code",
      "execution_count": null,
      "metadata": {
        "colab": {
          "base_uri": "https://localhost:8080/",
          "height": 349
        },
        "id": "2rORIliXBc58",
        "outputId": "c10fc9ac-6b1b-42a9-a5ff-02cdffbf002c"
      },
      "outputs": [
        {
          "data": {
            "image/png": "[encoded data removed]",
            "text/plain": [
              "<Figure size 576x360 with 1 Axes>"
            ]
          },
          "metadata": {},
          "output_type": "display_data"
        }
      ],
      "source": [
        "plt.figure(num = 3, figsize=(8, 5)).patch.set_facecolor('white')\n",
        "plt.title('Train and Dev Losses slot task ATIS dataset')\n",
        "plt.ylabel('Loss')\n",
        "plt.xlabel('Epochs')\n",
        "plt.plot(sampled_epochs_ATIS, slot_losses_train_ATIS, label='Train loss')\n",
        "plt.plot(sampled_epochs_ATIS, slot_losses_dev_ATIS, label='Dev loss')\n",
        "plt.legend()\n",
        "plt.show()"
      ]
    },
    {
      "cell_type": "code",
      "execution_count": null,
      "metadata": {
        "colab": {
          "base_uri": "https://localhost:8080/",
          "height": 607
        },
        "id": "YQLu8h_yvDrR",
        "outputId": "2909ce5e-d3d6-4262-c47f-4bb3c92652aa"
      },
      "outputs": [
        {
          "data": {
            "text/plain": [
              "<matplotlib.image.AxesImage at 0x7f1fe8266d90>"
            ]
          },
          "execution_count": 82,
          "metadata": {},
          "output_type": "execute_result"
        },
        {
          "data": {
            "image/png": "[encoded data removed]",
            "text/plain": [
              "<Figure size 720x720 with 1 Axes>"
            ]
          },
          "metadata": {
            "needs_background": "light"
          },
          "output_type": "display_data"
        }
      ],
      "source": [
        "mp.pyplot.figure(figsize = (10,10))\n",
        "mp.pyplot.imshow(cm_intent_ATIS, norm = mp.colors.Normalize(vmin = 0, vmax = 255))"
      ]
    },
    {
      "cell_type": "code",
      "execution_count": null,
      "metadata": {
        "colab": {
          "base_uri": "https://localhost:8080/",
          "height": 608
        },
        "id": "0LAokWEhvKlQ",
        "outputId": "3a453f04-3e9a-4eff-c7a8-357182e3af82"
      },
      "outputs": [
        {
          "data": {
            "text/plain": [
              "<matplotlib.image.AxesImage at 0x7f1fe840f810>"
            ]
          },
          "execution_count": 83,
          "metadata": {},
          "output_type": "execute_result"
        },
        {
          "data": {
            "image/png": "[encoded data removed]",
            "text/plain": [
              "<Figure size 720x720 with 1 Axes>"
            ]
          },
          "metadata": {
            "needs_background": "light"
          },
          "output_type": "display_data"
        }
      ],
      "source": [
        "mp.pyplot.figure(figsize = (10,10))\n",
        "mp.pyplot.imshow(cm_slot_ATIS, norm = mp.colors.Normalize(vmin = 0, vmax = 255))"
      ]
    },
    {
      "cell_type": "markdown",
      "metadata": {
        "id": "FN-Q720107mk"
      },
      "source": [
        "####Snips training"
      ]
    },
    {
      "cell_type": "code",
      "execution_count": null,
      "metadata": {
        "colab": {
          "base_uri": "https://localhost:8080/"
        },
        "id": "jnsAk19pkr11",
        "outputId": "ca495ce9-4fd1-4433-aefc-522058b8e1ce"
      },
      "outputs": [
        {
          "name": "stderr",
          "output_type": "stream",
          "text": [
            "  2%|▏         | 5/299 [03:06<3:02:38, 37.27s/it]"
          ]
        },
        {
          "name": "stdout",
          "output_type": "stream",
          "text": [
            "f1: 0\n",
            "accuracy: 0.8228571428571428\n"
          ]
        },
        {
          "name": "stderr",
          "output_type": "stream",
          "text": [
            "  3%|▎         | 10/299 [06:10<2:59:02, 37.17s/it]"
          ]
        },
        {
          "name": "stdout",
          "output_type": "stream",
          "text": [
            "f1: 0.06962380685008422\n",
            "accuracy: 0.8257142857142857\n"
          ]
        },
        {
          "name": "stderr",
          "output_type": "stream",
          "text": [
            "  5%|▌         | 15/299 [09:16<2:56:33, 37.30s/it]"
          ]
        },
        {
          "name": "stdout",
          "output_type": "stream",
          "text": [
            "f1: 0.4004075394803872\n",
            "accuracy: 0.8357142857142857\n"
          ]
        },
        {
          "name": "stderr",
          "output_type": "stream",
          "text": [
            "  7%|▋         | 20/299 [12:22<2:53:30, 37.31s/it]"
          ]
        },
        {
          "name": "stdout",
          "output_type": "stream",
          "text": [
            "f1: 0.5696689761354887\n",
            "accuracy: 0.8314285714285714\n"
          ]
        },
        {
          "name": "stderr",
          "output_type": "stream",
          "text": [
            "  8%|▊         | 25/299 [15:28<2:50:19, 37.30s/it]"
          ]
        },
        {
          "name": "stdout",
          "output_type": "stream",
          "text": [
            "f1: 0.658148631029987\n",
            "accuracy: 0.8371428571428572\n"
          ]
        },
        {
          "name": "stderr",
          "output_type": "stream",
          "text": [
            " 10%|█         | 30/299 [18:33<2:46:16, 37.09s/it]"
          ]
        },
        {
          "name": "stdout",
          "output_type": "stream",
          "text": [
            "f1: 0.7094220110847189\n",
            "accuracy: 0.8342857142857143\n"
          ]
        },
        {
          "name": "stderr",
          "output_type": "stream",
          "text": [
            " 12%|█▏        | 35/299 [21:37<2:42:41, 36.98s/it]"
          ]
        },
        {
          "name": "stdout",
          "output_type": "stream",
          "text": [
            "f1: 0.7448275862068965\n",
            "accuracy: 0.8357142857142857\n"
          ]
        },
        {
          "name": "stderr",
          "output_type": "stream",
          "text": [
            " 13%|█▎        | 40/299 [24:40<2:39:12, 36.88s/it]"
          ]
        },
        {
          "name": "stdout",
          "output_type": "stream",
          "text": [
            "f1: 0.7632565613283342\n",
            "accuracy: 0.8385714285714285\n"
          ]
        },
        {
          "name": "stderr",
          "output_type": "stream",
          "text": [
            " 15%|█▌        | 45/299 [27:43<2:35:50, 36.81s/it]"
          ]
        },
        {
          "name": "stdout",
          "output_type": "stream",
          "text": [
            "f1: 0.7954729183508489\n",
            "accuracy: 0.84\n"
          ]
        },
        {
          "name": "stderr",
          "output_type": "stream",
          "text": [
            " 17%|█▋        | 50/299 [30:47<2:33:26, 36.97s/it]"
          ]
        },
        {
          "name": "stdout",
          "output_type": "stream",
          "text": [
            "f1: 0.8025959978366685\n",
            "accuracy: 0.8371428571428572\n"
          ]
        },
        {
          "name": "stderr",
          "output_type": "stream",
          "text": [
            " 18%|█▊        | 55/299 [33:52<2:30:46, 37.07s/it]"
          ]
        },
        {
          "name": "stdout",
          "output_type": "stream",
          "text": [
            "f1: 0.8159392789373814\n",
            "accuracy: 0.8385714285714285\n"
          ]
        },
        {
          "name": "stderr",
          "output_type": "stream",
          "text": [
            " 20%|██        | 60/299 [36:58<2:28:31, 37.29s/it]"
          ]
        },
        {
          "name": "stdout",
          "output_type": "stream",
          "text": [
            "f1: 0.8278467350242849\n",
            "accuracy: 0.8342857142857143\n"
          ]
        },
        {
          "name": "stderr",
          "output_type": "stream",
          "text": [
            " 22%|██▏       | 65/299 [40:05<2:26:13, 37.49s/it]"
          ]
        },
        {
          "name": "stdout",
          "output_type": "stream",
          "text": [
            "f1: 0.8365122615803815\n",
            "accuracy: 0.8371428571428572\n"
          ]
        },
        {
          "name": "stderr",
          "output_type": "stream",
          "text": [
            " 23%|██▎       | 70/299 [43:11<2:22:14, 37.27s/it]"
          ]
        },
        {
          "name": "stdout",
          "output_type": "stream",
          "text": [
            "f1: 0.8413905486148832\n",
            "accuracy: 0.8385714285714285\n"
          ]
        },
        {
          "name": "stderr",
          "output_type": "stream",
          "text": [
            " 25%|██▌       | 75/299 [46:16<2:19:25, 37.35s/it]"
          ]
        },
        {
          "name": "stdout",
          "output_type": "stream",
          "text": [
            "f1: 0.8382193268186753\n",
            "accuracy: 0.8371428571428572\n"
          ]
        },
        {
          "name": "stderr",
          "output_type": "stream",
          "text": [
            " 27%|██▋       | 80/299 [49:23<2:16:48, 37.48s/it]"
          ]
        },
        {
          "name": "stdout",
          "output_type": "stream",
          "text": [
            "f1: 0.8485178134348653\n",
            "accuracy: 0.8428571428571429\n"
          ]
        },
        {
          "name": "stderr",
          "output_type": "stream",
          "text": [
            " 28%|██▊       | 85/299 [52:29<2:13:42, 37.49s/it]"
          ]
        },
        {
          "name": "stdout",
          "output_type": "stream",
          "text": [
            "f1: 0.8601036269430051\n",
            "accuracy: 0.8371428571428572\n"
          ]
        },
        {
          "name": "stderr",
          "output_type": "stream",
          "text": [
            " 30%|███       | 90/299 [55:35<2:10:11, 37.38s/it]"
          ]
        },
        {
          "name": "stdout",
          "output_type": "stream",
          "text": [
            "f1: 0.8631521442228899\n",
            "accuracy: 0.84\n"
          ]
        },
        {
          "name": "stderr",
          "output_type": "stream",
          "text": [
            " 32%|███▏      | 95/299 [58:41<2:07:16, 37.44s/it]"
          ]
        },
        {
          "name": "stdout",
          "output_type": "stream",
          "text": [
            "f1: 0.8656471873293281\n",
            "accuracy: 0.8414285714285714\n"
          ]
        },
        {
          "name": "stderr",
          "output_type": "stream",
          "text": [
            " 33%|███▎      | 100/299 [1:01:48<2:04:10, 37.44s/it]"
          ]
        },
        {
          "name": "stdout",
          "output_type": "stream",
          "text": [
            "f1: 0.8664477285166939\n",
            "accuracy: 0.8385714285714285\n"
          ]
        },
        {
          "name": "stderr",
          "output_type": "stream",
          "text": [
            " 35%|███▌      | 105/299 [1:04:53<2:00:19, 37.21s/it]"
          ]
        },
        {
          "name": "stdout",
          "output_type": "stream",
          "text": [
            "f1: 0.8598743512701449\n",
            "accuracy: 0.8342857142857143\n"
          ]
        },
        {
          "name": "stderr",
          "output_type": "stream",
          "text": [
            " 37%|███▋      | 110/299 [1:08:00<1:57:47, 37.39s/it]"
          ]
        },
        {
          "name": "stdout",
          "output_type": "stream",
          "text": [
            "f1: 0.8658503401360544\n",
            "accuracy: 0.8385714285714285\n"
          ]
        },
        {
          "name": "stderr",
          "output_type": "stream",
          "text": [
            " 38%|███▊      | 115/299 [1:11:06<1:54:29, 37.34s/it]"
          ]
        },
        {
          "name": "stdout",
          "output_type": "stream",
          "text": [
            "f1: 0.8688301063539678\n",
            "accuracy: 0.8371428571428572\n"
          ]
        },
        {
          "name": "stderr",
          "output_type": "stream",
          "text": [
            " 40%|████      | 120/299 [1:14:14<1:52:14, 37.63s/it]"
          ]
        },
        {
          "name": "stdout",
          "output_type": "stream",
          "text": [
            "f1: 0.8771163298743856\n",
            "accuracy: 0.8357142857142857\n"
          ]
        },
        {
          "name": "stderr",
          "output_type": "stream",
          "text": [
            " 42%|████▏     | 125/299 [1:17:19<1:48:09, 37.30s/it]"
          ]
        },
        {
          "name": "stdout",
          "output_type": "stream",
          "text": [
            "f1: 0.8796270907595284\n",
            "accuracy: 0.8371428571428572\n"
          ]
        },
        {
          "name": "stderr",
          "output_type": "stream",
          "text": [
            " 43%|████▎     | 130/299 [1:20:24<1:44:57, 37.26s/it]"
          ]
        },
        {
          "name": "stdout",
          "output_type": "stream",
          "text": [
            "f1: 0.8855339006313478\n",
            "accuracy: 0.8428571428571429\n"
          ]
        },
        {
          "name": "stderr",
          "output_type": "stream",
          "text": [
            " 45%|████▌     | 135/299 [1:23:30<1:41:35, 37.17s/it]"
          ]
        },
        {
          "name": "stdout",
          "output_type": "stream",
          "text": [
            "f1: 0.8886450905101481\n",
            "accuracy: 0.84\n"
          ]
        },
        {
          "name": "stderr",
          "output_type": "stream",
          "text": [
            " 47%|████▋     | 140/299 [1:26:35<1:38:31, 37.18s/it]"
          ]
        },
        {
          "name": "stdout",
          "output_type": "stream",
          "text": [
            "f1: 0.8784227820372399\n",
            "accuracy: 0.8442857142857143\n"
          ]
        },
        {
          "name": "stderr",
          "output_type": "stream",
          "text": [
            " 48%|████▊     | 145/299 [1:29:41<1:35:32, 37.23s/it]"
          ]
        },
        {
          "name": "stdout",
          "output_type": "stream",
          "text": [
            "f1: 0.8790544255085211\n",
            "accuracy: 0.8385714285714285\n"
          ]
        },
        {
          "name": "stderr",
          "output_type": "stream",
          "text": [
            " 50%|█████     | 150/299 [1:32:46<1:32:19, 37.18s/it]"
          ]
        },
        {
          "name": "stdout",
          "output_type": "stream",
          "text": [
            "f1: 0.886326194398682\n",
            "accuracy: 0.84\n"
          ]
        },
        {
          "name": "stderr",
          "output_type": "stream",
          "text": [
            " 52%|█████▏    | 155/299 [1:35:51<1:29:12, 37.17s/it]"
          ]
        },
        {
          "name": "stdout",
          "output_type": "stream",
          "text": [
            "f1: 0.8811881188118812\n",
            "accuracy: 0.8428571428571429\n"
          ]
        },
        {
          "name": "stderr",
          "output_type": "stream",
          "text": [
            " 53%|█████▎    | 159/299 [1:38:56<1:27:07, 37.34s/it]"
          ]
        },
        {
          "name": "stdout",
          "output_type": "stream",
          "text": [
            "f1: 0.8864509051014811\n",
            "accuracy: 0.8414285714285714\n"
          ]
        },
        {
          "name": "stderr",
          "output_type": "stream",
          "text": [
            "\n"
          ]
        },
        {
          "name": "stdout",
          "output_type": "stream",
          "text": [
            "\n",
            "Slot F1:  0.871\n",
            "Intent Accuracy: 0.789\n"
          ]
        }
      ],
      "source": [
        "slot_model_SNIPS.apply(init_weights)\n",
        "intent_model_SNIPS.apply(init_weights)\n",
        "results_test_SNIPS, intents_test_SNIPS, sampled_epochs_SNIPS, intent_losses_train_SNIPS, slot_losses_train_SNIPS, intent_losses_dev_SNIPS, slot_losses_dev_SNIPS, cm_slot_SNIPS, cm_intent_SNIPS = train_BI_model(dev_loader_SNIPS,\n",
        "                                                                                                                                                                                                train_loader_SNIPS, \n",
        "                                                                                                                                                                                                test_loader_SNIPS, \n",
        "                                                                                                                                                                                                slot_model_SNIPS,\n",
        "                                                                                                                                                                                                intent_model_SNIPS,\n",
        "                                                                                                                                                                                                lang_SNIPS, \n",
        "                                                                                                                                                                                                criterion_intents, \n",
        "                                                                                                                                                                                                criterion_slots, \n",
        "                                                                                                                                                                                                slot_optimizer_SNIPS,\n",
        "                                                                                                                                                                                                intent_optimizer_SNIPS)\n",
        "print('\\nSlot F1: ', round(results_test_SNIPS['total']['f-measure'],3))\n",
        "print('Intent Accuracy:', round(intents_test_SNIPS['accuracy'],3))"
      ]
    },
    {
      "cell_type": "code",
      "execution_count": null,
      "metadata": {
        "colab": {
          "base_uri": "https://localhost:8080/",
          "height": 1000
        },
        "id": "2lWIkDQIrEwv",
        "outputId": "c408a77a-0c3e-4f87-9827-f4a2ad7da43c"
      },
      "outputs": [
        {
          "data": {
            "text/html": [
              "\n",
              "  <div id=\"df-e9b0b3b8-84c9-4e27-827f-ee87e571147f\">\n",
              "    <div class=\"colab-df-container\">\n",
              "      <div>\n",
              "<style scoped>\n",
              "    .dataframe tbody tr th:only-of-type {\n",
              "        vertical-align: middle;\n",
              "    }\n",
              "\n",
              "    .dataframe tbody tr th {\n",
              "        vertical-align: top;\n",
              "    }\n",
              "\n",
              "    .dataframe thead th {\n",
              "        text-align: right;\n",
              "    }\n",
              "</style>\n",
              "<table border=\"1\" class=\"dataframe\">\n",
              "  <thead>\n",
              "    <tr style=\"text-align: right;\">\n",
              "      <th></th>\n",
              "      <th>precision</th>\n",
              "      <th>recall</th>\n",
              "      <th>f-measure</th>\n",
              "      <th>support</th>\n",
              "    </tr>\n",
              "  </thead>\n",
              "  <tbody>\n",
              "    <tr>\n",
              "      <th>best_rating</th>\n",
              "      <td>1.000</td>\n",
              "      <td>1.000</td>\n",
              "      <td>1.000</td>\n",
              "      <td>43</td>\n",
              "    </tr>\n",
              "    <tr>\n",
              "      <th>party_size_number</th>\n",
              "      <td>1.000</td>\n",
              "      <td>1.000</td>\n",
              "      <td>1.000</td>\n",
              "      <td>50</td>\n",
              "    </tr>\n",
              "    <tr>\n",
              "      <th>rating_unit</th>\n",
              "      <td>1.000</td>\n",
              "      <td>1.000</td>\n",
              "      <td>1.000</td>\n",
              "      <td>40</td>\n",
              "    </tr>\n",
              "    <tr>\n",
              "      <th>object_location_type</th>\n",
              "      <td>1.000</td>\n",
              "      <td>1.000</td>\n",
              "      <td>1.000</td>\n",
              "      <td>22</td>\n",
              "    </tr>\n",
              "    <tr>\n",
              "      <th>movie_type</th>\n",
              "      <td>1.000</td>\n",
              "      <td>1.000</td>\n",
              "      <td>1.000</td>\n",
              "      <td>33</td>\n",
              "    </tr>\n",
              "    <tr>\n",
              "      <th>object_select</th>\n",
              "      <td>1.000</td>\n",
              "      <td>1.000</td>\n",
              "      <td>1.000</td>\n",
              "      <td>40</td>\n",
              "    </tr>\n",
              "    <tr>\n",
              "      <th>rating_value</th>\n",
              "      <td>1.000</td>\n",
              "      <td>0.988</td>\n",
              "      <td>0.994</td>\n",
              "      <td>80</td>\n",
              "    </tr>\n",
              "    <tr>\n",
              "      <th>playlist_owner</th>\n",
              "      <td>0.986</td>\n",
              "      <td>0.971</td>\n",
              "      <td>0.978</td>\n",
              "      <td>70</td>\n",
              "    </tr>\n",
              "    <tr>\n",
              "      <th>condition_temperature</th>\n",
              "      <td>1.000</td>\n",
              "      <td>0.957</td>\n",
              "      <td>0.978</td>\n",
              "      <td>23</td>\n",
              "    </tr>\n",
              "    <tr>\n",
              "      <th>sort</th>\n",
              "      <td>0.941</td>\n",
              "      <td>1.000</td>\n",
              "      <td>0.970</td>\n",
              "      <td>32</td>\n",
              "    </tr>\n",
              "    <tr>\n",
              "      <th>restaurant_type</th>\n",
              "      <td>0.984</td>\n",
              "      <td>0.954</td>\n",
              "      <td>0.969</td>\n",
              "      <td>65</td>\n",
              "    </tr>\n",
              "    <tr>\n",
              "      <th>current_location</th>\n",
              "      <td>1.000</td>\n",
              "      <td>0.929</td>\n",
              "      <td>0.963</td>\n",
              "      <td>14</td>\n",
              "    </tr>\n",
              "    <tr>\n",
              "      <th>music_item</th>\n",
              "      <td>0.936</td>\n",
              "      <td>0.981</td>\n",
              "      <td>0.958</td>\n",
              "      <td>104</td>\n",
              "    </tr>\n",
              "    <tr>\n",
              "      <th>object_type</th>\n",
              "      <td>0.945</td>\n",
              "      <td>0.963</td>\n",
              "      <td>0.954</td>\n",
              "      <td>162</td>\n",
              "    </tr>\n",
              "    <tr>\n",
              "      <th>spatial_relation</th>\n",
              "      <td>0.918</td>\n",
              "      <td>0.944</td>\n",
              "      <td>0.931</td>\n",
              "      <td>71</td>\n",
              "    </tr>\n",
              "    <tr>\n",
              "      <th>service</th>\n",
              "      <td>0.885</td>\n",
              "      <td>0.958</td>\n",
              "      <td>0.920</td>\n",
              "      <td>24</td>\n",
              "    </tr>\n",
              "    <tr>\n",
              "      <th>location_name</th>\n",
              "      <td>0.917</td>\n",
              "      <td>0.917</td>\n",
              "      <td>0.917</td>\n",
              "      <td>24</td>\n",
              "    </tr>\n",
              "    <tr>\n",
              "      <th>playlist</th>\n",
              "      <td>0.902</td>\n",
              "      <td>0.930</td>\n",
              "      <td>0.916</td>\n",
              "      <td>129</td>\n",
              "    </tr>\n",
              "    <tr>\n",
              "      <th>state</th>\n",
              "      <td>0.945</td>\n",
              "      <td>0.881</td>\n",
              "      <td>0.912</td>\n",
              "      <td>59</td>\n",
              "    </tr>\n",
              "    <tr>\n",
              "      <th>condition_description</th>\n",
              "      <td>0.926</td>\n",
              "      <td>0.893</td>\n",
              "      <td>0.909</td>\n",
              "      <td>28</td>\n",
              "    </tr>\n",
              "    <tr>\n",
              "      <th>year</th>\n",
              "      <td>0.828</td>\n",
              "      <td>1.000</td>\n",
              "      <td>0.906</td>\n",
              "      <td>24</td>\n",
              "    </tr>\n",
              "    <tr>\n",
              "      <th>party_size_description</th>\n",
              "      <td>0.900</td>\n",
              "      <td>0.900</td>\n",
              "      <td>0.900</td>\n",
              "      <td>10</td>\n",
              "    </tr>\n",
              "    <tr>\n",
              "      <th>timeRange</th>\n",
              "      <td>0.873</td>\n",
              "      <td>0.897</td>\n",
              "      <td>0.885</td>\n",
              "      <td>107</td>\n",
              "    </tr>\n",
              "    <tr>\n",
              "      <th>total</th>\n",
              "      <td>0.851</td>\n",
              "      <td>0.892</td>\n",
              "      <td>0.871</td>\n",
              "      <td>1790</td>\n",
              "    </tr>\n",
              "    <tr>\n",
              "      <th>object_part_of_series_type</th>\n",
              "      <td>0.833</td>\n",
              "      <td>0.909</td>\n",
              "      <td>0.870</td>\n",
              "      <td>11</td>\n",
              "    </tr>\n",
              "    <tr>\n",
              "      <th>geographic_poi</th>\n",
              "      <td>0.833</td>\n",
              "      <td>0.909</td>\n",
              "      <td>0.870</td>\n",
              "      <td>11</td>\n",
              "    </tr>\n",
              "    <tr>\n",
              "      <th>facility</th>\n",
              "      <td>0.750</td>\n",
              "      <td>1.000</td>\n",
              "      <td>0.857</td>\n",
              "      <td>3</td>\n",
              "    </tr>\n",
              "    <tr>\n",
              "      <th>city</th>\n",
              "      <td>0.739</td>\n",
              "      <td>0.850</td>\n",
              "      <td>0.791</td>\n",
              "      <td>60</td>\n",
              "    </tr>\n",
              "    <tr>\n",
              "      <th>object_name</th>\n",
              "      <td>0.723</td>\n",
              "      <td>0.782</td>\n",
              "      <td>0.752</td>\n",
              "      <td>147</td>\n",
              "    </tr>\n",
              "    <tr>\n",
              "      <th>poi</th>\n",
              "      <td>0.750</td>\n",
              "      <td>0.750</td>\n",
              "      <td>0.750</td>\n",
              "      <td>8</td>\n",
              "    </tr>\n",
              "    <tr>\n",
              "      <th>cuisine</th>\n",
              "      <td>1.000</td>\n",
              "      <td>0.571</td>\n",
              "      <td>0.727</td>\n",
              "      <td>14</td>\n",
              "    </tr>\n",
              "    <tr>\n",
              "      <th>artist</th>\n",
              "      <td>0.738</td>\n",
              "      <td>0.710</td>\n",
              "      <td>0.724</td>\n",
              "      <td>107</td>\n",
              "    </tr>\n",
              "    <tr>\n",
              "      <th>country</th>\n",
              "      <td>0.660</td>\n",
              "      <td>0.750</td>\n",
              "      <td>0.702</td>\n",
              "      <td>44</td>\n",
              "    </tr>\n",
              "    <tr>\n",
              "      <th>restaurant_name</th>\n",
              "      <td>0.611</td>\n",
              "      <td>0.733</td>\n",
              "      <td>0.667</td>\n",
              "      <td>15</td>\n",
              "    </tr>\n",
              "    <tr>\n",
              "      <th>movie_name</th>\n",
              "      <td>0.660</td>\n",
              "      <td>0.660</td>\n",
              "      <td>0.660</td>\n",
              "      <td>47</td>\n",
              "    </tr>\n",
              "    <tr>\n",
              "      <th>served_dish</th>\n",
              "      <td>0.562</td>\n",
              "      <td>0.750</td>\n",
              "      <td>0.643</td>\n",
              "      <td>12</td>\n",
              "    </tr>\n",
              "    <tr>\n",
              "      <th>genre</th>\n",
              "      <td>0.385</td>\n",
              "      <td>1.000</td>\n",
              "      <td>0.556</td>\n",
              "      <td>5</td>\n",
              "    </tr>\n",
              "    <tr>\n",
              "      <th>entity_name</th>\n",
              "      <td>0.435</td>\n",
              "      <td>0.606</td>\n",
              "      <td>0.506</td>\n",
              "      <td>33</td>\n",
              "    </tr>\n",
              "    <tr>\n",
              "      <th>track</th>\n",
              "      <td>0.222</td>\n",
              "      <td>0.444</td>\n",
              "      <td>0.296</td>\n",
              "      <td>9</td>\n",
              "    </tr>\n",
              "    <tr>\n",
              "      <th>album</th>\n",
              "      <td>0.208</td>\n",
              "      <td>0.500</td>\n",
              "      <td>0.294</td>\n",
              "      <td>10</td>\n",
              "    </tr>\n",
              "  </tbody>\n",
              "</table>\n",
              "</div>\n",
              "      <button class=\"colab-df-convert\" onclick=\"convertToInteractive('df-e9b0b3b8-84c9-4e27-827f-ee87e571147f')\"\n",
              "              title=\"Convert this dataframe to an interactive table.\"\n",
              "              style=\"display:none;\">\n",
              "        \n",
              "  <svg xmlns=\"http://www.w3.org/2000/svg\" height=\"24px\"viewBox=\"0 0 24 24\"\n",
              "       width=\"24px\">\n",
              "    <path d=\"M0 0h24v24H0V0z\" fill=\"none\"/>\n",
              "    <path d=\"M18.56 5.44l.94 2.06.94-2.06 2.06-.94-2.06-.94-.94-2.06-.94 2.06-2.06.94zm-11 1L8.5 8.5l.94-2.06 2.06-.94-2.06-.94L8.5 2.5l-.94 2.06-2.06.94zm10 10l.94 2.06.94-2.06 2.06-.94-2.06-.94-.94-2.06-.94 2.06-2.06.94z\"/><path d=\"M17.41 7.96l-1.37-1.37c-.4-.4-.92-.59-1.43-.59-.52 0-1.04.2-1.43.59L10.3 9.45l-7.72 7.72c-.78.78-.78 2.05 0 2.83L4 21.41c.39.39.9.59 1.41.59.51 0 1.02-.2 1.41-.59l7.78-7.78 2.81-2.81c.8-.78.8-2.07 0-2.86zM5.41 20L4 18.59l7.72-7.72 1.47 1.35L5.41 20z\"/>\n",
              "  </svg>\n",
              "      </button>\n",
              "      \n",
              "  <style>\n",
              "    .colab-df-container {\n",
              "      display:flex;\n",
              "      flex-wrap:wrap;\n",
              "      gap: 12px;\n",
              "    }\n",
              "\n",
              "    .colab-df-convert {\n",
              "      background-color: #E8F0FE;\n",
              "      border: none;\n",
              "      border-radius: 50%;\n",
              "      cursor: pointer;\n",
              "      display: none;\n",
              "      fill: #1967D2;\n",
              "      height: 32px;\n",
              "      padding: 0 0 0 0;\n",
              "      width: 32px;\n",
              "    }\n",
              "\n",
              "    .colab-df-convert:hover {\n",
              "      background-color: #E2EBFA;\n",
              "      box-shadow: 0px 1px 2px rgba(60, 64, 67, 0.3), 0px 1px 3px 1px rgba(60, 64, 67, 0.15);\n",
              "      fill: #174EA6;\n",
              "    }\n",
              "\n",
              "    [theme=dark] .colab-df-convert {\n",
              "      background-color: #3B4455;\n",
              "      fill: #D2E3FC;\n",
              "    }\n",
              "\n",
              "    [theme=dark] .colab-df-convert:hover {\n",
              "      background-color: #434B5C;\n",
              "      box-shadow: 0px 1px 3px 1px rgba(0, 0, 0, 0.15);\n",
              "      filter: drop-shadow(0px 1px 2px rgba(0, 0, 0, 0.3));\n",
              "      fill: #FFFFFF;\n",
              "    }\n",
              "  </style>\n",
              "\n",
              "      <script>\n",
              "        const buttonEl =\n",
              "          document.querySelector('#df-e9b0b3b8-84c9-4e27-827f-ee87e571147f button.colab-df-convert');\n",
              "        buttonEl.style.display =\n",
              "          google.colab.kernel.accessAllowed ? 'block' : 'none';\n",
              "\n",
              "        async function convertToInteractive(key) {\n",
              "          const element = document.querySelector('#df-e9b0b3b8-84c9-4e27-827f-ee87e571147f');\n",
              "          const dataTable =\n",
              "            await google.colab.kernel.invokeFunction('convertToInteractive',\n",
              "                                                     [key], {});\n",
              "          if (!dataTable) return;\n",
              "\n",
              "          const docLinkHtml = 'Like what you see? Visit the ' +\n",
              "            '<a target=\"_blank\" href=https://colab.research.google.com/notebooks/data_table.ipynb>data table notebook</a>'\n",
              "            + ' to learn more about interactive tables.';\n",
              "          element.innerHTML = '';\n",
              "          dataTable['output_type'] = 'display_data';\n",
              "          await google.colab.output.renderOutput(dataTable, element);\n",
              "          const docLink = document.createElement('div');\n",
              "          docLink.innerHTML = docLinkHtml;\n",
              "          element.appendChild(docLink);\n",
              "        }\n",
              "      </script>\n",
              "    </div>\n",
              "  </div>\n",
              "  "
            ],
            "text/plain": [
              "                            precision  recall  f-measure  support\n",
              "best_rating                     1.000   1.000      1.000       43\n",
              "party_size_number               1.000   1.000      1.000       50\n",
              "rating_unit                     1.000   1.000      1.000       40\n",
              "object_location_type            1.000   1.000      1.000       22\n",
              "movie_type                      1.000   1.000      1.000       33\n",
              "object_select                   1.000   1.000      1.000       40\n",
              "rating_value                    1.000   0.988      0.994       80\n",
              "playlist_owner                  0.986   0.971      0.978       70\n",
              "condition_temperature           1.000   0.957      0.978       23\n",
              "sort                            0.941   1.000      0.970       32\n",
              "restaurant_type                 0.984   0.954      0.969       65\n",
              "current_location                1.000   0.929      0.963       14\n",
              "music_item                      0.936   0.981      0.958      104\n",
              "object_type                     0.945   0.963      0.954      162\n",
              "spatial_relation                0.918   0.944      0.931       71\n",
              "service                         0.885   0.958      0.920       24\n",
              "location_name                   0.917   0.917      0.917       24\n",
              "playlist                        0.902   0.930      0.916      129\n",
              "state                           0.945   0.881      0.912       59\n",
              "condition_description           0.926   0.893      0.909       28\n",
              "year                            0.828   1.000      0.906       24\n",
              "party_size_description          0.900   0.900      0.900       10\n",
              "timeRange                       0.873   0.897      0.885      107\n",
              "total                           0.851   0.892      0.871     1790\n",
              "object_part_of_series_type      0.833   0.909      0.870       11\n",
              "geographic_poi                  0.833   0.909      0.870       11\n",
              "facility                        0.750   1.000      0.857        3\n",
              "city                            0.739   0.850      0.791       60\n",
              "object_name                     0.723   0.782      0.752      147\n",
              "poi                             0.750   0.750      0.750        8\n",
              "cuisine                         1.000   0.571      0.727       14\n",
              "artist                          0.738   0.710      0.724      107\n",
              "country                         0.660   0.750      0.702       44\n",
              "restaurant_name                 0.611   0.733      0.667       15\n",
              "movie_name                      0.660   0.660      0.660       47\n",
              "served_dish                     0.562   0.750      0.643       12\n",
              "genre                           0.385   1.000      0.556        5\n",
              "entity_name                     0.435   0.606      0.506       33\n",
              "track                           0.222   0.444      0.296        9\n",
              "album                           0.208   0.500      0.294       10"
            ]
          },
          "execution_count": 50,
          "metadata": {},
          "output_type": "execute_result"
        }
      ],
      "source": [
        "pd_tbl = pd.DataFrame().from_dict({k: v for k, v in sorted(results_test_SNIPS.items(), key=lambda x: x[1]['f-measure'], reverse = True)}, orient='index')\n",
        "pd_tbl.round(decimals=3)"
      ]
    },
    {
      "cell_type": "code",
      "execution_count": null,
      "metadata": {
        "colab": {
          "base_uri": "https://localhost:8080/",
          "height": 322
        },
        "id": "0pNBgefYrEMB",
        "outputId": "f4fe73ce-c0e3-4a57-ba96-8d185067fb8b"
      },
      "outputs": [
        {
          "data": {
            "text/html": [
              "\n",
              "  <div id=\"df-b94ad45c-52ad-4895-a764-6d68c8e231f6\">\n",
              "    <div class=\"colab-df-container\">\n",
              "      <div>\n",
              "<style scoped>\n",
              "    .dataframe tbody tr th:only-of-type {\n",
              "        vertical-align: middle;\n",
              "    }\n",
              "\n",
              "    .dataframe tbody tr th {\n",
              "        vertical-align: top;\n",
              "    }\n",
              "\n",
              "    .dataframe thead th {\n",
              "        text-align: right;\n",
              "    }\n",
              "</style>\n",
              "<table border=\"1\" class=\"dataframe\">\n",
              "  <thead>\n",
              "    <tr style=\"text-align: right;\">\n",
              "      <th></th>\n",
              "      <th>precision</th>\n",
              "      <th>recall</th>\n",
              "      <th>f1-score</th>\n",
              "      <th>support</th>\n",
              "    </tr>\n",
              "  </thead>\n",
              "  <tbody>\n",
              "    <tr>\n",
              "      <th>GetWeather</th>\n",
              "      <td>0.990</td>\n",
              "      <td>0.981</td>\n",
              "      <td>0.986</td>\n",
              "      <td>104</td>\n",
              "    </tr>\n",
              "    <tr>\n",
              "      <th>BookRestaurant</th>\n",
              "      <td>0.978</td>\n",
              "      <td>0.978</td>\n",
              "      <td>0.978</td>\n",
              "      <td>92</td>\n",
              "    </tr>\n",
              "    <tr>\n",
              "      <th>RateBook</th>\n",
              "      <td>0.930</td>\n",
              "      <td>1.000</td>\n",
              "      <td>0.964</td>\n",
              "      <td>80</td>\n",
              "    </tr>\n",
              "    <tr>\n",
              "      <th>SearchScreeningEvent</th>\n",
              "      <td>0.961</td>\n",
              "      <td>0.916</td>\n",
              "      <td>0.938</td>\n",
              "      <td>107</td>\n",
              "    </tr>\n",
              "    <tr>\n",
              "      <th>SearchCreativeWork</th>\n",
              "      <td>0.923</td>\n",
              "      <td>0.897</td>\n",
              "      <td>0.910</td>\n",
              "      <td>107</td>\n",
              "    </tr>\n",
              "    <tr>\n",
              "      <th>macro avg</th>\n",
              "      <td>0.741</td>\n",
              "      <td>0.825</td>\n",
              "      <td>0.764</td>\n",
              "      <td>700</td>\n",
              "    </tr>\n",
              "    <tr>\n",
              "      <th>weighted avg</th>\n",
              "      <td>0.720</td>\n",
              "      <td>0.789</td>\n",
              "      <td>0.738</td>\n",
              "      <td>700</td>\n",
              "    </tr>\n",
              "    <tr>\n",
              "      <th>PlayMusic</th>\n",
              "      <td>0.404</td>\n",
              "      <td>1.000</td>\n",
              "      <td>0.575</td>\n",
              "      <td>86</td>\n",
              "    </tr>\n",
              "    <tr>\n",
              "      <th>AddToPlaylist</th>\n",
              "      <td>0.000</td>\n",
              "      <td>0.000</td>\n",
              "      <td>0.000</td>\n",
              "      <td>124</td>\n",
              "    </tr>\n",
              "  </tbody>\n",
              "</table>\n",
              "</div>\n",
              "      <button class=\"colab-df-convert\" onclick=\"convertToInteractive('df-b94ad45c-52ad-4895-a764-6d68c8e231f6')\"\n",
              "              title=\"Convert this dataframe to an interactive table.\"\n",
              "              style=\"display:none;\">\n",
              "        \n",
              "  <svg xmlns=\"http://www.w3.org/2000/svg\" height=\"24px\"viewBox=\"0 0 24 24\"\n",
              "       width=\"24px\">\n",
              "    <path d=\"M0 0h24v24H0V0z\" fill=\"none\"/>\n",
              "    <path d=\"M18.56 5.44l.94 2.06.94-2.06 2.06-.94-2.06-.94-.94-2.06-.94 2.06-2.06.94zm-11 1L8.5 8.5l.94-2.06 2.06-.94-2.06-.94L8.5 2.5l-.94 2.06-2.06.94zm10 10l.94 2.06.94-2.06 2.06-.94-2.06-.94-.94-2.06-.94 2.06-2.06.94z\"/><path d=\"M17.41 7.96l-1.37-1.37c-.4-.4-.92-.59-1.43-.59-.52 0-1.04.2-1.43.59L10.3 9.45l-7.72 7.72c-.78.78-.78 2.05 0 2.83L4 21.41c.39.39.9.59 1.41.59.51 0 1.02-.2 1.41-.59l7.78-7.78 2.81-2.81c.8-.78.8-2.07 0-2.86zM5.41 20L4 18.59l7.72-7.72 1.47 1.35L5.41 20z\"/>\n",
              "  </svg>\n",
              "      </button>\n",
              "      \n",
              "  <style>\n",
              "    .colab-df-container {\n",
              "      display:flex;\n",
              "      flex-wrap:wrap;\n",
              "      gap: 12px;\n",
              "    }\n",
              "\n",
              "    .colab-df-convert {\n",
              "      background-color: #E8F0FE;\n",
              "      border: none;\n",
              "      border-radius: 50%;\n",
              "      cursor: pointer;\n",
              "      display: none;\n",
              "      fill: #1967D2;\n",
              "      height: 32px;\n",
              "      padding: 0 0 0 0;\n",
              "      width: 32px;\n",
              "    }\n",
              "\n",
              "    .colab-df-convert:hover {\n",
              "      background-color: #E2EBFA;\n",
              "      box-shadow: 0px 1px 2px rgba(60, 64, 67, 0.3), 0px 1px 3px 1px rgba(60, 64, 67, 0.15);\n",
              "      fill: #174EA6;\n",
              "    }\n",
              "\n",
              "    [theme=dark] .colab-df-convert {\n",
              "      background-color: #3B4455;\n",
              "      fill: #D2E3FC;\n",
              "    }\n",
              "\n",
              "    [theme=dark] .colab-df-convert:hover {\n",
              "      background-color: #434B5C;\n",
              "      box-shadow: 0px 1px 3px 1px rgba(0, 0, 0, 0.15);\n",
              "      filter: drop-shadow(0px 1px 2px rgba(0, 0, 0, 0.3));\n",
              "      fill: #FFFFFF;\n",
              "    }\n",
              "  </style>\n",
              "\n",
              "      <script>\n",
              "        const buttonEl =\n",
              "          document.querySelector('#df-b94ad45c-52ad-4895-a764-6d68c8e231f6 button.colab-df-convert');\n",
              "        buttonEl.style.display =\n",
              "          google.colab.kernel.accessAllowed ? 'block' : 'none';\n",
              "\n",
              "        async function convertToInteractive(key) {\n",
              "          const element = document.querySelector('#df-b94ad45c-52ad-4895-a764-6d68c8e231f6');\n",
              "          const dataTable =\n",
              "            await google.colab.kernel.invokeFunction('convertToInteractive',\n",
              "                                                     [key], {});\n",
              "          if (!dataTable) return;\n",
              "\n",
              "          const docLinkHtml = 'Like what you see? Visit the ' +\n",
              "            '<a target=\"_blank\" href=https://colab.research.google.com/notebooks/data_table.ipynb>data table notebook</a>'\n",
              "            + ' to learn more about interactive tables.';\n",
              "          element.innerHTML = '';\n",
              "          dataTable['output_type'] = 'display_data';\n",
              "          await google.colab.output.renderOutput(dataTable, element);\n",
              "          const docLink = document.createElement('div');\n",
              "          docLink.innerHTML = docLinkHtml;\n",
              "          element.appendChild(docLink);\n",
              "        }\n",
              "      </script>\n",
              "    </div>\n",
              "  </div>\n",
              "  "
            ],
            "text/plain": [
              "                      precision  recall  f1-score  support\n",
              "GetWeather                0.990   0.981     0.986      104\n",
              "BookRestaurant            0.978   0.978     0.978       92\n",
              "RateBook                  0.930   1.000     0.964       80\n",
              "SearchScreeningEvent      0.961   0.916     0.938      107\n",
              "SearchCreativeWork        0.923   0.897     0.910      107\n",
              "macro avg                 0.741   0.825     0.764      700\n",
              "weighted avg              0.720   0.789     0.738      700\n",
              "PlayMusic                 0.404   1.000     0.575       86\n",
              "AddToPlaylist             0.000   0.000     0.000      124"
            ]
          },
          "execution_count": 51,
          "metadata": {},
          "output_type": "execute_result"
        }
      ],
      "source": [
        "intents_test_SNIPS.pop('accuracy')\n",
        "pd_tbl = pd.DataFrame().from_dict({k: v for k, v in sorted(intents_test_SNIPS.items(), key=lambda x: x[1]['f1-score'], reverse = True)}, orient='index')\n",
        "pd_tbl.round(decimals=3)"
      ]
    },
    {
      "cell_type": "code",
      "execution_count": null,
      "metadata": {
        "colab": {
          "base_uri": "https://localhost:8080/",
          "height": 349
        },
        "id": "GI5y8t8LBc59",
        "outputId": "4bf2c2fb-a217-4fe6-aa08-c00d65b630c3"
      },
      "outputs": [
        {
          "data": {
            "image/png": "[encoded data removed]",
            "text/plain": [
              "<Figure size 576x360 with 1 Axes>"
            ]
          },
          "metadata": {},
          "output_type": "display_data"
        }
      ],
      "source": [
        "plt.figure(num = 3, figsize=(8, 5)).patch.set_facecolor('white')\n",
        "plt.title('Train and Dev Losses intent task SNIPS dataset')\n",
        "plt.ylabel('Loss')\n",
        "plt.xlabel('Epochs')\n",
        "plt.plot(sampled_epochs_SNIPS, intent_losses_train_SNIPS, label='Train loss')\n",
        "plt.plot(sampled_epochs_SNIPS, intent_losses_dev_SNIPS, label='Dev loss')\n",
        "plt.legend()\n",
        "plt.show()"
      ]
    },
    {
      "cell_type": "code",
      "execution_count": null,
      "metadata": {
        "colab": {
          "base_uri": "https://localhost:8080/",
          "height": 349
        },
        "id": "5TDDe4tfBc59",
        "outputId": "1a917f6d-ac8a-4ceb-9403-cd34d1ca6301"
      },
      "outputs": [
        {
          "data": {
            "image/png": "[encoded data removed]",
            "text/plain": [
              "<Figure size 576x360 with 1 Axes>"
            ]
          },
          "metadata": {},
          "output_type": "display_data"
        }
      ],
      "source": [
        "plt.figure(num = 3, figsize=(8, 5)).patch.set_facecolor('white')\n",
        "plt.title('Train and Dev Losses slot task SNIPS dataset')\n",
        "plt.ylabel('Loss')\n",
        "plt.xlabel('Epochs')\n",
        "plt.plot(sampled_epochs_SNIPS, slot_losses_train_SNIPS, label='Train loss')\n",
        "plt.plot(sampled_epochs_SNIPS, slot_losses_dev_SNIPS, label='Dev loss')\n",
        "plt.legend()\n",
        "plt.show()"
      ]
    },
    {
      "cell_type": "code",
      "execution_count": null,
      "metadata": {
        "colab": {
          "base_uri": "https://localhost:8080/",
          "height": 607
        },
        "id": "iGNx09R8vddw",
        "outputId": "e772e89d-c96d-4e0a-db1c-33ea59b075dd"
      },
      "outputs": [
        {
          "data": {
            "text/plain": [
              "<matplotlib.image.AxesImage at 0x7f703c329090>"
            ]
          },
          "execution_count": 54,
          "metadata": {},
          "output_type": "execute_result"
        },
        {
          "data": {
            "image/png": "[encoded data removed]",
            "text/plain": [
              "<Figure size 720x720 with 1 Axes>"
            ]
          },
          "metadata": {
            "needs_background": "light"
          },
          "output_type": "display_data"
        }
      ],
      "source": [
        "mp.pyplot.figure(figsize = (10,10))\n",
        "mp.pyplot.imshow(cm_intent_SNIPS, norm = mp.colors.Normalize(vmin = 0, vmax = 255))"
      ]
    },
    {
      "cell_type": "code",
      "execution_count": null,
      "metadata": {
        "colab": {
          "base_uri": "https://localhost:8080/",
          "height": 607
        },
        "id": "dAGWcbM3vgXj",
        "outputId": "524a942b-7969-4967-fc99-6a7d50cee533"
      },
      "outputs": [
        {
          "data": {
            "text/plain": [
              "<matplotlib.image.AxesImage at 0x7f703c0761d0>"
            ]
          },
          "execution_count": 55,
          "metadata": {},
          "output_type": "execute_result"
        },
        {
          "data": {
            "image/png": "[encoded data removed]",
            "text/plain": [
              "<Figure size 720x720 with 1 Axes>"
            ]
          },
          "metadata": {
            "needs_background": "light"
          },
          "output_type": "display_data"
        }
      ],
      "source": [
        "mp.pyplot.figure(figsize = (10,10))\n",
        "mp.pyplot.imshow(cm_slot_SNIPS, norm = mp.colors.Normalize(vmin = 0, vmax = 255))"
      ]
    },
    {
      "cell_type": "code",
      "execution_count": null,
      "metadata": {
        "id": "9NSPJhsxvm31"
      },
      "outputs": [],
      "source": []
    }
  ],
  "metadata": {
    "accelerator": "GPU",
    "colab": {
      "collapsed_sections": [],
      "name": "project_5.1.ipynb",
      "provenance": []
    },
    "gpuClass": "standard",
    "interpreter": {
      "hash": "aee8b7b246df8f9039afb4144a1f6fd8d2ca17a180786b69acc140d282b71a49"
    },
    "kernelspec": {
      "display_name": "Python 3.8.0 64-bit",
      "language": "python",
      "name": "python3"
    },
    "language_info": {
      "codemirror_mode": {
        "name": "ipython",
        "version": 3
      },
      "file_extension": ".py",
      "mimetype": "text/x-python",
      "name": "python",
      "nbconvert_exporter": "python",
      "pygments_lexer": "ipython3",
      "version": "3.8.0"
    },
    "orig_nbformat": 4
  },
  "nbformat": 4,
  "nbformat_minor": 0
}
